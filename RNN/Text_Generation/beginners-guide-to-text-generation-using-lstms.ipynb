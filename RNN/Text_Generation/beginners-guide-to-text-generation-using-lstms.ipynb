{
 "cells": [
  {
   "cell_type": "markdown",
   "metadata": {
    "_cell_guid": "e084e610-8128-4769-ab64-6aa194044892",
    "_uuid": "20c011dd401be7b6448c43f965e5d0bf548c53b9"
   },
   "source": [
    "# Beginners Guide to Text Generation using LSTMs\n",
    "\n",
    "Text Generation is a type of Language Modelling problem. Language Modelling is the core problem for a number of of natural language processing tasks such as speech to text, conversational system, and text summarization. A trained language model learns the likelihood of occurrence of a word based on the previous sequence of words used in the text. Language models can be operated at character level, n-gram level, sentence level or even paragraph level. In this notebook, I will explain how to create a language model for generating natural language text by implement and training state-of-the-art Recurrent Neural Network. \n",
    "\n",
    "### Generating News headlines \n",
    "\n",
    "In this kernel, I will be using the dataset of [New York Times Comments and Headlines](https://www.kaggle.com/aashita/nyt-comments) to train a text generation language model which can be used to generate News Headlines\n",
    "\n",
    "\n",
    "## 1. Import the libraries\n",
    "\n",
    "As the first step, we need to import the required libraries:"
   ]
  },
  {
   "cell_type": "code",
   "execution_count": 3,
   "metadata": {
    "_cell_guid": "b1076dfc-b9ad-4769-8c92-a6c4dae69d19",
    "_uuid": "8f2839f25d086af736a60e9eeb907d3b93b6e0e5",
    "execution": {
     "iopub.execute_input": "2023-05-07T17:13:45.954675Z",
     "iopub.status.busy": "2023-05-07T17:13:45.954321Z",
     "iopub.status.idle": "2023-05-07T17:13:45.959626Z",
     "shell.execute_reply": "2023-05-07T17:13:45.958855Z",
     "shell.execute_reply.started": "2023-05-07T17:13:45.954651Z"
    },
    "tags": []
   },
   "outputs": [],
   "source": [
    "# keras module for building LSTM \n",
    "from keras.preprocessing.sequence import pad_sequences\n",
    "from keras.layers import Embedding, LSTM, Dense, Dropout\n",
    "from keras.preprocessing.text import Tokenizer\n",
    "from keras.callbacks import EarlyStopping\n",
    "from keras.models import Sequential\n",
    "import keras.utils as ku \n",
    "\n",
    "# set seeds for reproducability\n",
    "# from tensorflow import set_random_seed\n",
    "# from numpy.random import seed\n",
    "# set_random_seed(2)\n",
    "# seed(1)\n",
    "\n",
    "import pandas as pd\n",
    "import numpy as np\n",
    "import string, os \n",
    "\n",
    "import warnings\n",
    "warnings.filterwarnings(\"ignore\")\n",
    "warnings.simplefilter(action='ignore', category=FutureWarning)"
   ]
  },
  {
   "cell_type": "markdown",
   "metadata": {
    "_cell_guid": "79c7e3d0-c299-4dcb-8224-4455121ee9b0",
    "_uuid": "d629ff2d2480ee46fbb7e2d37f6b5fab8052498a"
   },
   "source": [
    "## 2. Load the dataset\n",
    "\n",
    "Load the dataset of news headlines"
   ]
  },
  {
   "cell_type": "code",
   "execution_count": 4,
   "metadata": {
    "_cell_guid": "b8ef1429-ff19-4a6c-92d7-af8cc61c55f7",
    "_uuid": "87836e3adbe046dd0db62013491ba62bae93b6be",
    "execution": {
     "iopub.execute_input": "2023-05-07T17:13:54.458049Z",
     "iopub.status.busy": "2023-05-07T17:13:54.457684Z",
     "iopub.status.idle": "2023-05-07T17:13:54.484130Z",
     "shell.execute_reply": "2023-05-07T17:13:54.483145Z",
     "shell.execute_reply.started": "2023-05-07T17:13:54.458025Z"
    },
    "tags": []
   },
   "outputs": [
    {
     "data": {
      "text/plain": [
       "829"
      ]
     },
     "execution_count": 4,
     "metadata": {},
     "output_type": "execute_result"
    }
   ],
   "source": [
    "curr_dir = 'data/'\n",
    "all_headlines = []\n",
    "for filename in os.listdir(curr_dir):\n",
    "    if 'Articles' in filename:\n",
    "        article_df = pd.read_csv(curr_dir + filename)\n",
    "        all_headlines.extend(list(article_df.headline.values))\n",
    "        break\n",
    "\n",
    "all_headlines = [h for h in all_headlines if h != \"Unknown\"]\n",
    "len(all_headlines)"
   ]
  },
  {
   "cell_type": "markdown",
   "metadata": {
    "_cell_guid": "9dbd8bc9-fb61-43b9-b0c4-98bd7f3f8150",
    "_uuid": "fda5d4868631d3618d4d9a9a863541b2faf121c0"
   },
   "source": [
    "## 3. Dataset preparation\n",
    "\n",
    "### 3.1 Dataset cleaning \n",
    "\n",
    "In dataset preparation step, we will first perform text cleaning of the data which includes removal of punctuations and lower casing all the words. "
   ]
  },
  {
   "cell_type": "code",
   "execution_count": 5,
   "metadata": {
    "_cell_guid": "b8bf84ed-da11-4f89-a584-9dceea677420",
    "_uuid": "2a07365a27a7ba2f92fc9ba4d05d8e6254a68d8c",
    "execution": {
     "iopub.execute_input": "2023-05-07T17:14:06.191278Z",
     "iopub.status.busy": "2023-05-07T17:14:06.190907Z",
     "iopub.status.idle": "2023-05-07T17:14:06.203694Z",
     "shell.execute_reply": "2023-05-07T17:14:06.202644Z",
     "shell.execute_reply.started": "2023-05-07T17:14:06.191252Z"
    }
   },
   "outputs": [
    {
     "data": {
      "text/plain": [
       "['nfl vs politics has been battle all season long',\n",
       " 'voice vice veracity',\n",
       " 'a standups downward slide',\n",
       " 'new york today a groundhog has her day',\n",
       " 'a swimmers communion with the ocean',\n",
       " 'trail activity',\n",
       " 'super bowl',\n",
       " 'trumps mexican shakedown',\n",
       " 'pences presidential pet',\n",
       " 'fruit of a poison tree']"
      ]
     },
     "execution_count": 5,
     "metadata": {},
     "output_type": "execute_result"
    }
   ],
   "source": [
    "def clean_text(txt):\n",
    "    txt = \"\".join(v for v in txt if v not in string.punctuation).lower()\n",
    "    txt = txt.encode(\"utf8\").decode(\"ascii\",'ignore')\n",
    "    return txt \n",
    "\n",
    "corpus = [clean_text(x) for x in all_headlines]\n",
    "corpus[:10]"
   ]
  },
  {
   "cell_type": "markdown",
   "metadata": {
    "_cell_guid": "9d83cc08-19ba-4b00-9ca6-dcf5ff39c8af",
    "_uuid": "6fd11859fd71aa5c7ce10bdbbd31c8eb6d1b3118"
   },
   "source": [
    "### 3.2 Generating Sequence of N-gram Tokens\n",
    "\n",
    "Language modelling requires a sequence input data, as given a sequence (of words/tokens) the aim is the predict next word/token.  \n",
    "\n",
    "The next step is Tokenization. Tokenization is a process of extracting tokens (terms / words) from a corpus. Python’s library Keras has inbuilt model for tokenization which can be used to obtain the tokens and their index in the corpus. After this step, every text document in the dataset is converted into sequence of tokens. \n"
   ]
  },
  {
   "cell_type": "code",
   "execution_count": 6,
   "metadata": {
    "_cell_guid": "896543c9-7944-4748-b8ef-ef8cbc2a84f0",
    "_uuid": "9129a8b773feb72eff91aa0025157a173d10c625",
    "execution": {
     "iopub.execute_input": "2023-05-07T17:14:09.548207Z",
     "iopub.status.busy": "2023-05-07T17:14:09.547712Z",
     "iopub.status.idle": "2023-05-07T17:14:09.585553Z",
     "shell.execute_reply": "2023-05-07T17:14:09.584612Z",
     "shell.execute_reply.started": "2023-05-07T17:14:09.548179Z"
    }
   },
   "outputs": [
    {
     "data": {
      "text/plain": [
       "[[660, 117],\n",
       " [660, 117, 72],\n",
       " [660, 117, 72, 73],\n",
       " [660, 117, 72, 73, 661],\n",
       " [660, 117, 72, 73, 661, 662],\n",
       " [660, 117, 72, 73, 661, 662, 63],\n",
       " [660, 117, 72, 73, 661, 662, 63, 29],\n",
       " [660, 117, 72, 73, 661, 662, 63, 29, 210],\n",
       " [211, 663],\n",
       " [211, 663, 664]]"
      ]
     },
     "execution_count": 6,
     "metadata": {},
     "output_type": "execute_result"
    }
   ],
   "source": [
    "tokenizer = Tokenizer()\n",
    "\n",
    "def get_sequence_of_tokens(corpus):\n",
    "    ## tokenization\n",
    "    tokenizer.fit_on_texts(corpus)\n",
    "    total_words = len(tokenizer.word_index) + 1\n",
    "    \n",
    "    ## convert data to sequence of tokens \n",
    "    input_sequences = []\n",
    "    for line in corpus:\n",
    "        token_list = tokenizer.texts_to_sequences([line])[0]\n",
    "        for i in range(1, len(token_list)):\n",
    "            n_gram_sequence = token_list[:i+1]\n",
    "            input_sequences.append(n_gram_sequence)\n",
    "    return input_sequences, total_words\n",
    "\n",
    "inp_sequences, total_words = get_sequence_of_tokens(corpus)\n",
    "inp_sequences[:10]"
   ]
  },
  {
   "cell_type": "markdown",
   "metadata": {
    "_cell_guid": "a22c88f5-f2a3-457c-835b-63341e657e3f",
    "_uuid": "f22aa5e0c04620ca5034ab9389322eee543060c6"
   },
   "source": [
    "In the above output [30, 507], [30, 507, 11], [30, 507, 11, 1] and so on represents the ngram phrases generated from the input data. where every integer corresponds to the index of a particular word in the complete vocabulary of words present in the text. For example\n",
    "\n",
    "**Headline:** i stand  with the shedevils  \n",
    "**Ngrams:** | **Sequence of Tokens**\n",
    "\n",
    "<table>\n",
    "<tr><td>Ngram </td><td> Sequence of Tokens</td></tr>\n",
    "<tr> <td>i stand </td><td> [30, 507] </td></tr>\n",
    "<tr> <td>i stand with </td><td> [30, 507, 11] </td></tr>\n",
    "<tr> <td>i stand with the </td><td> [30, 507, 11, 1] </td></tr>\n",
    "<tr> <td>i stand with the shedevils </td><td> [30, 507, 11, 1, 975] </td></tr>\n",
    "</table>\n",
    "\n",
    "\n",
    "\n",
    "### 3.3 Padding the Sequences and obtain Variables : Predictors and Target\n",
    "\n",
    "Now that we have generated a data-set which contains sequence of tokens, it is possible that different sequences have different lengths. Before starting training the model, we need to pad the sequences and make their lengths equal. We can use pad_sequence function of Kears for this purpose. To input this data into a learning model, we need to create predictors and label. We will create N-grams sequence as predictors and the next word of the N-gram as label. For example:\n",
    "\n",
    "\n",
    "Headline:  they are learning data science\n",
    "\n",
    "<table>\n",
    "<tr><td>PREDICTORS </td> <td>           LABEL </td></tr>\n",
    "<tr><td>they                   </td> <td>  are</td></tr>\n",
    "<tr><td>they are               </td> <td>  learning</td></tr>\n",
    "<tr><td>they are learning      </td> <td>  data</td></tr>\n",
    "<tr><td>they are learning data </td> <td>  science</td></tr>\n",
    "</table>"
   ]
  },
  {
   "cell_type": "code",
   "execution_count": 7,
   "metadata": {
    "_cell_guid": "73254551-40bd-45b1-a7a5-88fe4cbe0b20",
    "_uuid": "ca588b414e70e21bebcead960f6632805d37dd8c",
    "execution": {
     "iopub.execute_input": "2023-05-07T17:16:08.457660Z",
     "iopub.status.busy": "2023-05-07T17:16:08.456782Z",
     "iopub.status.idle": "2023-05-07T17:16:08.485324Z",
     "shell.execute_reply": "2023-05-07T17:16:08.483963Z",
     "shell.execute_reply.started": "2023-05-07T17:16:08.457634Z"
    }
   },
   "outputs": [],
   "source": [
    "def generate_padded_sequences(input_sequences):\n",
    "    max_sequence_len = max([len(x) for x in input_sequences])\n",
    "    input_sequences = np.array(pad_sequences(input_sequences, maxlen=max_sequence_len, padding='pre'))\n",
    "    \n",
    "    predictors, label = input_sequences[:,:-1],input_sequences[:,-1]\n",
    "    label = ku.to_categorical(label, num_classes=total_words)\n",
    "    return predictors, label, max_sequence_len\n",
    "\n",
    "predictors, label, max_sequence_len = generate_padded_sequences(inp_sequences)"
   ]
  },
  {
   "cell_type": "code",
   "execution_count": 8,
   "metadata": {
    "execution": {
     "iopub.execute_input": "2023-05-07T17:16:23.971062Z",
     "iopub.status.busy": "2023-05-07T17:16:23.970662Z",
     "iopub.status.idle": "2023-05-07T17:16:23.976418Z",
     "shell.execute_reply": "2023-05-07T17:16:23.975652Z",
     "shell.execute_reply.started": "2023-05-07T17:16:23.971037Z"
    }
   },
   "outputs": [
    {
     "data": {
      "text/plain": [
       "(4544, 2288)"
      ]
     },
     "execution_count": 8,
     "metadata": {},
     "output_type": "execute_result"
    }
   ],
   "source": [
    "label.shape"
   ]
  },
  {
   "cell_type": "markdown",
   "metadata": {
    "_cell_guid": "8b5d80ff-54a8-4380-8a3c-149be880551d",
    "_uuid": "8b8a64b96011f427c48d5b0819e3e74af604ce43"
   },
   "source": [
    "Perfect, now we can obtain the input vector X and the label vector Y which can be used for the training purposes. Recent experiments have shown that recurrent neural networks have shown a good performance in sequence to sequence learning and text data applications. Lets look at them in brief.\n",
    "\n",
    "## 4. LSTMs for Text Generation\n",
    "\n",
    "![](http://www.shivambansal.com/blog/text-lstm/2.png)\n",
    "\n",
    "Unlike Feed-forward neural networks in which activation outputs are propagated only in one direction, the activation outputs from neurons propagate in both directions (from inputs to outputs and from outputs to inputs) in Recurrent Neural Networks. This creates loops in the neural network architecture which acts as a ‘memory state’ of the neurons. This state allows the neurons an ability to remember what have been learned so far.\n",
    "\n",
    "The memory state in RNNs gives an advantage over traditional neural networks but a problem called Vanishing Gradient is associated with them. In this problem, while learning with a large number of layers, it becomes really hard for the network to learn and tune the parameters of the earlier layers. To address this problem, A new type of RNNs called LSTMs (Long Short Term Memory) Models have been developed.\n",
    "\n",
    "LSTMs have an additional state called ‘cell state’ through which the network makes adjustments in the information flow. The advantage of this state is that the model can remember or forget the leanings more selectively. To learn more about LSTMs, here is a great post. Lets architecture a LSTM model in our code. I have added total three layers in the model.\n",
    "\n",
    "1. Input Layer : Takes the sequence of words as input\n",
    "2. LSTM Layer : Computes the output using LSTM units. I have added 100 units in the layer, but this number can be fine tuned later.\n",
    "3. Dropout Layer : A regularisation layer which randomly turns-off the activations of some neurons in the LSTM layer. It helps in preventing over fitting. (Optional Layer)\n",
    "4. Output Layer : Computes the probability of the best possible next word as output\n",
    "\n",
    "We will run this model for total 100 epoochs but it can be experimented further."
   ]
  },
  {
   "cell_type": "code",
   "execution_count": 11,
   "metadata": {
    "_cell_guid": "60d6721e-e40e-4f2b-8f63-c06459d68f26",
    "_uuid": "76ef6d9352002d333a7c75e8aed7ce996015f527",
    "execution": {
     "iopub.execute_input": "2023-05-07T17:17:33.491575Z",
     "iopub.status.busy": "2023-05-07T17:17:33.491173Z",
     "iopub.status.idle": "2023-05-07T17:17:33.801010Z",
     "shell.execute_reply": "2023-05-07T17:17:33.800218Z",
     "shell.execute_reply.started": "2023-05-07T17:17:33.491548Z"
    },
    "tags": []
   },
   "outputs": [
    {
     "name": "stdout",
     "output_type": "stream",
     "text": [
      "Model: \"sequential_1\"\n",
      "_________________________________________________________________\n",
      " Layer (type)                Output Shape              Param #   \n",
      "=================================================================\n",
      " embedding_1 (Embedding)     (None, 16, 10)            22880     \n",
      "                                                                 \n",
      " lstm_1 (LSTM)               (None, 100)               44400     \n",
      "                                                                 \n",
      " dropout_1 (Dropout)         (None, 100)               0         \n",
      "                                                                 \n",
      " dense_1 (Dense)             (None, 2288)              231088    \n",
      "                                                                 \n",
      "=================================================================\n",
      "Total params: 298368 (1.14 MB)\n",
      "Trainable params: 298368 (1.14 MB)\n",
      "Non-trainable params: 0 (0.00 Byte)\n",
      "_________________________________________________________________\n"
     ]
    }
   ],
   "source": [
    "def create_model(max_sequence_len, total_words):\n",
    "    input_len = max_sequence_len - 1\n",
    "    model = Sequential()\n",
    "    \n",
    "    # Add Input Embedding Layer\n",
    "    model.add(Embedding(total_words, 10, input_length=input_len))\n",
    "    \n",
    "    # Add Hidden Layer 1 - LSTM Layer\n",
    "    model.add(LSTM(100))\n",
    "    model.add(Dropout(0.1))\n",
    "    \n",
    "    # Add Output Layer\n",
    "    model.add(Dense(total_words, activation='softmax'))\n",
    "\n",
    "    model.compile(loss='categorical_crossentropy', optimizer='adam', metrics = 'accuracy')\n",
    "    \n",
    "    return model\n",
    "\n",
    "model = create_model(max_sequence_len, total_words)\n",
    "model.summary()"
   ]
  },
  {
   "cell_type": "markdown",
   "metadata": {
    "_cell_guid": "1826aa1a-cb77-4379-a69d-e9b180945dce",
    "_uuid": "f0b16b471969dbb831cb0024e303341e11b63de4"
   },
   "source": [
    "Lets train our model now"
   ]
  },
  {
   "cell_type": "code",
   "execution_count": 12,
   "metadata": {
    "_cell_guid": "07d5cf03-d171-4993-9f8b-18446649ecb0",
    "_uuid": "156f3303b8120cc6932e6db985cbea4a7ceb08bf",
    "execution": {
     "iopub.execute_input": "2023-05-07T17:17:36.397241Z",
     "iopub.status.busy": "2023-05-07T17:17:36.396854Z",
     "iopub.status.idle": "2023-05-07T17:20:58.089693Z",
     "shell.execute_reply": "2023-05-07T17:20:58.088996Z",
     "shell.execute_reply.started": "2023-05-07T17:17:36.397190Z"
    },
    "tags": []
   },
   "outputs": [
    {
     "name": "stdout",
     "output_type": "stream",
     "text": [
      "Epoch 1/100\n",
      "142/142 [==============================] - 3s 9ms/step - loss: 7.3080 - accuracy: 0.0354\n",
      "Epoch 2/100\n",
      "142/142 [==============================] - 1s 9ms/step - loss: 6.8394 - accuracy: 0.0392\n",
      "Epoch 3/100\n",
      "142/142 [==============================] - 1s 9ms/step - loss: 6.7206 - accuracy: 0.0368\n",
      "Epoch 4/100\n",
      "142/142 [==============================] - 1s 10ms/step - loss: 6.6364 - accuracy: 0.0392\n",
      "Epoch 5/100\n",
      "142/142 [==============================] - 1s 10ms/step - loss: 6.5626 - accuracy: 0.0390\n",
      "Epoch 6/100\n",
      "142/142 [==============================] - 2s 11ms/step - loss: 6.4783 - accuracy: 0.0475\n",
      "Epoch 7/100\n",
      "142/142 [==============================] - 1s 10ms/step - loss: 6.3877 - accuracy: 0.0480\n",
      "Epoch 8/100\n",
      "142/142 [==============================] - 1s 10ms/step - loss: 6.2926 - accuracy: 0.0522\n",
      "Epoch 9/100\n",
      "142/142 [==============================] - 1s 10ms/step - loss: 6.1948 - accuracy: 0.0539\n",
      "Epoch 10/100\n",
      "142/142 [==============================] - 1s 10ms/step - loss: 6.1006 - accuracy: 0.0535\n",
      "Epoch 11/100\n",
      "142/142 [==============================] - 1s 10ms/step - loss: 6.0076 - accuracy: 0.0581\n",
      "Epoch 12/100\n",
      "142/142 [==============================] - 1s 10ms/step - loss: 5.9215 - accuracy: 0.0610\n",
      "Epoch 13/100\n",
      "142/142 [==============================] - 1s 10ms/step - loss: 5.8286 - accuracy: 0.0601\n",
      "Epoch 14/100\n",
      "142/142 [==============================] - 1s 10ms/step - loss: 5.7451 - accuracy: 0.0605\n",
      "Epoch 15/100\n",
      "142/142 [==============================] - 2s 12ms/step - loss: 5.6647 - accuracy: 0.0643\n",
      "Epoch 16/100\n",
      "142/142 [==============================] - 2s 12ms/step - loss: 5.5785 - accuracy: 0.0656\n",
      "Epoch 17/100\n",
      "142/142 [==============================] - 2s 14ms/step - loss: 5.4968 - accuracy: 0.0706\n",
      "Epoch 18/100\n",
      "142/142 [==============================] - 2s 14ms/step - loss: 5.4146 - accuracy: 0.0700\n",
      "Epoch 19/100\n",
      "142/142 [==============================] - 2s 12ms/step - loss: 5.3288 - accuracy: 0.0750\n",
      "Epoch 20/100\n",
      "142/142 [==============================] - 2s 11ms/step - loss: 5.2470 - accuracy: 0.0799\n",
      "Epoch 21/100\n",
      "142/142 [==============================] - 2s 11ms/step - loss: 5.1697 - accuracy: 0.0832\n",
      "Epoch 22/100\n",
      "142/142 [==============================] - 2s 11ms/step - loss: 5.0884 - accuracy: 0.0843\n",
      "Epoch 23/100\n",
      "142/142 [==============================] - 1s 10ms/step - loss: 5.0111 - accuracy: 0.0889\n",
      "Epoch 24/100\n",
      "142/142 [==============================] - 2s 11ms/step - loss: 4.9319 - accuracy: 0.0904\n",
      "Epoch 25/100\n",
      "142/142 [==============================] - 2s 11ms/step - loss: 4.8524 - accuracy: 0.0973\n",
      "Epoch 26/100\n",
      "142/142 [==============================] - 2s 11ms/step - loss: 4.7873 - accuracy: 0.0942\n",
      "Epoch 27/100\n",
      "142/142 [==============================] - 2s 11ms/step - loss: 4.7118 - accuracy: 0.1039\n",
      "Epoch 28/100\n",
      "142/142 [==============================] - 2s 11ms/step - loss: 4.6351 - accuracy: 0.1144\n",
      "Epoch 29/100\n",
      "142/142 [==============================] - 2s 11ms/step - loss: 4.5688 - accuracy: 0.1202\n",
      "Epoch 30/100\n",
      "142/142 [==============================] - 2s 12ms/step - loss: 4.4990 - accuracy: 0.1219\n",
      "Epoch 31/100\n",
      "142/142 [==============================] - 2s 12ms/step - loss: 4.4245 - accuracy: 0.1272\n",
      "Epoch 32/100\n",
      "142/142 [==============================] - 2s 12ms/step - loss: 4.3614 - accuracy: 0.1373\n",
      "Epoch 33/100\n",
      "142/142 [==============================] - 2s 12ms/step - loss: 4.2867 - accuracy: 0.1474\n",
      "Epoch 34/100\n",
      "142/142 [==============================] - 2s 13ms/step - loss: 4.2270 - accuracy: 0.1567\n",
      "Epoch 35/100\n",
      "142/142 [==============================] - 2s 13ms/step - loss: 4.1569 - accuracy: 0.1690\n",
      "Epoch 36/100\n",
      "142/142 [==============================] - 2s 14ms/step - loss: 4.0856 - accuracy: 0.1776\n",
      "Epoch 37/100\n",
      "142/142 [==============================] - 2s 13ms/step - loss: 4.0301 - accuracy: 0.1897\n",
      "Epoch 38/100\n",
      "142/142 [==============================] - 2s 13ms/step - loss: 3.9619 - accuracy: 0.1987\n",
      "Epoch 39/100\n",
      "142/142 [==============================] - 2s 12ms/step - loss: 3.9034 - accuracy: 0.2025\n",
      "Epoch 40/100\n",
      "142/142 [==============================] - 2s 13ms/step - loss: 3.8375 - accuracy: 0.2179\n",
      "Epoch 41/100\n",
      "142/142 [==============================] - 2s 14ms/step - loss: 3.7842 - accuracy: 0.2218\n",
      "Epoch 42/100\n",
      "142/142 [==============================] - 2s 15ms/step - loss: 3.7270 - accuracy: 0.2309\n",
      "Epoch 43/100\n",
      "142/142 [==============================] - 2s 14ms/step - loss: 3.6656 - accuracy: 0.2480\n",
      "Epoch 44/100\n",
      "142/142 [==============================] - 2s 14ms/step - loss: 3.6121 - accuracy: 0.2592\n",
      "Epoch 45/100\n",
      "142/142 [==============================] - 2s 14ms/step - loss: 3.5575 - accuracy: 0.2674\n",
      "Epoch 46/100\n",
      "142/142 [==============================] - 2s 16ms/step - loss: 3.5078 - accuracy: 0.2674\n",
      "Epoch 47/100\n",
      "142/142 [==============================] - 2s 17ms/step - loss: 3.4515 - accuracy: 0.2870\n",
      "Epoch 48/100\n",
      "142/142 [==============================] - 2s 16ms/step - loss: 3.3943 - accuracy: 0.2925\n",
      "Epoch 49/100\n",
      "142/142 [==============================] - 2s 16ms/step - loss: 3.3500 - accuracy: 0.3061\n",
      "Epoch 50/100\n",
      "142/142 [==============================] - 2s 15ms/step - loss: 3.3034 - accuracy: 0.3057\n",
      "Epoch 51/100\n",
      "142/142 [==============================] - 2s 17ms/step - loss: 3.2401 - accuracy: 0.3266\n",
      "Epoch 52/100\n",
      "142/142 [==============================] - 2s 16ms/step - loss: 3.1974 - accuracy: 0.3246\n",
      "Epoch 53/100\n",
      "142/142 [==============================] - 3s 18ms/step - loss: 3.1533 - accuracy: 0.3356\n",
      "Epoch 54/100\n",
      "142/142 [==============================] - 2s 16ms/step - loss: 3.1088 - accuracy: 0.3420\n",
      "Epoch 55/100\n",
      "142/142 [==============================] - 2s 15ms/step - loss: 3.0607 - accuracy: 0.3548\n",
      "Epoch 56/100\n",
      "142/142 [==============================] - 2s 14ms/step - loss: 3.0274 - accuracy: 0.3596\n",
      "Epoch 57/100\n",
      "142/142 [==============================] - 2s 15ms/step - loss: 2.9757 - accuracy: 0.3746\n",
      "Epoch 58/100\n",
      "142/142 [==============================] - 2s 15ms/step - loss: 2.9424 - accuracy: 0.3765\n",
      "Epoch 59/100\n",
      "142/142 [==============================] - 2s 15ms/step - loss: 2.8980 - accuracy: 0.3864\n",
      "Epoch 60/100\n",
      "142/142 [==============================] - 2s 15ms/step - loss: 2.8603 - accuracy: 0.3893\n",
      "Epoch 61/100\n",
      "142/142 [==============================] - 2s 14ms/step - loss: 2.8211 - accuracy: 0.3983\n",
      "Epoch 62/100\n",
      "142/142 [==============================] - 2s 14ms/step - loss: 2.7834 - accuracy: 0.4023\n",
      "Epoch 63/100\n",
      "142/142 [==============================] - 2s 14ms/step - loss: 2.7504 - accuracy: 0.4124\n",
      "Epoch 64/100\n",
      "142/142 [==============================] - 2s 14ms/step - loss: 2.7040 - accuracy: 0.4093\n",
      "Epoch 65/100\n",
      "142/142 [==============================] - 2s 15ms/step - loss: 2.6745 - accuracy: 0.4219\n",
      "Epoch 66/100\n",
      "142/142 [==============================] - 2s 14ms/step - loss: 2.6376 - accuracy: 0.4285\n",
      "Epoch 67/100\n",
      "142/142 [==============================] - 2s 14ms/step - loss: 2.6048 - accuracy: 0.4307\n",
      "Epoch 68/100\n",
      "142/142 [==============================] - 2s 15ms/step - loss: 2.5652 - accuracy: 0.4476\n",
      "Epoch 69/100\n",
      "142/142 [==============================] - 2s 15ms/step - loss: 2.5417 - accuracy: 0.4505\n",
      "Epoch 70/100\n",
      "142/142 [==============================] - 2s 16ms/step - loss: 2.4988 - accuracy: 0.4588\n",
      "Epoch 71/100\n",
      "142/142 [==============================] - 2s 16ms/step - loss: 2.4754 - accuracy: 0.4564\n",
      "Epoch 72/100\n",
      "142/142 [==============================] - 2s 17ms/step - loss: 2.4418 - accuracy: 0.4756\n",
      "Epoch 73/100\n",
      "142/142 [==============================] - 2s 16ms/step - loss: 2.4035 - accuracy: 0.4789\n",
      "Epoch 74/100\n",
      "142/142 [==============================] - 2s 17ms/step - loss: 2.3844 - accuracy: 0.4795\n",
      "Epoch 75/100\n",
      "142/142 [==============================] - 2s 16ms/step - loss: 2.3492 - accuracy: 0.4857\n",
      "Epoch 76/100\n",
      "142/142 [==============================] - 2s 16ms/step - loss: 2.3260 - accuracy: 0.4949\n",
      "Epoch 77/100\n",
      "142/142 [==============================] - 2s 17ms/step - loss: 2.2788 - accuracy: 0.5037\n",
      "Epoch 78/100\n",
      "142/142 [==============================] - 2s 17ms/step - loss: 2.2539 - accuracy: 0.5057\n",
      "Epoch 79/100\n",
      "142/142 [==============================] - 2s 17ms/step - loss: 2.2297 - accuracy: 0.5154\n",
      "Epoch 80/100\n",
      "142/142 [==============================] - 2s 17ms/step - loss: 2.2099 - accuracy: 0.5103\n",
      "Epoch 81/100\n",
      "142/142 [==============================] - 2s 15ms/step - loss: 2.1844 - accuracy: 0.5284\n",
      "Epoch 82/100\n",
      "142/142 [==============================] - 2s 16ms/step - loss: 2.1571 - accuracy: 0.5189\n",
      "Epoch 83/100\n",
      "142/142 [==============================] - 2s 16ms/step - loss: 2.1334 - accuracy: 0.5328\n",
      "Epoch 84/100\n",
      "142/142 [==============================] - 2s 16ms/step - loss: 2.1079 - accuracy: 0.5352\n",
      "Epoch 85/100\n",
      "142/142 [==============================] - 2s 15ms/step - loss: 2.0726 - accuracy: 0.5475\n",
      "Epoch 86/100\n",
      "142/142 [==============================] - 2s 17ms/step - loss: 2.0588 - accuracy: 0.5412\n",
      "Epoch 87/100\n",
      "142/142 [==============================] - 2s 16ms/step - loss: 2.0233 - accuracy: 0.5489\n",
      "Epoch 88/100\n",
      "142/142 [==============================] - 2s 16ms/step - loss: 2.0128 - accuracy: 0.5579\n",
      "Epoch 89/100\n",
      "142/142 [==============================] - 2s 17ms/step - loss: 1.9887 - accuracy: 0.5559\n",
      "Epoch 90/100\n",
      "142/142 [==============================] - 3s 18ms/step - loss: 1.9543 - accuracy: 0.5695\n",
      "Epoch 91/100\n",
      "142/142 [==============================] - 3s 18ms/step - loss: 1.9386 - accuracy: 0.5689\n",
      "Epoch 92/100\n",
      "142/142 [==============================] - 2s 17ms/step - loss: 1.9151 - accuracy: 0.5819\n",
      "Epoch 93/100\n",
      "142/142 [==============================] - 2s 16ms/step - loss: 1.8947 - accuracy: 0.5786\n",
      "Epoch 94/100\n",
      "142/142 [==============================] - 2s 17ms/step - loss: 1.8727 - accuracy: 0.5805\n",
      "Epoch 95/100\n",
      "142/142 [==============================] - 3s 18ms/step - loss: 1.8431 - accuracy: 0.5841\n",
      "Epoch 96/100\n",
      "142/142 [==============================] - 3s 19ms/step - loss: 1.8303 - accuracy: 0.5946\n",
      "Epoch 97/100\n",
      "142/142 [==============================] - 3s 18ms/step - loss: 1.8086 - accuracy: 0.5951\n",
      "Epoch 98/100\n",
      "142/142 [==============================] - 3s 18ms/step - loss: 1.7902 - accuracy: 0.5997\n",
      "Epoch 99/100\n",
      "142/142 [==============================] - 3s 18ms/step - loss: 1.7648 - accuracy: 0.6094\n",
      "Epoch 100/100\n",
      "142/142 [==============================] - 2s 16ms/step - loss: 1.7600 - accuracy: 0.6067\n"
     ]
    },
    {
     "data": {
      "text/plain": [
       "<keras.src.callbacks.History at 0x7fe2a2932020>"
      ]
     },
     "execution_count": 12,
     "metadata": {},
     "output_type": "execute_result"
    }
   ],
   "source": [
    "model.fit(predictors, label, epochs=100)"
   ]
  },
  {
   "cell_type": "markdown",
   "metadata": {
    "_cell_guid": "61e99cfe-7395-4d61-8d1a-8539103d3db5",
    "_uuid": "448bf43b123060dfe4e27cb9f12889e4fe0ed2a7"
   },
   "source": [
    "## 5. Generating the text \n",
    "\n",
    "Great, our model architecture is now ready and we can train it using our data. Next lets write the function to predict the next word based on the input words (or seed text). We will first tokenize the seed text, pad the sequences and pass into the trained model to get predicted word. The multiple predicted words can be appended together to get predicted sequence.\n"
   ]
  },
  {
   "cell_type": "code",
   "execution_count": null,
   "metadata": {
    "_uuid": "e71e56543b7065f115a05e3fd062262b3b94ad46"
   },
   "outputs": [],
   "source": [
    "def generate_text(seed_text, next_words, model, max_sequence_len):\n",
    "    for _ in range(next_words):\n",
    "        token_list = tokenizer.texts_to_sequences([seed_text])[0]\n",
    "        token_list = pad_sequences([token_list], maxlen=max_sequence_len-1, padding='pre')\n",
    "        predicted = model.predict_classes(token_list, verbose=0)\n",
    "        \n",
    "        output_word = \"\"\n",
    "        for word,index in tokenizer.word_index.items():\n",
    "            if index == predicted:\n",
    "                output_word = word\n",
    "                break\n",
    "        seed_text += \" \"+output_word\n",
    "    return seed_text.title()"
   ]
  },
  {
   "cell_type": "markdown",
   "metadata": {
    "_cell_guid": "ea0bddb6-acc6-4592-a2e0-ffc4129a582f",
    "_uuid": "c49bf4ea0e54f3145149e164e243d897f545b84c"
   },
   "source": [
    "## 6. Some Results"
   ]
  },
  {
   "cell_type": "code",
   "execution_count": null,
   "metadata": {
    "_cell_guid": "e38dd280-093b-4091-b82b-9aa90045b107",
    "_kg_hide-input": true,
    "_uuid": "a21548224c9e661a29e3d369e348aada0599bdc9"
   },
   "outputs": [],
   "source": [
    "print (generate_text(\"united states\", 5, model, max_sequence_len))\n",
    "print (generate_text(\"preident trump\", 4, model, max_sequence_len))\n",
    "print (generate_text(\"donald trump\", 4, model, max_sequence_len))\n",
    "print (generate_text(\"india and china\", 4, model, max_sequence_len))\n",
    "print (generate_text(\"new york\", 4, model, max_sequence_len))\n",
    "print (generate_text(\"science and technology\", 5, model, max_sequence_len))"
   ]
  },
  {
   "cell_type": "markdown",
   "metadata": {
    "_cell_guid": "b2cfe563-974a-4e05-ad60-233d409d3de1",
    "_uuid": "279f2e20c482b40d707413d0b1842f179a0d3d7b"
   },
   "source": [
    "## Improvement Ideas \n",
    "\n",
    "As we can see, the model has produced the output which looks fairly fine. The results can be improved further with following points:\n",
    "- Adding more data\n",
    "- Fine Tuning the network architecture\n",
    "- Fine Tuning the network parameters\n",
    "\n",
    "Thanks for going through the notebook, please upvote if you liked. "
   ]
  }
 ],
 "metadata": {
  "kernelspec": {
   "display_name": "Python 3 (ipykernel)",
   "language": "python",
   "name": "python3"
  },
  "language_info": {
   "codemirror_mode": {
    "name": "ipython",
    "version": 3
   },
   "file_extension": ".py",
   "mimetype": "text/x-python",
   "name": "python",
   "nbconvert_exporter": "python",
   "pygments_lexer": "ipython3",
   "version": "3.10.9"
  }
 },
 "nbformat": 4,
 "nbformat_minor": 4
}
