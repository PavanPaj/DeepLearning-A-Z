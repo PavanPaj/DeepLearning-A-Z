{
 "cells": [
  {
   "cell_type": "code",
   "execution_count": 44,
   "id": "8883353d",
   "metadata": {
    "execution": {
     "iopub.execute_input": "2023-04-27T20:12:25.453617Z",
     "iopub.status.busy": "2023-04-27T20:12:25.453331Z",
     "iopub.status.idle": "2023-04-27T20:12:25.458329Z",
     "shell.execute_reply": "2023-04-27T20:12:25.457556Z",
     "shell.execute_reply.started": "2023-04-27T20:12:25.453587Z"
    }
   },
   "outputs": [],
   "source": [
    "import numpy as np\n",
    "import pandas as pd\n",
    "import tensorflow as tf\n",
    "import matplotlib.pyplot as plt\n",
    "\n",
    "from tensorflow.keras.models import Sequential\n",
    "from tensorflow.keras.layers import Dense,Flatten\n",
    "\n",
    "from sklearn.model_selection import train_test_split\n",
    "from sklearn.metrics import confusion_matrix,accuracy_score,r2_score\n",
    "from sklearn.preprocessing import StandardScaler,MinMaxScaler\n"
   ]
  },
  {
   "cell_type": "code",
   "execution_count": 45,
   "id": "63d42bda",
   "metadata": {
    "execution": {
     "iopub.execute_input": "2023-04-27T20:12:26.060242Z",
     "iopub.status.busy": "2023-04-27T20:12:26.059951Z",
     "iopub.status.idle": "2023-04-27T20:12:26.079409Z",
     "shell.execute_reply": "2023-04-27T20:12:26.078835Z",
     "shell.execute_reply.started": "2023-04-27T20:12:26.060209Z"
    }
   },
   "outputs": [
    {
     "data": {
      "text/html": [
       "<div>\n",
       "<style scoped>\n",
       "    .dataframe tbody tr th:only-of-type {\n",
       "        vertical-align: middle;\n",
       "    }\n",
       "\n",
       "    .dataframe tbody tr th {\n",
       "        vertical-align: top;\n",
       "    }\n",
       "\n",
       "    .dataframe thead th {\n",
       "        text-align: right;\n",
       "    }\n",
       "</style>\n",
       "<table border=\"1\" class=\"dataframe\">\n",
       "  <thead>\n",
       "    <tr style=\"text-align: right;\">\n",
       "      <th></th>\n",
       "      <th>Serial No.</th>\n",
       "      <th>GRE Score</th>\n",
       "      <th>TOEFL Score</th>\n",
       "      <th>University Rating</th>\n",
       "      <th>SOP</th>\n",
       "      <th>LOR</th>\n",
       "      <th>CGPA</th>\n",
       "      <th>Research</th>\n",
       "      <th>Chance of Admit</th>\n",
       "    </tr>\n",
       "  </thead>\n",
       "  <tbody>\n",
       "    <tr>\n",
       "      <th>0</th>\n",
       "      <td>1</td>\n",
       "      <td>337</td>\n",
       "      <td>118</td>\n",
       "      <td>4</td>\n",
       "      <td>4.5</td>\n",
       "      <td>4.5</td>\n",
       "      <td>9.65</td>\n",
       "      <td>1</td>\n",
       "      <td>0.92</td>\n",
       "    </tr>\n",
       "    <tr>\n",
       "      <th>1</th>\n",
       "      <td>2</td>\n",
       "      <td>324</td>\n",
       "      <td>107</td>\n",
       "      <td>4</td>\n",
       "      <td>4.0</td>\n",
       "      <td>4.5</td>\n",
       "      <td>8.87</td>\n",
       "      <td>1</td>\n",
       "      <td>0.76</td>\n",
       "    </tr>\n",
       "    <tr>\n",
       "      <th>2</th>\n",
       "      <td>3</td>\n",
       "      <td>316</td>\n",
       "      <td>104</td>\n",
       "      <td>3</td>\n",
       "      <td>3.0</td>\n",
       "      <td>3.5</td>\n",
       "      <td>8.00</td>\n",
       "      <td>1</td>\n",
       "      <td>0.72</td>\n",
       "    </tr>\n",
       "    <tr>\n",
       "      <th>3</th>\n",
       "      <td>4</td>\n",
       "      <td>322</td>\n",
       "      <td>110</td>\n",
       "      <td>3</td>\n",
       "      <td>3.5</td>\n",
       "      <td>2.5</td>\n",
       "      <td>8.67</td>\n",
       "      <td>1</td>\n",
       "      <td>0.80</td>\n",
       "    </tr>\n",
       "    <tr>\n",
       "      <th>4</th>\n",
       "      <td>5</td>\n",
       "      <td>314</td>\n",
       "      <td>103</td>\n",
       "      <td>2</td>\n",
       "      <td>2.0</td>\n",
       "      <td>3.0</td>\n",
       "      <td>8.21</td>\n",
       "      <td>0</td>\n",
       "      <td>0.65</td>\n",
       "    </tr>\n",
       "  </tbody>\n",
       "</table>\n",
       "</div>"
      ],
      "text/plain": [
       "   Serial No.  GRE Score  TOEFL Score  University Rating  SOP  LOR   CGPA  \\\n",
       "0           1        337          118                  4  4.5   4.5  9.65   \n",
       "1           2        324          107                  4  4.0   4.5  8.87   \n",
       "2           3        316          104                  3  3.0   3.5  8.00   \n",
       "3           4        322          110                  3  3.5   2.5  8.67   \n",
       "4           5        314          103                  2  2.0   3.0  8.21   \n",
       "\n",
       "   Research  Chance of Admit   \n",
       "0         1              0.92  \n",
       "1         1              0.76  \n",
       "2         1              0.72  \n",
       "3         1              0.80  \n",
       "4         0              0.65  "
      ]
     },
     "execution_count": 45,
     "metadata": {},
     "output_type": "execute_result"
    }
   ],
   "source": [
    "df = pd.read_csv('Admission_Predict_Ver1.1.csv')\n",
    "df.head()"
   ]
  },
  {
   "cell_type": "code",
   "execution_count": 46,
   "id": "18f3eea4",
   "metadata": {
    "execution": {
     "iopub.execute_input": "2023-04-27T20:12:27.061735Z",
     "iopub.status.busy": "2023-04-27T20:12:27.061477Z",
     "iopub.status.idle": "2023-04-27T20:12:27.066854Z",
     "shell.execute_reply": "2023-04-27T20:12:27.066068Z",
     "shell.execute_reply.started": "2023-04-27T20:12:27.061707Z"
    }
   },
   "outputs": [
    {
     "data": {
      "text/plain": [
       "Index(['Serial No.', 'GRE Score', 'TOEFL Score', 'University Rating', 'SOP',\n",
       "       'LOR ', 'CGPA', 'Research', 'Chance of Admit '],\n",
       "      dtype='object')"
      ]
     },
     "execution_count": 46,
     "metadata": {},
     "output_type": "execute_result"
    }
   ],
   "source": [
    "df.columns"
   ]
  },
  {
   "cell_type": "code",
   "execution_count": 47,
   "id": "ee87c69d",
   "metadata": {
    "execution": {
     "iopub.execute_input": "2023-04-27T20:12:27.891700Z",
     "iopub.status.busy": "2023-04-27T20:12:27.891426Z",
     "iopub.status.idle": "2023-04-27T20:12:27.896506Z",
     "shell.execute_reply": "2023-04-27T20:12:27.895567Z",
     "shell.execute_reply.started": "2023-04-27T20:12:27.891672Z"
    }
   },
   "outputs": [],
   "source": [
    "X = df.drop(['Serial No.','Chance of Admit '],1)\n",
    "Y = df['Chance of Admit ']"
   ]
  },
  {
   "cell_type": "code",
   "execution_count": 48,
   "id": "dc0d4bac",
   "metadata": {
    "execution": {
     "iopub.execute_input": "2023-04-27T20:12:29.956573Z",
     "iopub.status.busy": "2023-04-27T20:12:29.956318Z",
     "iopub.status.idle": "2023-04-27T20:12:29.963156Z",
     "shell.execute_reply": "2023-04-27T20:12:29.962393Z",
     "shell.execute_reply.started": "2023-04-27T20:12:29.956549Z"
    }
   },
   "outputs": [
    {
     "name": "stdout",
     "output_type": "stream",
     "text": [
      "(400, 7) (100, 7) (400,) (100,)\n"
     ]
    }
   ],
   "source": [
    "X_train,X_test,y_train,y_test = train_test_split(X,Y, test_size = 0.2, random_state = 100)\n",
    "print(X_train.shape,X_test.shape,y_train.shape,y_test.shape)"
   ]
  },
  {
   "cell_type": "code",
   "execution_count": 49,
   "id": "10cddfe4",
   "metadata": {
    "execution": {
     "iopub.execute_input": "2023-04-27T20:12:39.306893Z",
     "iopub.status.busy": "2023-04-27T20:12:39.306626Z",
     "iopub.status.idle": "2023-04-27T20:12:39.320145Z",
     "shell.execute_reply": "2023-04-27T20:12:39.319338Z",
     "shell.execute_reply.started": "2023-04-27T20:12:39.306864Z"
    }
   },
   "outputs": [
    {
     "data": {
      "text/plain": [
       "array([[0.1       , 0.25      , 0.25      , 0.375     , 0.5       ,\n",
       "        0.2724359 , 0.        ],\n",
       "       [0.42      , 0.32142857, 0.5       , 0.25      , 0.375     ,\n",
       "        0.26923077, 1.        ],\n",
       "       [0.84      , 0.92857143, 1.        , 1.        , 1.        ,\n",
       "        0.85576923, 1.        ],\n",
       "       [0.3       , 0.42857143, 0.25      , 0.375     , 0.125     ,\n",
       "        0.31730769, 0.        ],\n",
       "       [0.6       , 0.39285714, 0.5       , 0.5       , 0.5       ,\n",
       "        0.28846154, 0.        ]])"
      ]
     },
     "execution_count": 49,
     "metadata": {},
     "output_type": "execute_result"
    }
   ],
   "source": [
    "# sc = StandardScaler()\n",
    "sc = MinMaxScaler()\n",
    "scaled_X_train = sc.fit_transform(X_train)\n",
    "scaled_X_test = sc.transform(X_test)\n",
    "\n",
    "scaled_X_train[0:5]"
   ]
  },
  {
   "cell_type": "code",
   "execution_count": 50,
   "id": "a933613c",
   "metadata": {
    "execution": {
     "iopub.execute_input": "2023-04-27T20:12:42.364018Z",
     "iopub.status.busy": "2023-04-27T20:12:42.363745Z",
     "iopub.status.idle": "2023-04-27T20:12:42.394006Z",
     "shell.execute_reply": "2023-04-27T20:12:42.393261Z",
     "shell.execute_reply.started": "2023-04-27T20:12:42.363986Z"
    }
   },
   "outputs": [],
   "source": [
    "model = Sequential([\n",
    "    Dense(7,'relu',input_dim = 7),\n",
    "    Dense(7,'relu'),\n",
    "    Dense(1,'linear')\n",
    "])"
   ]
  },
  {
   "cell_type": "code",
   "execution_count": 51,
   "id": "e30d0cda",
   "metadata": {
    "execution": {
     "iopub.execute_input": "2023-04-27T20:12:42.681247Z",
     "iopub.status.busy": "2023-04-27T20:12:42.680950Z",
     "iopub.status.idle": "2023-04-27T20:12:42.691612Z",
     "shell.execute_reply": "2023-04-27T20:12:42.690906Z",
     "shell.execute_reply.started": "2023-04-27T20:12:42.681199Z"
    }
   },
   "outputs": [],
   "source": [
    "model.compile(optimizer='adam',loss='mse',metrics = ['mse'])"
   ]
  },
  {
   "cell_type": "code",
   "execution_count": 52,
   "id": "51ad1698",
   "metadata": {
    "execution": {
     "iopub.execute_input": "2023-04-27T20:12:43.082290Z",
     "iopub.status.busy": "2023-04-27T20:12:43.082022Z",
     "iopub.status.idle": "2023-04-27T20:12:43.088534Z",
     "shell.execute_reply": "2023-04-27T20:12:43.087816Z",
     "shell.execute_reply.started": "2023-04-27T20:12:43.082259Z"
    }
   },
   "outputs": [
    {
     "name": "stdout",
     "output_type": "stream",
     "text": [
      "Model: \"sequential_4\"\n",
      "_________________________________________________________________\n",
      "Layer (type)                 Output Shape              Param #   \n",
      "=================================================================\n",
      "dense_13 (Dense)             (None, 7)                 56        \n",
      "_________________________________________________________________\n",
      "dense_14 (Dense)             (None, 7)                 56        \n",
      "_________________________________________________________________\n",
      "dense_15 (Dense)             (None, 1)                 8         \n",
      "=================================================================\n",
      "Total params: 120\n",
      "Trainable params: 120\n",
      "Non-trainable params: 0\n",
      "_________________________________________________________________\n"
     ]
    }
   ],
   "source": [
    "model.summary()"
   ]
  },
  {
   "cell_type": "code",
   "execution_count": 53,
   "id": "8a991af3",
   "metadata": {
    "execution": {
     "iopub.execute_input": "2023-04-27T20:12:44.774015Z",
     "iopub.status.busy": "2023-04-27T20:12:44.773745Z",
     "iopub.status.idle": "2023-04-27T20:12:50.024216Z",
     "shell.execute_reply": "2023-04-27T20:12:50.023233Z",
     "shell.execute_reply.started": "2023-04-27T20:12:44.773983Z"
    }
   },
   "outputs": [
    {
     "name": "stdout",
     "output_type": "stream",
     "text": [
      "Epoch 1/100\n",
      "10/10 [==============================] - 0s 13ms/step - loss: 0.6502 - mse: 0.6502 - val_loss: 0.5538 - val_mse: 0.5538\n",
      "Epoch 2/100\n",
      "10/10 [==============================] - 0s 5ms/step - loss: 0.5601 - mse: 0.5601 - val_loss: 0.4948 - val_mse: 0.4948\n",
      "Epoch 3/100\n",
      "10/10 [==============================] - 0s 3ms/step - loss: 0.5149 - mse: 0.5149 - val_loss: 0.4590 - val_mse: 0.4590\n",
      "Epoch 4/100\n",
      "10/10 [==============================] - 0s 4ms/step - loss: 0.4844 - mse: 0.4844 - val_loss: 0.4313 - val_mse: 0.4313\n",
      "Epoch 5/100\n",
      "10/10 [==============================] - 0s 4ms/step - loss: 0.4570 - mse: 0.4570 - val_loss: 0.4038 - val_mse: 0.4038\n",
      "Epoch 6/100\n",
      "10/10 [==============================] - 0s 3ms/step - loss: 0.4265 - mse: 0.4265 - val_loss: 0.3662 - val_mse: 0.3662\n",
      "Epoch 7/100\n",
      "10/10 [==============================] - 0s 3ms/step - loss: 0.3837 - mse: 0.3837 - val_loss: 0.3137 - val_mse: 0.3137\n",
      "Epoch 8/100\n",
      "10/10 [==============================] - 0s 4ms/step - loss: 0.3269 - mse: 0.3269 - val_loss: 0.2528 - val_mse: 0.2528\n",
      "Epoch 9/100\n",
      "10/10 [==============================] - 1s 58ms/step - loss: 0.2662 - mse: 0.2662 - val_loss: 0.1960 - val_mse: 0.1960\n",
      "Epoch 10/100\n",
      "10/10 [==============================] - 0s 5ms/step - loss: 0.2105 - mse: 0.2105 - val_loss: 0.1475 - val_mse: 0.1475\n",
      "Epoch 11/100\n",
      "10/10 [==============================] - 0s 4ms/step - loss: 0.1630 - mse: 0.1630 - val_loss: 0.1102 - val_mse: 0.1102\n",
      "Epoch 12/100\n",
      "10/10 [==============================] - 0s 3ms/step - loss: 0.1257 - mse: 0.1257 - val_loss: 0.0830 - val_mse: 0.0830\n",
      "Epoch 13/100\n",
      "10/10 [==============================] - 0s 4ms/step - loss: 0.0982 - mse: 0.0982 - val_loss: 0.0641 - val_mse: 0.0641\n",
      "Epoch 14/100\n",
      "10/10 [==============================] - 0s 3ms/step - loss: 0.0787 - mse: 0.0787 - val_loss: 0.0538 - val_mse: 0.0538\n",
      "Epoch 15/100\n",
      "10/10 [==============================] - 0s 4ms/step - loss: 0.0659 - mse: 0.0659 - val_loss: 0.0487 - val_mse: 0.0487\n",
      "Epoch 16/100\n",
      "10/10 [==============================] - 0s 3ms/step - loss: 0.0576 - mse: 0.0576 - val_loss: 0.0452 - val_mse: 0.0452\n",
      "Epoch 17/100\n",
      "10/10 [==============================] - 0s 3ms/step - loss: 0.0516 - mse: 0.0516 - val_loss: 0.0417 - val_mse: 0.0417\n",
      "Epoch 18/100\n",
      "10/10 [==============================] - 0s 4ms/step - loss: 0.0468 - mse: 0.0468 - val_loss: 0.0381 - val_mse: 0.0381\n",
      "Epoch 19/100\n",
      "10/10 [==============================] - 0s 4ms/step - loss: 0.0425 - mse: 0.0425 - val_loss: 0.0347 - val_mse: 0.0347\n",
      "Epoch 20/100\n",
      "10/10 [==============================] - 0s 4ms/step - loss: 0.0388 - mse: 0.0388 - val_loss: 0.0319 - val_mse: 0.0319\n",
      "Epoch 21/100\n",
      "10/10 [==============================] - 0s 5ms/step - loss: 0.0357 - mse: 0.0357 - val_loss: 0.0295 - val_mse: 0.0295\n",
      "Epoch 22/100\n",
      "10/10 [==============================] - 0s 5ms/step - loss: 0.0329 - mse: 0.0329 - val_loss: 0.0274 - val_mse: 0.0274\n",
      "Epoch 23/100\n",
      "10/10 [==============================] - 0s 4ms/step - loss: 0.0304 - mse: 0.0304 - val_loss: 0.0256 - val_mse: 0.0256\n",
      "Epoch 24/100\n",
      "10/10 [==============================] - 0s 4ms/step - loss: 0.0281 - mse: 0.0281 - val_loss: 0.0239 - val_mse: 0.0239\n",
      "Epoch 25/100\n",
      "10/10 [==============================] - 0s 5ms/step - loss: 0.0261 - mse: 0.0261 - val_loss: 0.0225 - val_mse: 0.0225\n",
      "Epoch 26/100\n",
      "10/10 [==============================] - 0s 4ms/step - loss: 0.0242 - mse: 0.0242 - val_loss: 0.0210 - val_mse: 0.0210\n",
      "Epoch 27/100\n",
      "10/10 [==============================] - 0s 4ms/step - loss: 0.0225 - mse: 0.0225 - val_loss: 0.0196 - val_mse: 0.0196\n",
      "Epoch 28/100\n",
      "10/10 [==============================] - 0s 4ms/step - loss: 0.0208 - mse: 0.0208 - val_loss: 0.0185 - val_mse: 0.0185\n",
      "Epoch 29/100\n",
      "10/10 [==============================] - 0s 4ms/step - loss: 0.0193 - mse: 0.0193 - val_loss: 0.0173 - val_mse: 0.0173\n",
      "Epoch 30/100\n",
      "10/10 [==============================] - 0s 5ms/step - loss: 0.0180 - mse: 0.0180 - val_loss: 0.0163 - val_mse: 0.0163\n",
      "Epoch 31/100\n",
      "10/10 [==============================] - 0s 4ms/step - loss: 0.0167 - mse: 0.0167 - val_loss: 0.0152 - val_mse: 0.0152\n",
      "Epoch 32/100\n",
      "10/10 [==============================] - 0s 4ms/step - loss: 0.0154 - mse: 0.0154 - val_loss: 0.0144 - val_mse: 0.0144\n",
      "Epoch 33/100\n",
      "10/10 [==============================] - 0s 3ms/step - loss: 0.0144 - mse: 0.0144 - val_loss: 0.0135 - val_mse: 0.0135\n",
      "Epoch 34/100\n",
      "10/10 [==============================] - 0s 4ms/step - loss: 0.0134 - mse: 0.0134 - val_loss: 0.0128 - val_mse: 0.0128\n",
      "Epoch 35/100\n",
      "10/10 [==============================] - 0s 4ms/step - loss: 0.0125 - mse: 0.0125 - val_loss: 0.0122 - val_mse: 0.0122\n",
      "Epoch 36/100\n",
      "10/10 [==============================] - 0s 5ms/step - loss: 0.0117 - mse: 0.0117 - val_loss: 0.0116 - val_mse: 0.0116\n",
      "Epoch 37/100\n",
      "10/10 [==============================] - 0s 4ms/step - loss: 0.0109 - mse: 0.0109 - val_loss: 0.0111 - val_mse: 0.0111\n",
      "Epoch 38/100\n",
      "10/10 [==============================] - 0s 4ms/step - loss: 0.0103 - mse: 0.0103 - val_loss: 0.0107 - val_mse: 0.0107\n",
      "Epoch 39/100\n",
      "10/10 [==============================] - 0s 4ms/step - loss: 0.0098 - mse: 0.0098 - val_loss: 0.0102 - val_mse: 0.0102\n",
      "Epoch 40/100\n",
      "10/10 [==============================] - 0s 3ms/step - loss: 0.0094 - mse: 0.0094 - val_loss: 0.0099 - val_mse: 0.0099\n",
      "Epoch 41/100\n",
      "10/10 [==============================] - 0s 5ms/step - loss: 0.0090 - mse: 0.0090 - val_loss: 0.0096 - val_mse: 0.0096\n",
      "Epoch 42/100\n",
      "10/10 [==============================] - 0s 4ms/step - loss: 0.0087 - mse: 0.0087 - val_loss: 0.0093 - val_mse: 0.0093\n",
      "Epoch 43/100\n",
      "10/10 [==============================] - 0s 5ms/step - loss: 0.0085 - mse: 0.0085 - val_loss: 0.0092 - val_mse: 0.0092\n",
      "Epoch 44/100\n",
      "10/10 [==============================] - 0s 3ms/step - loss: 0.0082 - mse: 0.0082 - val_loss: 0.0090 - val_mse: 0.0090\n",
      "Epoch 45/100\n",
      "10/10 [==============================] - 0s 4ms/step - loss: 0.0080 - mse: 0.0080 - val_loss: 0.0088 - val_mse: 0.0088\n",
      "Epoch 46/100\n",
      "10/10 [==============================] - 0s 3ms/step - loss: 0.0078 - mse: 0.0078 - val_loss: 0.0086 - val_mse: 0.0086\n",
      "Epoch 47/100\n",
      "10/10 [==============================] - 0s 3ms/step - loss: 0.0077 - mse: 0.0077 - val_loss: 0.0086 - val_mse: 0.0086\n",
      "Epoch 48/100\n",
      "10/10 [==============================] - 0s 4ms/step - loss: 0.0076 - mse: 0.0076 - val_loss: 0.0085 - val_mse: 0.0085\n",
      "Epoch 49/100\n",
      "10/10 [==============================] - 0s 5ms/step - loss: 0.0075 - mse: 0.0075 - val_loss: 0.0082 - val_mse: 0.0082\n",
      "Epoch 50/100\n",
      "10/10 [==============================] - 0s 4ms/step - loss: 0.0073 - mse: 0.0073 - val_loss: 0.0082 - val_mse: 0.0082\n",
      "Epoch 51/100\n",
      "10/10 [==============================] - 0s 4ms/step - loss: 0.0072 - mse: 0.0072 - val_loss: 0.0080 - val_mse: 0.0080\n",
      "Epoch 52/100\n",
      "10/10 [==============================] - 0s 5ms/step - loss: 0.0071 - mse: 0.0071 - val_loss: 0.0078 - val_mse: 0.0078\n",
      "Epoch 53/100\n",
      "10/10 [==============================] - 0s 4ms/step - loss: 0.0070 - mse: 0.0070 - val_loss: 0.0078 - val_mse: 0.0078\n",
      "Epoch 54/100\n",
      "10/10 [==============================] - 0s 5ms/step - loss: 0.0069 - mse: 0.0069 - val_loss: 0.0075 - val_mse: 0.0075\n",
      "Epoch 55/100\n",
      "10/10 [==============================] - 0s 3ms/step - loss: 0.0068 - mse: 0.0068 - val_loss: 0.0074 - val_mse: 0.0074\n",
      "Epoch 56/100\n",
      "10/10 [==============================] - 0s 3ms/step - loss: 0.0067 - mse: 0.0067 - val_loss: 0.0071 - val_mse: 0.0071\n",
      "Epoch 57/100\n",
      "10/10 [==============================] - 0s 4ms/step - loss: 0.0065 - mse: 0.0065 - val_loss: 0.0070 - val_mse: 0.0070\n",
      "Epoch 58/100\n",
      "10/10 [==============================] - 0s 3ms/step - loss: 0.0064 - mse: 0.0064 - val_loss: 0.0070 - val_mse: 0.0070\n",
      "Epoch 59/100\n",
      "10/10 [==============================] - 0s 3ms/step - loss: 0.0063 - mse: 0.0063 - val_loss: 0.0068 - val_mse: 0.0068\n",
      "Epoch 60/100\n",
      "10/10 [==============================] - 0s 4ms/step - loss: 0.0062 - mse: 0.0062 - val_loss: 0.0066 - val_mse: 0.0066\n",
      "Epoch 61/100\n",
      "10/10 [==============================] - 0s 3ms/step - loss: 0.0061 - mse: 0.0061 - val_loss: 0.0065 - val_mse: 0.0065\n",
      "Epoch 62/100\n",
      "10/10 [==============================] - 0s 5ms/step - loss: 0.0059 - mse: 0.0059 - val_loss: 0.0063 - val_mse: 0.0063\n",
      "Epoch 63/100\n",
      "10/10 [==============================] - 0s 3ms/step - loss: 0.0058 - mse: 0.0058 - val_loss: 0.0062 - val_mse: 0.0062\n",
      "Epoch 64/100\n",
      "10/10 [==============================] - 0s 3ms/step - loss: 0.0057 - mse: 0.0057 - val_loss: 0.0060 - val_mse: 0.0060\n",
      "Epoch 65/100\n",
      "10/10 [==============================] - 0s 4ms/step - loss: 0.0056 - mse: 0.0056 - val_loss: 0.0058 - val_mse: 0.0058\n",
      "Epoch 66/100\n",
      "10/10 [==============================] - 0s 3ms/step - loss: 0.0055 - mse: 0.0055 - val_loss: 0.0058 - val_mse: 0.0058\n",
      "Epoch 67/100\n",
      "10/10 [==============================] - 0s 4ms/step - loss: 0.0054 - mse: 0.0054 - val_loss: 0.0057 - val_mse: 0.0057\n",
      "Epoch 68/100\n",
      "10/10 [==============================] - 0s 3ms/step - loss: 0.0053 - mse: 0.0053 - val_loss: 0.0055 - val_mse: 0.0055\n",
      "Epoch 69/100\n",
      "10/10 [==============================] - 0s 4ms/step - loss: 0.0052 - mse: 0.0052 - val_loss: 0.0055 - val_mse: 0.0055\n",
      "Epoch 70/100\n",
      "10/10 [==============================] - 0s 4ms/step - loss: 0.0051 - mse: 0.0051 - val_loss: 0.0053 - val_mse: 0.0053\n",
      "Epoch 71/100\n",
      "10/10 [==============================] - 0s 3ms/step - loss: 0.0050 - mse: 0.0050 - val_loss: 0.0052 - val_mse: 0.0052\n",
      "Epoch 72/100\n",
      "10/10 [==============================] - 0s 4ms/step - loss: 0.0049 - mse: 0.0049 - val_loss: 0.0052 - val_mse: 0.0052\n",
      "Epoch 73/100\n",
      "10/10 [==============================] - 0s 4ms/step - loss: 0.0049 - mse: 0.0049 - val_loss: 0.0051 - val_mse: 0.0051\n",
      "Epoch 74/100\n",
      "10/10 [==============================] - 0s 3ms/step - loss: 0.0048 - mse: 0.0048 - val_loss: 0.0051 - val_mse: 0.0051\n",
      "Epoch 75/100\n",
      "10/10 [==============================] - 0s 5ms/step - loss: 0.0047 - mse: 0.0047 - val_loss: 0.0050 - val_mse: 0.0050\n",
      "Epoch 76/100\n",
      "10/10 [==============================] - 0s 4ms/step - loss: 0.0047 - mse: 0.0047 - val_loss: 0.0049 - val_mse: 0.0049\n",
      "Epoch 77/100\n",
      "10/10 [==============================] - 0s 5ms/step - loss: 0.0046 - mse: 0.0046 - val_loss: 0.0048 - val_mse: 0.0048\n",
      "Epoch 78/100\n",
      "10/10 [==============================] - 0s 4ms/step - loss: 0.0046 - mse: 0.0046 - val_loss: 0.0049 - val_mse: 0.0049\n",
      "Epoch 79/100\n",
      "10/10 [==============================] - 0s 4ms/step - loss: 0.0045 - mse: 0.0045 - val_loss: 0.0047 - val_mse: 0.0047\n",
      "Epoch 80/100\n",
      "10/10 [==============================] - 0s 4ms/step - loss: 0.0045 - mse: 0.0045 - val_loss: 0.0046 - val_mse: 0.0046\n",
      "Epoch 81/100\n",
      "10/10 [==============================] - 0s 4ms/step - loss: 0.0045 - mse: 0.0045 - val_loss: 0.0047 - val_mse: 0.0047\n",
      "Epoch 82/100\n",
      "10/10 [==============================] - 0s 3ms/step - loss: 0.0044 - mse: 0.0044 - val_loss: 0.0046 - val_mse: 0.0046\n",
      "Epoch 83/100\n",
      "10/10 [==============================] - 0s 3ms/step - loss: 0.0044 - mse: 0.0044 - val_loss: 0.0045 - val_mse: 0.0045\n",
      "Epoch 84/100\n",
      "10/10 [==============================] - 0s 4ms/step - loss: 0.0044 - mse: 0.0044 - val_loss: 0.0045 - val_mse: 0.0045\n",
      "Epoch 85/100\n",
      "10/10 [==============================] - 0s 4ms/step - loss: 0.0043 - mse: 0.0043 - val_loss: 0.0045 - val_mse: 0.0045\n",
      "Epoch 86/100\n",
      "10/10 [==============================] - 0s 3ms/step - loss: 0.0043 - mse: 0.0043 - val_loss: 0.0045 - val_mse: 0.0045\n",
      "Epoch 87/100\n",
      "10/10 [==============================] - 0s 6ms/step - loss: 0.0043 - mse: 0.0043 - val_loss: 0.0043 - val_mse: 0.0043\n",
      "Epoch 88/100\n",
      "10/10 [==============================] - 0s 4ms/step - loss: 0.0042 - mse: 0.0042 - val_loss: 0.0044 - val_mse: 0.0044\n",
      "Epoch 89/100\n",
      "10/10 [==============================] - 0s 4ms/step - loss: 0.0042 - mse: 0.0042 - val_loss: 0.0044 - val_mse: 0.0044\n",
      "Epoch 90/100\n",
      "10/10 [==============================] - 0s 4ms/step - loss: 0.0042 - mse: 0.0042 - val_loss: 0.0043 - val_mse: 0.0043\n",
      "Epoch 91/100\n",
      "10/10 [==============================] - 0s 4ms/step - loss: 0.0042 - mse: 0.0042 - val_loss: 0.0043 - val_mse: 0.0043\n",
      "Epoch 92/100\n",
      "10/10 [==============================] - 0s 3ms/step - loss: 0.0041 - mse: 0.0041 - val_loss: 0.0043 - val_mse: 0.0043\n",
      "Epoch 93/100\n",
      "10/10 [==============================] - 0s 3ms/step - loss: 0.0041 - mse: 0.0041 - val_loss: 0.0043 - val_mse: 0.0043\n",
      "Epoch 94/100\n",
      "10/10 [==============================] - 0s 6ms/step - loss: 0.0041 - mse: 0.0041 - val_loss: 0.0042 - val_mse: 0.0042\n",
      "Epoch 95/100\n",
      "10/10 [==============================] - 0s 4ms/step - loss: 0.0041 - mse: 0.0041 - val_loss: 0.0042 - val_mse: 0.0042\n",
      "Epoch 96/100\n",
      "10/10 [==============================] - 0s 3ms/step - loss: 0.0041 - mse: 0.0041 - val_loss: 0.0041 - val_mse: 0.0041\n",
      "Epoch 97/100\n",
      "10/10 [==============================] - 0s 3ms/step - loss: 0.0040 - mse: 0.0040 - val_loss: 0.0042 - val_mse: 0.0042\n",
      "Epoch 98/100\n",
      "10/10 [==============================] - 0s 4ms/step - loss: 0.0040 - mse: 0.0040 - val_loss: 0.0042 - val_mse: 0.0042\n",
      "Epoch 99/100\n",
      "10/10 [==============================] - 0s 4ms/step - loss: 0.0040 - mse: 0.0040 - val_loss: 0.0041 - val_mse: 0.0041\n",
      "Epoch 100/100\n",
      "10/10 [==============================] - 0s 5ms/step - loss: 0.0040 - mse: 0.0040 - val_loss: 0.0041 - val_mse: 0.0041\n"
     ]
    }
   ],
   "source": [
    "hist = model.fit(scaled_X_train,y_train, validation_split = 0.2, epochs = 100)"
   ]
  },
  {
   "cell_type": "code",
   "execution_count": 54,
   "id": "9394616f",
   "metadata": {
    "execution": {
     "iopub.execute_input": "2023-04-27T20:12:57.870328Z",
     "iopub.status.busy": "2023-04-27T20:12:57.870005Z",
     "iopub.status.idle": "2023-04-27T20:12:57.943587Z",
     "shell.execute_reply": "2023-04-27T20:12:57.942837Z",
     "shell.execute_reply.started": "2023-04-27T20:12:57.870295Z"
    }
   },
   "outputs": [
    {
     "data": {
      "text/plain": [
       "array([[0.86915129, 0.78      ],\n",
       "       [0.51337308, 0.54      ],\n",
       "       [0.63686478, 0.64      ],\n",
       "       [0.46111599, 0.47      ],\n",
       "       [0.68291259, 0.7       ],\n",
       "       [0.86264122, 0.88      ],\n",
       "       [0.60784799, 0.57      ],\n",
       "       [0.63027334, 0.72      ],\n",
       "       [0.82326651, 0.84      ],\n",
       "       [0.66297948, 0.64      ],\n",
       "       [0.70091701, 0.79      ],\n",
       "       [0.59577364, 0.56      ],\n",
       "       [0.87384939, 0.92      ],\n",
       "       [0.68630743, 0.79      ],\n",
       "       [0.67143095, 0.73      ],\n",
       "       [0.52092105, 0.52      ],\n",
       "       [0.62850982, 0.62      ],\n",
       "       [0.76217151, 0.81      ],\n",
       "       [0.55081052, 0.57      ],\n",
       "       [0.71820366, 0.65      ],\n",
       "       [0.87865824, 0.93      ],\n",
       "       [0.63474745, 0.65      ],\n",
       "       [0.86540037, 0.86      ],\n",
       "       [0.82576668, 0.87      ],\n",
       "       [0.95495421, 0.97      ],\n",
       "       [0.63739878, 0.65      ],\n",
       "       [0.69395095, 0.57      ],\n",
       "       [0.93776786, 0.95      ],\n",
       "       [0.87989259, 0.91      ],\n",
       "       [0.72600561, 0.74      ],\n",
       "       [0.80700952, 0.85      ],\n",
       "       [0.84695208, 0.81      ],\n",
       "       [0.71780968, 0.73      ],\n",
       "       [0.58624679, 0.39      ],\n",
       "       [0.75661153, 0.8       ],\n",
       "       [0.78202295, 0.79      ],\n",
       "       [0.79340637, 0.73      ],\n",
       "       [0.604891  , 0.65      ],\n",
       "       [0.5387665 , 0.58      ],\n",
       "       [0.71688187, 0.75      ],\n",
       "       [0.94111258, 0.94      ],\n",
       "       [0.53111607, 0.71      ],\n",
       "       [0.81247503, 0.86      ],\n",
       "       [0.7863785 , 0.78      ],\n",
       "       [0.81411368, 0.87      ],\n",
       "       [0.54086596, 0.56      ],\n",
       "       [0.59352076, 0.62      ],\n",
       "       [0.88841808, 0.95      ],\n",
       "       [0.95018029, 0.93      ],\n",
       "       [0.60727042, 0.62      ],\n",
       "       [0.81530732, 0.81      ],\n",
       "       [0.72109848, 0.74      ],\n",
       "       [0.77917188, 0.84      ],\n",
       "       [0.96836764, 0.96      ],\n",
       "       [0.69084942, 0.46      ],\n",
       "       [0.84809536, 0.88      ],\n",
       "       [0.6240021 , 0.64      ],\n",
       "       [0.91841495, 0.9       ],\n",
       "       [0.74206477, 0.78      ],\n",
       "       [0.72843635, 0.71      ],\n",
       "       [0.70600212, 0.64      ],\n",
       "       [0.66005683, 0.73      ],\n",
       "       [0.49474889, 0.47      ],\n",
       "       [0.87863028, 0.93      ],\n",
       "       [0.68383646, 0.75      ],\n",
       "       [0.68840873, 0.68      ],\n",
       "       [0.71675837, 0.78      ],\n",
       "       [0.47867206, 0.34      ],\n",
       "       [0.84491682, 0.83      ],\n",
       "       [0.83845127, 0.9       ],\n",
       "       [0.92489558, 0.94      ],\n",
       "       [0.77499861, 0.73      ],\n",
       "       [0.65564018, 0.71      ],\n",
       "       [0.84771216, 0.87      ],\n",
       "       [0.70403308, 0.64      ],\n",
       "       [0.77943563, 0.79      ],\n",
       "       [0.55686134, 0.59      ],\n",
       "       [0.76413602, 0.7       ],\n",
       "       [0.95591122, 0.95      ],\n",
       "       [0.89881688, 0.92      ],\n",
       "       [0.68955904, 0.64      ],\n",
       "       [0.65506721, 0.65      ],\n",
       "       [0.88290066, 0.91      ],\n",
       "       [0.6097464 , 0.73      ],\n",
       "       [0.86278975, 0.91      ],\n",
       "       [0.79426378, 0.76      ],\n",
       "       [0.6717394 , 0.54      ],\n",
       "       [0.60496247, 0.68      ],\n",
       "       [0.68607295, 0.76      ],\n",
       "       [0.68175584, 0.68      ],\n",
       "       [0.63975972, 0.72      ],\n",
       "       [0.58330297, 0.67      ],\n",
       "       [0.64382142, 0.67      ],\n",
       "       [0.93573654, 0.94      ],\n",
       "       [0.91770285, 0.93      ],\n",
       "       [0.76244009, 0.77      ],\n",
       "       [0.85538733, 0.86      ],\n",
       "       [0.7659232 , 0.8       ],\n",
       "       [0.55733031, 0.64      ],\n",
       "       [0.83001292, 0.84      ]])"
      ]
     },
     "execution_count": 54,
     "metadata": {},
     "output_type": "execute_result"
    }
   ],
   "source": [
    "y_prob = model.predict(scaled_X_test)\n",
    "np.concatenate((y_prob.reshape(len(y_prob),1),y_test.values.reshape(len(y_test),1)),1)"
   ]
  },
  {
   "cell_type": "code",
   "execution_count": 55,
   "id": "121d2d93",
   "metadata": {
    "execution": {
     "iopub.execute_input": "2023-04-27T20:13:02.342322Z",
     "iopub.status.busy": "2023-04-27T20:13:02.342025Z",
     "iopub.status.idle": "2023-04-27T20:13:02.348647Z",
     "shell.execute_reply": "2023-04-27T20:13:02.347838Z",
     "shell.execute_reply.started": "2023-04-27T20:13:02.342289Z"
    }
   },
   "outputs": [
    {
     "data": {
      "text/plain": [
       "0.7737343195313745"
      ]
     },
     "execution_count": 55,
     "metadata": {},
     "output_type": "execute_result"
    }
   ],
   "source": [
    "r2_score(y_prob,y_test)"
   ]
  },
  {
   "cell_type": "code",
   "execution_count": 73,
   "id": "a75ae2d8",
   "metadata": {
    "execution": {
     "iopub.execute_input": "2023-04-27T20:19:52.393095Z",
     "iopub.status.busy": "2023-04-27T20:19:52.392827Z",
     "iopub.status.idle": "2023-04-27T20:19:52.430695Z",
     "shell.execute_reply": "2023-04-27T20:19:52.429878Z",
     "shell.execute_reply.started": "2023-04-27T20:19:52.393065Z"
    }
   },
   "outputs": [
    {
     "data": {
      "text/plain": [
       "array([[0.61099374]], dtype=float32)"
      ]
     },
     "execution_count": 73,
     "metadata": {},
     "output_type": "execute_result"
    }
   ],
   "source": [
    "x_t = np.array(sc.transform([[314,110,2,4.5,4.5,7.78,0]]))\n",
    "model.predict(x_t)"
   ]
  },
  {
   "cell_type": "code",
   "execution_count": null,
   "id": "c1cc203f",
   "metadata": {},
   "outputs": [],
   "source": []
  }
 ],
 "metadata": {
  "kernelspec": {
   "display_name": "Python 3",
   "language": "python",
   "name": "python3"
  },
  "language_info": {
   "codemirror_mode": {
    "name": "ipython",
    "version": 3
   },
   "file_extension": ".py",
   "mimetype": "text/x-python",
   "name": "python",
   "nbconvert_exporter": "python",
   "pygments_lexer": "ipython3",
   "version": "3.6.13"
  }
 },
 "nbformat": 4,
 "nbformat_minor": 5
}
