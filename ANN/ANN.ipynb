{
 "cells": [
  {
   "cell_type": "code",
   "execution_count": 57,
   "id": "f39a0dad",
   "metadata": {
    "execution": {
     "iopub.execute_input": "2023-04-27T11:31:50.471672Z",
     "iopub.status.busy": "2023-04-27T11:31:50.471424Z",
     "iopub.status.idle": "2023-04-27T11:31:50.474434Z",
     "shell.execute_reply": "2023-04-27T11:31:50.473837Z",
     "shell.execute_reply.started": "2023-04-27T11:31:50.471645Z"
    }
   },
   "outputs": [],
   "source": [
    "import pandas as pd\n",
    "import numpy as np\n",
    "import tensorflow as tf"
   ]
  },
  {
   "cell_type": "code",
   "execution_count": 58,
   "id": "6c75765b",
   "metadata": {
    "execution": {
     "iopub.execute_input": "2023-04-27T11:31:50.791359Z",
     "iopub.status.busy": "2023-04-27T11:31:50.791100Z",
     "iopub.status.idle": "2023-04-27T11:31:50.830434Z",
     "shell.execute_reply": "2023-04-27T11:31:50.829561Z",
     "shell.execute_reply.started": "2023-04-27T11:31:50.791331Z"
    }
   },
   "outputs": [
    {
     "data": {
      "text/html": [
       "<div>\n",
       "<style scoped>\n",
       "    .dataframe tbody tr th:only-of-type {\n",
       "        vertical-align: middle;\n",
       "    }\n",
       "\n",
       "    .dataframe tbody tr th {\n",
       "        vertical-align: top;\n",
       "    }\n",
       "\n",
       "    .dataframe thead th {\n",
       "        text-align: right;\n",
       "    }\n",
       "</style>\n",
       "<table border=\"1\" class=\"dataframe\">\n",
       "  <thead>\n",
       "    <tr style=\"text-align: right;\">\n",
       "      <th></th>\n",
       "      <th>RowNumber</th>\n",
       "      <th>CustomerId</th>\n",
       "      <th>Surname</th>\n",
       "      <th>CreditScore</th>\n",
       "      <th>Geography</th>\n",
       "      <th>Gender</th>\n",
       "      <th>Age</th>\n",
       "      <th>Tenure</th>\n",
       "      <th>Balance</th>\n",
       "      <th>NumOfProducts</th>\n",
       "      <th>HasCrCard</th>\n",
       "      <th>IsActiveMember</th>\n",
       "      <th>EstimatedSalary</th>\n",
       "      <th>Exited</th>\n",
       "    </tr>\n",
       "  </thead>\n",
       "  <tbody>\n",
       "    <tr>\n",
       "      <th>0</th>\n",
       "      <td>1</td>\n",
       "      <td>15634602</td>\n",
       "      <td>Hargrave</td>\n",
       "      <td>619</td>\n",
       "      <td>France</td>\n",
       "      <td>Female</td>\n",
       "      <td>42</td>\n",
       "      <td>2</td>\n",
       "      <td>0.00</td>\n",
       "      <td>1</td>\n",
       "      <td>1</td>\n",
       "      <td>1</td>\n",
       "      <td>101348.88</td>\n",
       "      <td>1</td>\n",
       "    </tr>\n",
       "    <tr>\n",
       "      <th>1</th>\n",
       "      <td>2</td>\n",
       "      <td>15647311</td>\n",
       "      <td>Hill</td>\n",
       "      <td>608</td>\n",
       "      <td>Spain</td>\n",
       "      <td>Female</td>\n",
       "      <td>41</td>\n",
       "      <td>1</td>\n",
       "      <td>83807.86</td>\n",
       "      <td>1</td>\n",
       "      <td>0</td>\n",
       "      <td>1</td>\n",
       "      <td>112542.58</td>\n",
       "      <td>0</td>\n",
       "    </tr>\n",
       "    <tr>\n",
       "      <th>2</th>\n",
       "      <td>3</td>\n",
       "      <td>15619304</td>\n",
       "      <td>Onio</td>\n",
       "      <td>502</td>\n",
       "      <td>France</td>\n",
       "      <td>Female</td>\n",
       "      <td>42</td>\n",
       "      <td>8</td>\n",
       "      <td>159660.80</td>\n",
       "      <td>3</td>\n",
       "      <td>1</td>\n",
       "      <td>0</td>\n",
       "      <td>113931.57</td>\n",
       "      <td>1</td>\n",
       "    </tr>\n",
       "    <tr>\n",
       "      <th>3</th>\n",
       "      <td>4</td>\n",
       "      <td>15701354</td>\n",
       "      <td>Boni</td>\n",
       "      <td>699</td>\n",
       "      <td>France</td>\n",
       "      <td>Female</td>\n",
       "      <td>39</td>\n",
       "      <td>1</td>\n",
       "      <td>0.00</td>\n",
       "      <td>2</td>\n",
       "      <td>0</td>\n",
       "      <td>0</td>\n",
       "      <td>93826.63</td>\n",
       "      <td>0</td>\n",
       "    </tr>\n",
       "    <tr>\n",
       "      <th>4</th>\n",
       "      <td>5</td>\n",
       "      <td>15737888</td>\n",
       "      <td>Mitchell</td>\n",
       "      <td>850</td>\n",
       "      <td>Spain</td>\n",
       "      <td>Female</td>\n",
       "      <td>43</td>\n",
       "      <td>2</td>\n",
       "      <td>125510.82</td>\n",
       "      <td>1</td>\n",
       "      <td>1</td>\n",
       "      <td>1</td>\n",
       "      <td>79084.10</td>\n",
       "      <td>0</td>\n",
       "    </tr>\n",
       "  </tbody>\n",
       "</table>\n",
       "</div>"
      ],
      "text/plain": [
       "   RowNumber  CustomerId   Surname  CreditScore Geography  Gender  Age  \\\n",
       "0          1    15634602  Hargrave          619    France  Female   42   \n",
       "1          2    15647311      Hill          608     Spain  Female   41   \n",
       "2          3    15619304      Onio          502    France  Female   42   \n",
       "3          4    15701354      Boni          699    France  Female   39   \n",
       "4          5    15737888  Mitchell          850     Spain  Female   43   \n",
       "\n",
       "   Tenure    Balance  NumOfProducts  HasCrCard  IsActiveMember  \\\n",
       "0       2       0.00              1          1               1   \n",
       "1       1   83807.86              1          0               1   \n",
       "2       8  159660.80              3          1               0   \n",
       "3       1       0.00              2          0               0   \n",
       "4       2  125510.82              1          1               1   \n",
       "\n",
       "   EstimatedSalary  Exited  \n",
       "0        101348.88       1  \n",
       "1        112542.58       0  \n",
       "2        113931.57       1  \n",
       "3         93826.63       0  \n",
       "4         79084.10       0  "
      ]
     },
     "execution_count": 58,
     "metadata": {},
     "output_type": "execute_result"
    }
   ],
   "source": [
    "dataset = pd.read_csv('Churn_Modelling.csv')\n",
    "dataset.head()"
   ]
  },
  {
   "cell_type": "code",
   "execution_count": 61,
   "id": "2a690a67",
   "metadata": {
    "execution": {
     "iopub.execute_input": "2023-04-27T11:32:20.909260Z",
     "iopub.status.busy": "2023-04-27T11:32:20.908983Z",
     "iopub.status.idle": "2023-04-27T11:32:20.915643Z",
     "shell.execute_reply": "2023-04-27T11:32:20.915094Z",
     "shell.execute_reply.started": "2023-04-27T11:32:20.909231Z"
    }
   },
   "outputs": [],
   "source": [
    "X = dataset.iloc[:,3:-1].values\n",
    "y = dataset.iloc[:,-1].values"
   ]
  },
  {
   "cell_type": "code",
   "execution_count": 62,
   "id": "dc1e2498",
   "metadata": {
    "execution": {
     "iopub.execute_input": "2023-04-27T11:32:21.689452Z",
     "iopub.status.busy": "2023-04-27T11:32:21.689198Z",
     "iopub.status.idle": "2023-04-27T11:32:21.693086Z",
     "shell.execute_reply": "2023-04-27T11:32:21.692501Z",
     "shell.execute_reply.started": "2023-04-27T11:32:21.689424Z"
    }
   },
   "outputs": [
    {
     "name": "stdout",
     "output_type": "stream",
     "text": [
      "[[619 'France' 'Female' ... 1 1 101348.88]\n",
      " [608 'Spain' 'Female' ... 0 1 112542.58]\n",
      " [502 'France' 'Female' ... 1 0 113931.57]\n",
      " ...\n",
      " [709 'France' 'Female' ... 0 1 42085.58]\n",
      " [772 'Germany' 'Male' ... 1 0 92888.52]\n",
      " [792 'France' 'Female' ... 1 0 38190.78]] [1 0 1 ... 1 1 0]\n"
     ]
    }
   ],
   "source": [
    "print(X,y)"
   ]
  },
  {
   "cell_type": "code",
   "execution_count": 63,
   "id": "6e3fa217",
   "metadata": {
    "execution": {
     "iopub.execute_input": "2023-04-27T11:32:44.477182Z",
     "iopub.status.busy": "2023-04-27T11:32:44.476889Z",
     "iopub.status.idle": "2023-04-27T11:32:44.485287Z",
     "shell.execute_reply": "2023-04-27T11:32:44.484706Z",
     "shell.execute_reply.started": "2023-04-27T11:32:44.477154Z"
    }
   },
   "outputs": [
    {
     "data": {
      "text/plain": [
       "(10000, 10)"
      ]
     },
     "execution_count": 63,
     "metadata": {},
     "output_type": "execute_result"
    }
   ],
   "source": [
    "X.shape"
   ]
  },
  {
   "cell_type": "code",
   "execution_count": 64,
   "id": "fb99d09e",
   "metadata": {
    "execution": {
     "iopub.execute_input": "2023-04-27T11:32:46.365338Z",
     "iopub.status.busy": "2023-04-27T11:32:46.365083Z",
     "iopub.status.idle": "2023-04-27T11:32:46.370591Z",
     "shell.execute_reply": "2023-04-27T11:32:46.369972Z",
     "shell.execute_reply.started": "2023-04-27T11:32:46.365312Z"
    }
   },
   "outputs": [],
   "source": [
    "from sklearn.preprocessing import LabelEncoder\n",
    "le = LabelEncoder()\n",
    "X[:,2] = le.fit_transform(X[:,2])"
   ]
  },
  {
   "cell_type": "code",
   "execution_count": 65,
   "id": "c23cd9ff",
   "metadata": {
    "execution": {
     "iopub.execute_input": "2023-04-27T11:32:47.153747Z",
     "iopub.status.busy": "2023-04-27T11:32:47.153473Z",
     "iopub.status.idle": "2023-04-27T11:32:47.157042Z",
     "shell.execute_reply": "2023-04-27T11:32:47.156455Z",
     "shell.execute_reply.started": "2023-04-27T11:32:47.153720Z"
    }
   },
   "outputs": [
    {
     "name": "stdout",
     "output_type": "stream",
     "text": [
      "[[619 'France' 0 ... 1 1 101348.88]\n",
      " [608 'Spain' 0 ... 0 1 112542.58]\n",
      " [502 'France' 0 ... 1 0 113931.57]\n",
      " ...\n",
      " [709 'France' 0 ... 0 1 42085.58]\n",
      " [772 'Germany' 1 ... 1 0 92888.52]\n",
      " [792 'France' 0 ... 1 0 38190.78]]\n"
     ]
    }
   ],
   "source": [
    "print(X)"
   ]
  },
  {
   "cell_type": "code",
   "execution_count": 66,
   "id": "1cc54fc6",
   "metadata": {
    "execution": {
     "iopub.execute_input": "2023-04-27T11:32:49.398013Z",
     "iopub.status.busy": "2023-04-27T11:32:49.397524Z",
     "iopub.status.idle": "2023-04-27T11:32:49.408804Z",
     "shell.execute_reply": "2023-04-27T11:32:49.406155Z",
     "shell.execute_reply.started": "2023-04-27T11:32:49.397957Z"
    }
   },
   "outputs": [
    {
     "data": {
      "text/plain": [
       "(10000, 10)"
      ]
     },
     "execution_count": 66,
     "metadata": {},
     "output_type": "execute_result"
    }
   ],
   "source": [
    "X.shape"
   ]
  },
  {
   "cell_type": "code",
   "execution_count": 15,
   "id": "3948beec",
   "metadata": {
    "execution": {
     "iopub.execute_input": "2023-04-27T08:43:33.374633Z",
     "iopub.status.busy": "2023-04-27T08:43:33.374320Z",
     "iopub.status.idle": "2023-04-27T08:43:33.388457Z",
     "shell.execute_reply": "2023-04-27T08:43:33.387683Z",
     "shell.execute_reply.started": "2023-04-27T08:43:33.374596Z"
    }
   },
   "outputs": [
    {
     "name": "stdout",
     "output_type": "stream",
     "text": [
      "[[1.0 0.0 0.0 ... 1 1 101348.88]\n",
      " [0.0 0.0 1.0 ... 0 1 112542.58]\n",
      " [1.0 0.0 0.0 ... 1 0 113931.57]\n",
      " ...\n",
      " [1.0 0.0 0.0 ... 0 1 42085.58]\n",
      " [0.0 1.0 0.0 ... 1 0 92888.52]\n",
      " [1.0 0.0 0.0 ... 1 0 38190.78]]\n"
     ]
    }
   ],
   "source": [
    "from sklearn.compose import ColumnTransformer\n",
    "from sklearn.preprocessing import OneHotEncoder\n",
    "\n",
    "ct = ColumnTransformer(transformers = [('encoder',OneHotEncoder(),[1])],remainder = 'passthrough')\n",
    "X = np.array(ct.fit_transform(X))\n",
    "print(X)"
   ]
  },
  {
   "cell_type": "code",
   "execution_count": 16,
   "id": "d70692e0",
   "metadata": {
    "execution": {
     "iopub.execute_input": "2023-04-27T08:43:36.141715Z",
     "iopub.status.busy": "2023-04-27T08:43:36.141408Z",
     "iopub.status.idle": "2023-04-27T08:43:36.146297Z",
     "shell.execute_reply": "2023-04-27T08:43:36.145645Z",
     "shell.execute_reply.started": "2023-04-27T08:43:36.141666Z"
    }
   },
   "outputs": [
    {
     "data": {
      "text/plain": [
       "(10000, 12)"
      ]
     },
     "execution_count": 16,
     "metadata": {},
     "output_type": "execute_result"
    }
   ],
   "source": [
    "X.shape"
   ]
  },
  {
   "cell_type": "code",
   "execution_count": 17,
   "id": "7d427e1e",
   "metadata": {
    "execution": {
     "iopub.execute_input": "2023-04-27T08:44:48.544485Z",
     "iopub.status.busy": "2023-04-27T08:44:48.544220Z",
     "iopub.status.idle": "2023-04-27T08:44:48.551744Z",
     "shell.execute_reply": "2023-04-27T08:44:48.551224Z",
     "shell.execute_reply.started": "2023-04-27T08:44:48.544454Z"
    }
   },
   "outputs": [],
   "source": [
    "from sklearn.model_selection import train_test_split\n",
    "\n",
    "X_train,X_test,y_train,y_test  = train_test_split(X,y,test_size = 0.2,random_state=0)"
   ]
  },
  {
   "cell_type": "code",
   "execution_count": 18,
   "id": "c656bb21",
   "metadata": {
    "execution": {
     "iopub.execute_input": "2023-04-27T08:46:17.485103Z",
     "iopub.status.busy": "2023-04-27T08:46:17.484808Z",
     "iopub.status.idle": "2023-04-27T08:46:17.501857Z",
     "shell.execute_reply": "2023-04-27T08:46:17.501277Z",
     "shell.execute_reply.started": "2023-04-27T08:46:17.485073Z"
    }
   },
   "outputs": [
    {
     "name": "stdout",
     "output_type": "stream",
     "text": [
      "[[-1.01460667 -0.5698444   1.74309049 ...  0.64259497 -1.03227043\n",
      "   1.10643166]\n",
      " [-1.01460667  1.75486502 -0.57369368 ...  0.64259497  0.9687384\n",
      "  -0.74866447]\n",
      " [ 0.98560362 -0.5698444  -0.57369368 ...  0.64259497 -1.03227043\n",
      "   1.48533467]\n",
      " ...\n",
      " [ 0.98560362 -0.5698444  -0.57369368 ...  0.64259497 -1.03227043\n",
      "   1.41231994]\n",
      " [-1.01460667 -0.5698444   1.74309049 ...  0.64259497  0.9687384\n",
      "   0.84432121]\n",
      " [-1.01460667  1.75486502 -0.57369368 ...  0.64259497 -1.03227043\n",
      "   0.32472465]]\n"
     ]
    }
   ],
   "source": [
    "from sklearn.preprocessing import StandardScaler\n",
    "sc = StandardScaler()\n",
    "X_train = sc.fit_transform(X_train)\n",
    "X_test = sc.fit_transform(X_test)\n",
    "print(X_train)"
   ]
  },
  {
   "cell_type": "code",
   "execution_count": 19,
   "id": "592df947",
   "metadata": {
    "execution": {
     "iopub.execute_input": "2023-04-27T09:03:00.590014Z",
     "iopub.status.busy": "2023-04-27T09:03:00.589713Z",
     "iopub.status.idle": "2023-04-27T09:03:00.652605Z",
     "shell.execute_reply": "2023-04-27T09:03:00.651818Z",
     "shell.execute_reply.started": "2023-04-27T09:03:00.589979Z"
    }
   },
   "outputs": [
    {
     "name": "stdout",
     "output_type": "stream",
     "text": [
      "The history saving thread hit an unexpected error (OperationalError('database is locked',)).History will not be written to the database.\n"
     ]
    }
   ],
   "source": [
    "ann = tf.keras.models.Sequential()"
   ]
  },
  {
   "cell_type": "code",
   "execution_count": 20,
   "id": "2d89a474",
   "metadata": {
    "execution": {
     "iopub.execute_input": "2023-04-27T09:03:58.581499Z",
     "iopub.status.busy": "2023-04-27T09:03:58.581197Z",
     "iopub.status.idle": "2023-04-27T09:03:58.592123Z",
     "shell.execute_reply": "2023-04-27T09:03:58.591541Z",
     "shell.execute_reply.started": "2023-04-27T09:03:58.581464Z"
    }
   },
   "outputs": [],
   "source": [
    "ann.add(tf.keras.layers.Dense(units = 6, activation = 'relu'))"
   ]
  },
  {
   "cell_type": "code",
   "execution_count": 21,
   "id": "281f83f3",
   "metadata": {
    "execution": {
     "iopub.execute_input": "2023-04-27T09:04:03.732727Z",
     "iopub.status.busy": "2023-04-27T09:04:03.732094Z",
     "iopub.status.idle": "2023-04-27T09:04:03.737335Z",
     "shell.execute_reply": "2023-04-27T09:04:03.736776Z",
     "shell.execute_reply.started": "2023-04-27T09:04:03.732667Z"
    }
   },
   "outputs": [],
   "source": [
    "ann.add(tf.keras.layers.Dense(units = 6, activation = 'relu'))"
   ]
  },
  {
   "cell_type": "code",
   "execution_count": 22,
   "id": "3ad087aa",
   "metadata": {
    "execution": {
     "iopub.execute_input": "2023-04-27T09:04:18.088185Z",
     "iopub.status.busy": "2023-04-27T09:04:18.087849Z",
     "iopub.status.idle": "2023-04-27T09:04:18.093051Z",
     "shell.execute_reply": "2023-04-27T09:04:18.092452Z",
     "shell.execute_reply.started": "2023-04-27T09:04:18.088148Z"
    }
   },
   "outputs": [],
   "source": [
    "ann.add(tf.keras.layers.Dense(units=1, activation='sigmoid'))"
   ]
  },
  {
   "cell_type": "code",
   "execution_count": 23,
   "id": "2f65f84a",
   "metadata": {
    "execution": {
     "iopub.execute_input": "2023-04-27T09:09:02.540957Z",
     "iopub.status.busy": "2023-04-27T09:09:02.540656Z",
     "iopub.status.idle": "2023-04-27T09:09:02.793874Z",
     "shell.execute_reply": "2023-04-27T09:09:02.793001Z",
     "shell.execute_reply.started": "2023-04-27T09:09:02.540923Z"
    }
   },
   "outputs": [],
   "source": [
    "ann.compile(optimizer = 'adam' , loss='binary_crossentropy', metrics = 'accuracy')"
   ]
  },
  {
   "cell_type": "code",
   "execution_count": 24,
   "id": "3061a6bd",
   "metadata": {
    "execution": {
     "iopub.execute_input": "2023-04-27T09:09:15.398022Z",
     "iopub.status.busy": "2023-04-27T09:09:15.397726Z",
     "iopub.status.idle": "2023-04-27T09:09:31.750446Z",
     "shell.execute_reply": "2023-04-27T09:09:31.749434Z",
     "shell.execute_reply.started": "2023-04-27T09:09:15.397990Z"
    }
   },
   "outputs": [
    {
     "name": "stdout",
     "output_type": "stream",
     "text": [
      "Epoch 1/100\n",
      "250/250 [==============================] - 0s 738us/step - loss: 0.5642 - accuracy: 0.7789\n",
      "Epoch 2/100\n",
      "250/250 [==============================] - 0s 661us/step - loss: 0.4795 - accuracy: 0.7990\n",
      "Epoch 3/100\n",
      "250/250 [==============================] - 0s 629us/step - loss: 0.4422 - accuracy: 0.8121\n",
      "Epoch 4/100\n",
      "250/250 [==============================] - 0s 586us/step - loss: 0.4221 - accuracy: 0.8138\n",
      "Epoch 5/100\n",
      "250/250 [==============================] - 0s 567us/step - loss: 0.4069 - accuracy: 0.8191\n",
      "Epoch 6/100\n",
      "250/250 [==============================] - 0s 573us/step - loss: 0.3958 - accuracy: 0.8238\n",
      "Epoch 7/100\n",
      "250/250 [==============================] - 0s 565us/step - loss: 0.3874 - accuracy: 0.8276\n",
      "Epoch 8/100\n",
      "250/250 [==============================] - 0s 628us/step - loss: 0.3792 - accuracy: 0.8355\n",
      "Epoch 9/100\n",
      "250/250 [==============================] - 0s 641us/step - loss: 0.3720 - accuracy: 0.8438\n",
      "Epoch 10/100\n",
      "250/250 [==============================] - 0s 654us/step - loss: 0.3663 - accuracy: 0.8471\n",
      "Epoch 11/100\n",
      "250/250 [==============================] - 0s 627us/step - loss: 0.3612 - accuracy: 0.8519\n",
      "Epoch 12/100\n",
      "250/250 [==============================] - 0s 621us/step - loss: 0.3573 - accuracy: 0.8525\n",
      "Epoch 13/100\n",
      "250/250 [==============================] - 0s 531us/step - loss: 0.3539 - accuracy: 0.8553\n",
      "Epoch 14/100\n",
      "250/250 [==============================] - 0s 531us/step - loss: 0.3513 - accuracy: 0.8546\n",
      "Epoch 15/100\n",
      "250/250 [==============================] - 0s 552us/step - loss: 0.3497 - accuracy: 0.8558\n",
      "Epoch 16/100\n",
      "250/250 [==============================] - 0s 563us/step - loss: 0.3481 - accuracy: 0.8558\n",
      "Epoch 17/100\n",
      "250/250 [==============================] - 0s 609us/step - loss: 0.3468 - accuracy: 0.8574\n",
      "Epoch 18/100\n",
      "250/250 [==============================] - 0s 600us/step - loss: 0.3461 - accuracy: 0.8580\n",
      "Epoch 19/100\n",
      "250/250 [==============================] - 0s 574us/step - loss: 0.3452 - accuracy: 0.8584\n",
      "Epoch 20/100\n",
      "250/250 [==============================] - 0s 620us/step - loss: 0.3444 - accuracy: 0.8581\n",
      "Epoch 21/100\n",
      "250/250 [==============================] - 0s 592us/step - loss: 0.3438 - accuracy: 0.8605\n",
      "Epoch 22/100\n",
      "250/250 [==============================] - 0s 591us/step - loss: 0.3430 - accuracy: 0.8600\n",
      "Epoch 23/100\n",
      "250/250 [==============================] - 0s 632us/step - loss: 0.3428 - accuracy: 0.8590\n",
      "Epoch 24/100\n",
      "250/250 [==============================] - 0s 707us/step - loss: 0.3423 - accuracy: 0.8595\n",
      "Epoch 25/100\n",
      "250/250 [==============================] - 0s 628us/step - loss: 0.3420 - accuracy: 0.8601\n",
      "Epoch 26/100\n",
      "250/250 [==============================] - 0s 787us/step - loss: 0.3414 - accuracy: 0.8610\n",
      "Epoch 27/100\n",
      "250/250 [==============================] - 0s 648us/step - loss: 0.3413 - accuracy: 0.8620\n",
      "Epoch 28/100\n",
      "250/250 [==============================] - 0s 602us/step - loss: 0.3406 - accuracy: 0.8605\n",
      "Epoch 29/100\n",
      "250/250 [==============================] - 0s 598us/step - loss: 0.3405 - accuracy: 0.8616\n",
      "Epoch 30/100\n",
      "250/250 [==============================] - 0s 600us/step - loss: 0.3400 - accuracy: 0.8616\n",
      "Epoch 31/100\n",
      "250/250 [==============================] - 0s 652us/step - loss: 0.3399 - accuracy: 0.8620\n",
      "Epoch 32/100\n",
      "250/250 [==============================] - 0s 692us/step - loss: 0.3395 - accuracy: 0.8610\n",
      "Epoch 33/100\n",
      "250/250 [==============================] - 0s 619us/step - loss: 0.3393 - accuracy: 0.8631\n",
      "Epoch 34/100\n",
      "250/250 [==============================] - 0s 615us/step - loss: 0.3391 - accuracy: 0.8631\n",
      "Epoch 35/100\n",
      "250/250 [==============================] - 0s 590us/step - loss: 0.3388 - accuracy: 0.8618\n",
      "Epoch 36/100\n",
      "250/250 [==============================] - 0s 592us/step - loss: 0.3389 - accuracy: 0.8615\n",
      "Epoch 37/100\n",
      "250/250 [==============================] - 0s 670us/step - loss: 0.3384 - accuracy: 0.8624\n",
      "Epoch 38/100\n",
      "250/250 [==============================] - 0s 673us/step - loss: 0.3382 - accuracy: 0.8622\n",
      "Epoch 39/100\n",
      "250/250 [==============================] - 0s 681us/step - loss: 0.3381 - accuracy: 0.8614\n",
      "Epoch 40/100\n",
      "250/250 [==============================] - 0s 651us/step - loss: 0.3382 - accuracy: 0.8626\n",
      "Epoch 41/100\n",
      "250/250 [==============================] - 0s 589us/step - loss: 0.3373 - accuracy: 0.8615\n",
      "Epoch 42/100\n",
      "250/250 [==============================] - 0s 601us/step - loss: 0.3374 - accuracy: 0.8614\n",
      "Epoch 43/100\n",
      "250/250 [==============================] - 0s 586us/step - loss: 0.3374 - accuracy: 0.8635\n",
      "Epoch 44/100\n",
      "250/250 [==============================] - 0s 612us/step - loss: 0.3373 - accuracy: 0.8626\n",
      "Epoch 45/100\n",
      "250/250 [==============================] - 0s 657us/step - loss: 0.3372 - accuracy: 0.8621\n",
      "Epoch 46/100\n",
      "250/250 [==============================] - 0s 629us/step - loss: 0.3371 - accuracy: 0.8636\n",
      "Epoch 47/100\n",
      "250/250 [==============================] - 0s 624us/step - loss: 0.3370 - accuracy: 0.8612\n",
      "Epoch 48/100\n",
      "250/250 [==============================] - 0s 580us/step - loss: 0.3370 - accuracy: 0.8621\n",
      "Epoch 49/100\n",
      "250/250 [==============================] - 0s 626us/step - loss: 0.3368 - accuracy: 0.8627\n",
      "Epoch 50/100\n",
      "250/250 [==============================] - 0s 643us/step - loss: 0.3366 - accuracy: 0.8624\n",
      "Epoch 51/100\n",
      "250/250 [==============================] - 0s 631us/step - loss: 0.3366 - accuracy: 0.8630\n",
      "Epoch 52/100\n",
      "250/250 [==============================] - 0s 535us/step - loss: 0.3363 - accuracy: 0.8626\n",
      "Epoch 53/100\n",
      "250/250 [==============================] - 0s 620us/step - loss: 0.3364 - accuracy: 0.8631\n",
      "Epoch 54/100\n",
      "250/250 [==============================] - 0s 674us/step - loss: 0.3366 - accuracy: 0.8637\n",
      "Epoch 55/100\n",
      "250/250 [==============================] - 0s 636us/step - loss: 0.3360 - accuracy: 0.8639\n",
      "Epoch 56/100\n",
      "250/250 [==============================] - 0s 590us/step - loss: 0.3358 - accuracy: 0.8631\n",
      "Epoch 57/100\n",
      "250/250 [==============================] - 0s 653us/step - loss: 0.3361 - accuracy: 0.8621\n",
      "Epoch 58/100\n",
      "250/250 [==============================] - 0s 671us/step - loss: 0.3360 - accuracy: 0.8637\n",
      "Epoch 59/100\n",
      "250/250 [==============================] - 0s 663us/step - loss: 0.3359 - accuracy: 0.8620\n",
      "Epoch 60/100\n",
      "250/250 [==============================] - 0s 668us/step - loss: 0.3359 - accuracy: 0.8630\n",
      "Epoch 61/100\n",
      "250/250 [==============================] - 0s 631us/step - loss: 0.3356 - accuracy: 0.8637\n",
      "Epoch 62/100\n",
      "250/250 [==============================] - 0s 620us/step - loss: 0.3358 - accuracy: 0.8619\n",
      "Epoch 63/100\n",
      "250/250 [==============================] - 0s 640us/step - loss: 0.3355 - accuracy: 0.8629\n",
      "Epoch 64/100\n",
      "250/250 [==============================] - 0s 620us/step - loss: 0.3351 - accuracy: 0.8634\n",
      "Epoch 65/100\n",
      "250/250 [==============================] - 0s 608us/step - loss: 0.3351 - accuracy: 0.8644\n",
      "Epoch 66/100\n",
      "250/250 [==============================] - 0s 617us/step - loss: 0.3351 - accuracy: 0.8643\n",
      "Epoch 67/100\n",
      "250/250 [==============================] - 0s 615us/step - loss: 0.3354 - accuracy: 0.8645\n",
      "Epoch 68/100\n",
      "250/250 [==============================] - 0s 622us/step - loss: 0.3350 - accuracy: 0.8630\n",
      "Epoch 69/100\n",
      "250/250 [==============================] - 0s 583us/step - loss: 0.3356 - accuracy: 0.8629\n",
      "Epoch 70/100\n",
      "250/250 [==============================] - 0s 686us/step - loss: 0.3356 - accuracy: 0.8639\n",
      "Epoch 71/100\n",
      "250/250 [==============================] - 0s 656us/step - loss: 0.3351 - accuracy: 0.8641\n",
      "Epoch 72/100\n",
      "250/250 [==============================] - 0s 639us/step - loss: 0.3347 - accuracy: 0.8649\n",
      "Epoch 73/100\n",
      "250/250 [==============================] - 0s 631us/step - loss: 0.3345 - accuracy: 0.8641\n",
      "Epoch 74/100\n",
      "250/250 [==============================] - 0s 562us/step - loss: 0.3349 - accuracy: 0.8637\n",
      "Epoch 75/100\n",
      "250/250 [==============================] - 0s 578us/step - loss: 0.3345 - accuracy: 0.8635\n",
      "Epoch 76/100\n",
      "250/250 [==============================] - 0s 637us/step - loss: 0.3349 - accuracy: 0.8646\n",
      "Epoch 77/100\n",
      "250/250 [==============================] - 0s 631us/step - loss: 0.3347 - accuracy: 0.8634\n",
      "Epoch 78/100\n",
      "250/250 [==============================] - 0s 590us/step - loss: 0.3348 - accuracy: 0.8645\n",
      "Epoch 79/100\n",
      "250/250 [==============================] - 0s 614us/step - loss: 0.3345 - accuracy: 0.8643\n",
      "Epoch 80/100\n",
      "250/250 [==============================] - 0s 632us/step - loss: 0.3345 - accuracy: 0.8633\n",
      "Epoch 81/100\n",
      "250/250 [==============================] - 0s 645us/step - loss: 0.3343 - accuracy: 0.8649\n",
      "Epoch 82/100\n",
      "250/250 [==============================] - 0s 702us/step - loss: 0.3342 - accuracy: 0.8633\n",
      "Epoch 83/100\n",
      "250/250 [==============================] - 0s 612us/step - loss: 0.3339 - accuracy: 0.8624\n",
      "Epoch 84/100\n",
      "250/250 [==============================] - 0s 629us/step - loss: 0.3341 - accuracy: 0.8643\n",
      "Epoch 85/100\n",
      "250/250 [==============================] - 0s 565us/step - loss: 0.3341 - accuracy: 0.8633\n",
      "Epoch 86/100\n",
      "250/250 [==============================] - 0s 525us/step - loss: 0.3343 - accuracy: 0.8639\n",
      "Epoch 87/100\n",
      "250/250 [==============================] - 0s 605us/step - loss: 0.3342 - accuracy: 0.8649\n",
      "Epoch 88/100\n",
      "250/250 [==============================] - 0s 650us/step - loss: 0.3338 - accuracy: 0.8621\n",
      "Epoch 89/100\n",
      "250/250 [==============================] - 0s 627us/step - loss: 0.3340 - accuracy: 0.8634\n",
      "Epoch 90/100\n",
      "250/250 [==============================] - 0s 612us/step - loss: 0.3342 - accuracy: 0.8662\n",
      "Epoch 91/100\n",
      "250/250 [==============================] - 0s 552us/step - loss: 0.3341 - accuracy: 0.8639\n",
      "Epoch 92/100\n",
      "250/250 [==============================] - 0s 586us/step - loss: 0.3340 - accuracy: 0.8650\n",
      "Epoch 93/100\n",
      "250/250 [==============================] - 0s 631us/step - loss: 0.3337 - accuracy: 0.8633\n",
      "Epoch 94/100\n",
      "250/250 [==============================] - 0s 621us/step - loss: 0.3337 - accuracy: 0.8639\n",
      "Epoch 95/100\n",
      "250/250 [==============================] - 0s 625us/step - loss: 0.3338 - accuracy: 0.8622\n",
      "Epoch 96/100\n",
      "250/250 [==============================] - 0s 630us/step - loss: 0.3337 - accuracy: 0.8641\n",
      "Epoch 97/100\n",
      "250/250 [==============================] - 0s 607us/step - loss: 0.3338 - accuracy: 0.8646\n",
      "Epoch 98/100\n",
      "250/250 [==============================] - 0s 615us/step - loss: 0.3337 - accuracy: 0.8649\n",
      "Epoch 99/100\n",
      "250/250 [==============================] - 0s 601us/step - loss: 0.3336 - accuracy: 0.8640\n",
      "Epoch 100/100\n",
      "250/250 [==============================] - 0s 602us/step - loss: 0.3334 - accuracy: 0.8649\n"
     ]
    },
    {
     "data": {
      "text/plain": [
       "<tensorflow.python.keras.callbacks.History at 0x7f6398338ac8>"
      ]
     },
     "execution_count": 24,
     "metadata": {},
     "output_type": "execute_result"
    }
   ],
   "source": [
    "ann.fit(X_train, y_train, batch_size = 32, epochs = 100)"
   ]
  },
  {
   "cell_type": "code",
   "execution_count": null,
   "id": "92dadc78",
   "metadata": {},
   "outputs": [],
   "source": []
  },
  {
   "cell_type": "code",
   "execution_count": null,
   "id": "83b54773",
   "metadata": {},
   "outputs": [],
   "source": []
  },
  {
   "cell_type": "code",
   "execution_count": 36,
   "id": "ec0ce443",
   "metadata": {
    "execution": {
     "iopub.execute_input": "2023-04-27T10:52:12.915329Z",
     "iopub.status.busy": "2023-04-27T10:52:12.915007Z",
     "iopub.status.idle": "2023-04-27T10:52:12.923693Z",
     "shell.execute_reply": "2023-04-27T10:52:12.922677Z",
     "shell.execute_reply.started": "2023-04-27T10:52:12.915296Z"
    }
   },
   "outputs": [
    {
     "data": {
      "text/plain": [
       "array([[ 1.04501206, -0.61433742, -0.57427105, -0.52978695,  0.8981563 ,\n",
       "         0.07611425, -0.739106  , -0.29407315,  0.80136281,  0.66011376,\n",
       "         0.97628121, -0.86697328]])"
      ]
     },
     "execution_count": 36,
     "metadata": {},
     "output_type": "execute_result"
    }
   ],
   "source": [
    "x_t = np.array(sc.transform([[1,0,0,600,1,40,3,60000,2,1,1,50000]]))\n",
    "x_t"
   ]
  },
  {
   "cell_type": "code",
   "execution_count": 37,
   "id": "73ba650c",
   "metadata": {
    "execution": {
     "iopub.execute_input": "2023-04-27T10:52:18.229717Z",
     "iopub.status.busy": "2023-04-27T10:52:18.229422Z",
     "iopub.status.idle": "2023-04-27T10:52:18.234107Z",
     "shell.execute_reply": "2023-04-27T10:52:18.233482Z",
     "shell.execute_reply.started": "2023-04-27T10:52:18.229684Z"
    }
   },
   "outputs": [
    {
     "data": {
      "text/plain": [
       "(1, 12)"
      ]
     },
     "execution_count": 37,
     "metadata": {},
     "output_type": "execute_result"
    }
   ],
   "source": [
    "x_t.shape"
   ]
  },
  {
   "cell_type": "code",
   "execution_count": 40,
   "id": "322eddca",
   "metadata": {
    "execution": {
     "iopub.execute_input": "2023-04-27T10:54:24.868327Z",
     "iopub.status.busy": "2023-04-27T10:54:24.868028Z",
     "iopub.status.idle": "2023-04-27T10:54:24.909943Z",
     "shell.execute_reply": "2023-04-27T10:54:24.906233Z",
     "shell.execute_reply.started": "2023-04-27T10:54:24.868295Z"
    }
   },
   "outputs": [
    {
     "name": "stdout",
     "output_type": "stream",
     "text": [
      "[[False]]\n"
     ]
    }
   ],
   "source": [
    "print(ann.predict(x_t) > 0.5)"
   ]
  },
  {
   "cell_type": "code",
   "execution_count": 54,
   "id": "eba1a613",
   "metadata": {
    "execution": {
     "iopub.execute_input": "2023-04-27T11:27:17.656318Z",
     "iopub.status.busy": "2023-04-27T11:27:17.656025Z",
     "iopub.status.idle": "2023-04-27T11:27:17.720232Z",
     "shell.execute_reply": "2023-04-27T11:27:17.719068Z",
     "shell.execute_reply.started": "2023-04-27T11:27:17.656288Z"
    }
   },
   "outputs": [
    {
     "data": {
      "text/plain": [
       "array([[0, 0],\n",
       "       [0, 1],\n",
       "       [0, 0],\n",
       "       ...,\n",
       "       [0, 0],\n",
       "       [0, 0],\n",
       "       [0, 0]])"
      ]
     },
     "execution_count": 54,
     "metadata": {},
     "output_type": "execute_result"
    }
   ],
   "source": [
    "y_pred = ann.predict(X_test)\n",
    "y_pred = (y_pred > 0.5)\n",
    "np.concatenate((y_pred.reshape(len(y_pred),1), y_test.reshape(len(y_test),1)),1)"
   ]
  },
  {
   "cell_type": "code",
   "execution_count": 56,
   "id": "ac131017",
   "metadata": {
    "execution": {
     "iopub.execute_input": "2023-04-27T11:29:04.635726Z",
     "iopub.status.busy": "2023-04-27T11:29:04.635468Z",
     "iopub.status.idle": "2023-04-27T11:29:04.645522Z",
     "shell.execute_reply": "2023-04-27T11:29:04.644940Z",
     "shell.execute_reply.started": "2023-04-27T11:29:04.635696Z"
    }
   },
   "outputs": [
    {
     "name": "stdout",
     "output_type": "stream",
     "text": [
      "[[1532  207]\n",
      " [  63  198]]\n"
     ]
    },
    {
     "data": {
      "text/plain": [
       "0.865"
      ]
     },
     "execution_count": 56,
     "metadata": {},
     "output_type": "execute_result"
    }
   ],
   "source": [
    "from sklearn.metrics import confusion_matrix,accuracy_score\n",
    "cm = confusion_matrix(y_pred,y_test)\n",
    "print(cm)\n",
    "accuracy_score(y_pred,y_test)"
   ]
  },
  {
   "cell_type": "code",
   "execution_count": null,
   "id": "37251999",
   "metadata": {},
   "outputs": [],
   "source": []
  },
  {
   "cell_type": "code",
   "execution_count": null,
   "id": "843ae9a9",
   "metadata": {},
   "outputs": [],
   "source": []
  },
  {
   "cell_type": "code",
   "execution_count": null,
   "id": "fc0d5937",
   "metadata": {},
   "outputs": [],
   "source": []
  },
  {
   "cell_type": "code",
   "execution_count": null,
   "id": "1033cee0",
   "metadata": {},
   "outputs": [],
   "source": []
  },
  {
   "cell_type": "code",
   "execution_count": null,
   "id": "981ec6cd",
   "metadata": {},
   "outputs": [],
   "source": []
  },
  {
   "cell_type": "code",
   "execution_count": null,
   "id": "14ac1181",
   "metadata": {},
   "outputs": [],
   "source": []
  },
  {
   "cell_type": "code",
   "execution_count": 153,
   "id": "0fe0dca4",
   "metadata": {
    "execution": {
     "iopub.execute_input": "2023-04-27T14:46:09.164155Z",
     "iopub.status.busy": "2023-04-27T14:46:09.163895Z",
     "iopub.status.idle": "2023-04-27T14:46:09.167636Z",
     "shell.execute_reply": "2023-04-27T14:46:09.167004Z",
     "shell.execute_reply.started": "2023-04-27T14:46:09.164126Z"
    }
   },
   "outputs": [],
   "source": [
    "from sklearn.preprocessing import LabelEncoder\n",
    "from sklearn.model_selection import train_test_split\n",
    "from sklearn.preprocessing import StandardScaler\n",
    "from sklearn.metrics import accuracy_score, confusion_matrix\n",
    "\n",
    "from tensorflow.keras.models import Sequential\n",
    "from tensorflow.keras.layers import Dense, Flatten\n"
   ]
  },
  {
   "cell_type": "code",
   "execution_count": 140,
   "id": "078ea435",
   "metadata": {
    "execution": {
     "iopub.execute_input": "2023-04-27T12:31:18.032141Z",
     "iopub.status.busy": "2023-04-27T12:31:18.031887Z",
     "iopub.status.idle": "2023-04-27T12:31:18.083437Z",
     "shell.execute_reply": "2023-04-27T12:31:18.082509Z",
     "shell.execute_reply.started": "2023-04-27T12:31:18.032103Z"
    }
   },
   "outputs": [
    {
     "data": {
      "text/html": [
       "<div>\n",
       "<style scoped>\n",
       "    .dataframe tbody tr th:only-of-type {\n",
       "        vertical-align: middle;\n",
       "    }\n",
       "\n",
       "    .dataframe tbody tr th {\n",
       "        vertical-align: top;\n",
       "    }\n",
       "\n",
       "    .dataframe thead th {\n",
       "        text-align: right;\n",
       "    }\n",
       "</style>\n",
       "<table border=\"1\" class=\"dataframe\">\n",
       "  <thead>\n",
       "    <tr style=\"text-align: right;\">\n",
       "      <th></th>\n",
       "      <th>RowNumber</th>\n",
       "      <th>CustomerId</th>\n",
       "      <th>Surname</th>\n",
       "      <th>CreditScore</th>\n",
       "      <th>Geography</th>\n",
       "      <th>Gender</th>\n",
       "      <th>Age</th>\n",
       "      <th>Tenure</th>\n",
       "      <th>Balance</th>\n",
       "      <th>NumOfProducts</th>\n",
       "      <th>HasCrCard</th>\n",
       "      <th>IsActiveMember</th>\n",
       "      <th>EstimatedSalary</th>\n",
       "      <th>Exited</th>\n",
       "    </tr>\n",
       "  </thead>\n",
       "  <tbody>\n",
       "    <tr>\n",
       "      <th>0</th>\n",
       "      <td>1</td>\n",
       "      <td>15634602</td>\n",
       "      <td>Hargrave</td>\n",
       "      <td>619</td>\n",
       "      <td>France</td>\n",
       "      <td>Female</td>\n",
       "      <td>42</td>\n",
       "      <td>2</td>\n",
       "      <td>0.00</td>\n",
       "      <td>1</td>\n",
       "      <td>1</td>\n",
       "      <td>1</td>\n",
       "      <td>101348.88</td>\n",
       "      <td>1</td>\n",
       "    </tr>\n",
       "    <tr>\n",
       "      <th>1</th>\n",
       "      <td>2</td>\n",
       "      <td>15647311</td>\n",
       "      <td>Hill</td>\n",
       "      <td>608</td>\n",
       "      <td>Spain</td>\n",
       "      <td>Female</td>\n",
       "      <td>41</td>\n",
       "      <td>1</td>\n",
       "      <td>83807.86</td>\n",
       "      <td>1</td>\n",
       "      <td>0</td>\n",
       "      <td>1</td>\n",
       "      <td>112542.58</td>\n",
       "      <td>0</td>\n",
       "    </tr>\n",
       "    <tr>\n",
       "      <th>2</th>\n",
       "      <td>3</td>\n",
       "      <td>15619304</td>\n",
       "      <td>Onio</td>\n",
       "      <td>502</td>\n",
       "      <td>France</td>\n",
       "      <td>Female</td>\n",
       "      <td>42</td>\n",
       "      <td>8</td>\n",
       "      <td>159660.80</td>\n",
       "      <td>3</td>\n",
       "      <td>1</td>\n",
       "      <td>0</td>\n",
       "      <td>113931.57</td>\n",
       "      <td>1</td>\n",
       "    </tr>\n",
       "    <tr>\n",
       "      <th>3</th>\n",
       "      <td>4</td>\n",
       "      <td>15701354</td>\n",
       "      <td>Boni</td>\n",
       "      <td>699</td>\n",
       "      <td>France</td>\n",
       "      <td>Female</td>\n",
       "      <td>39</td>\n",
       "      <td>1</td>\n",
       "      <td>0.00</td>\n",
       "      <td>2</td>\n",
       "      <td>0</td>\n",
       "      <td>0</td>\n",
       "      <td>93826.63</td>\n",
       "      <td>0</td>\n",
       "    </tr>\n",
       "    <tr>\n",
       "      <th>4</th>\n",
       "      <td>5</td>\n",
       "      <td>15737888</td>\n",
       "      <td>Mitchell</td>\n",
       "      <td>850</td>\n",
       "      <td>Spain</td>\n",
       "      <td>Female</td>\n",
       "      <td>43</td>\n",
       "      <td>2</td>\n",
       "      <td>125510.82</td>\n",
       "      <td>1</td>\n",
       "      <td>1</td>\n",
       "      <td>1</td>\n",
       "      <td>79084.10</td>\n",
       "      <td>0</td>\n",
       "    </tr>\n",
       "  </tbody>\n",
       "</table>\n",
       "</div>"
      ],
      "text/plain": [
       "   RowNumber  CustomerId   Surname  CreditScore Geography  Gender  Age  \\\n",
       "0          1    15634602  Hargrave          619    France  Female   42   \n",
       "1          2    15647311      Hill          608     Spain  Female   41   \n",
       "2          3    15619304      Onio          502    France  Female   42   \n",
       "3          4    15701354      Boni          699    France  Female   39   \n",
       "4          5    15737888  Mitchell          850     Spain  Female   43   \n",
       "\n",
       "   Tenure    Balance  NumOfProducts  HasCrCard  IsActiveMember  \\\n",
       "0       2       0.00              1          1               1   \n",
       "1       1   83807.86              1          0               1   \n",
       "2       8  159660.80              3          1               0   \n",
       "3       1       0.00              2          0               0   \n",
       "4       2  125510.82              1          1               1   \n",
       "\n",
       "   EstimatedSalary  Exited  \n",
       "0        101348.88       1  \n",
       "1        112542.58       0  \n",
       "2        113931.57       1  \n",
       "3         93826.63       0  \n",
       "4         79084.10       0  "
      ]
     },
     "metadata": {},
     "output_type": "display_data"
    },
    {
     "name": "stdout",
     "output_type": "stream",
     "text": [
      "(8000, 12) (2000, 12)\n"
     ]
    }
   ],
   "source": [
    "df = pd.read_csv('Churn_Modelling.csv')\n",
    "display(df.head())\n",
    "\n",
    "\n",
    "X = df.drop(['RowNumber','CustomerId','Surname','Exited'],1)\n",
    "Y = df['Exited']\n",
    "\n",
    "le = LabelEncoder()\n",
    "X['Gender'] = le.fit_transform(X['Gender'])\n",
    "X.head(10)\n",
    "\n",
    "ohe = pd.get_dummies(X['Geography'])\n",
    "X = pd.concat([ohe,X],1)\n",
    "X.drop('Geography',1,inplace = True)\n",
    "X.head()\n",
    "\n",
    "X_train,X_test,y_train,y_test = train_test_split(X,y,test_size = 0.2,random_state = 0)\n",
    "print(X_train.shape,X_test.shape)\n",
    "\n",
    "sc = StandardScaler()\n",
    "\n",
    "# sc.fit(X_train)\n",
    "\n",
    "scaled_X_train = sc.fit_transform(X_train)\n",
    "scaled_X_test = sc.transform(X_test)"
   ]
  },
  {
   "cell_type": "code",
   "execution_count": 145,
   "id": "5a4f8b9a",
   "metadata": {
    "execution": {
     "iopub.execute_input": "2023-04-27T13:42:52.807999Z",
     "iopub.status.busy": "2023-04-27T13:42:52.807746Z",
     "iopub.status.idle": "2023-04-27T13:42:52.821328Z",
     "shell.execute_reply": "2023-04-27T13:42:52.820709Z",
     "shell.execute_reply.started": "2023-04-27T13:42:52.807972Z"
    }
   },
   "outputs": [],
   "source": [
    "\n",
    "# ann = Sequential()\n",
    "# ann.add(Dense(6,'relu'))\n",
    "# ann.add(Dense(6,'relu'))\n",
    "# ann.add(Dense(1,'sigmoid'))\n",
    "\n",
    "ann = Sequential([\n",
    "    Dense(6,'relu'),\n",
    "    Dense(6,'relu'),\n",
    "    Dense(1,'sigmoid')\n",
    "])\n",
    "\n",
    "ann.compile('adam','binary_crossentropy', ['accuracy'])\n"
   ]
  },
  {
   "cell_type": "code",
   "execution_count": 146,
   "id": "92aecbd5",
   "metadata": {
    "execution": {
     "iopub.execute_input": "2023-04-27T13:43:02.885829Z",
     "iopub.status.busy": "2023-04-27T13:43:02.885573Z",
     "iopub.status.idle": "2023-04-27T13:43:19.121634Z",
     "shell.execute_reply": "2023-04-27T13:43:19.120647Z",
     "shell.execute_reply.started": "2023-04-27T13:43:02.885801Z"
    }
   },
   "outputs": [
    {
     "name": "stdout",
     "output_type": "stream",
     "text": [
      "Epoch 1/100\n",
      "250/250 [==============================] - 0s 732us/step - loss: 0.5404 - accuracy: 0.7771\n",
      "Epoch 2/100\n",
      "250/250 [==============================] - 0s 707us/step - loss: 0.4557 - accuracy: 0.7979\n",
      "Epoch 3/100\n",
      "250/250 [==============================] - 0s 657us/step - loss: 0.4310 - accuracy: 0.8115\n",
      "Epoch 4/100\n",
      "250/250 [==============================] - 0s 673us/step - loss: 0.4205 - accuracy: 0.8213\n",
      "Epoch 5/100\n",
      "250/250 [==============================] - 0s 679us/step - loss: 0.4143 - accuracy: 0.8249\n",
      "Epoch 6/100\n",
      "250/250 [==============================] - 0s 623us/step - loss: 0.4098 - accuracy: 0.8274\n",
      "Epoch 7/100\n",
      "250/250 [==============================] - 0s 642us/step - loss: 0.4065 - accuracy: 0.8301\n",
      "Epoch 8/100\n",
      "250/250 [==============================] - 0s 650us/step - loss: 0.4036 - accuracy: 0.8325\n",
      "Epoch 9/100\n",
      "250/250 [==============================] - 0s 675us/step - loss: 0.4008 - accuracy: 0.8326\n",
      "Epoch 10/100\n",
      "250/250 [==============================] - 0s 672us/step - loss: 0.3986 - accuracy: 0.8321\n",
      "Epoch 11/100\n",
      "250/250 [==============================] - 0s 676us/step - loss: 0.3965 - accuracy: 0.8316\n",
      "Epoch 12/100\n",
      "250/250 [==============================] - 0s 721us/step - loss: 0.3944 - accuracy: 0.8350\n",
      "Epoch 13/100\n",
      "250/250 [==============================] - 0s 797us/step - loss: 0.3922 - accuracy: 0.8342\n",
      "Epoch 14/100\n",
      "250/250 [==============================] - 0s 686us/step - loss: 0.3895 - accuracy: 0.8344\n",
      "Epoch 15/100\n",
      "250/250 [==============================] - 0s 612us/step - loss: 0.3865 - accuracy: 0.8350\n",
      "Epoch 16/100\n",
      "250/250 [==============================] - 0s 666us/step - loss: 0.3839 - accuracy: 0.8344\n",
      "Epoch 17/100\n",
      "250/250 [==============================] - 0s 624us/step - loss: 0.3813 - accuracy: 0.8353\n",
      "Epoch 18/100\n",
      "250/250 [==============================] - 0s 646us/step - loss: 0.3780 - accuracy: 0.8360\n",
      "Epoch 19/100\n",
      "250/250 [==============================] - 0s 565us/step - loss: 0.3756 - accuracy: 0.8424\n",
      "Epoch 20/100\n",
      "250/250 [==============================] - 0s 609us/step - loss: 0.3734 - accuracy: 0.8443\n",
      "Epoch 21/100\n",
      "250/250 [==============================] - 0s 569us/step - loss: 0.3707 - accuracy: 0.8451\n",
      "Epoch 22/100\n",
      "250/250 [==============================] - 0s 589us/step - loss: 0.3688 - accuracy: 0.8474\n",
      "Epoch 23/100\n",
      "250/250 [==============================] - 0s 575us/step - loss: 0.3659 - accuracy: 0.8490\n",
      "Epoch 24/100\n",
      "250/250 [==============================] - 0s 587us/step - loss: 0.3637 - accuracy: 0.8499\n",
      "Epoch 25/100\n",
      "250/250 [==============================] - 0s 593us/step - loss: 0.3610 - accuracy: 0.8509\n",
      "Epoch 26/100\n",
      "250/250 [==============================] - 0s 653us/step - loss: 0.3591 - accuracy: 0.8541\n",
      "Epoch 27/100\n",
      "250/250 [==============================] - 0s 619us/step - loss: 0.3568 - accuracy: 0.8545\n",
      "Epoch 28/100\n",
      "250/250 [==============================] - 0s 713us/step - loss: 0.3548 - accuracy: 0.8565\n",
      "Epoch 29/100\n",
      "250/250 [==============================] - 0s 568us/step - loss: 0.3528 - accuracy: 0.8574\n",
      "Epoch 30/100\n",
      "250/250 [==============================] - 0s 544us/step - loss: 0.3508 - accuracy: 0.8570\n",
      "Epoch 31/100\n",
      "250/250 [==============================] - 0s 609us/step - loss: 0.3495 - accuracy: 0.8579\n",
      "Epoch 32/100\n",
      "250/250 [==============================] - 0s 653us/step - loss: 0.3478 - accuracy: 0.8568\n",
      "Epoch 33/100\n",
      "250/250 [==============================] - 0s 658us/step - loss: 0.3464 - accuracy: 0.8585\n",
      "Epoch 34/100\n",
      "250/250 [==============================] - 0s 699us/step - loss: 0.3446 - accuracy: 0.8583\n",
      "Epoch 35/100\n",
      "250/250 [==============================] - 0s 604us/step - loss: 0.3435 - accuracy: 0.8596\n",
      "Epoch 36/100\n",
      "250/250 [==============================] - 0s 696us/step - loss: 0.3425 - accuracy: 0.8591\n",
      "Epoch 37/100\n",
      "250/250 [==============================] - 0s 665us/step - loss: 0.3411 - accuracy: 0.8611\n",
      "Epoch 38/100\n",
      "250/250 [==============================] - 0s 644us/step - loss: 0.3404 - accuracy: 0.8609\n",
      "Epoch 39/100\n",
      "250/250 [==============================] - 0s 668us/step - loss: 0.3400 - accuracy: 0.8615\n",
      "Epoch 40/100\n",
      "250/250 [==============================] - 0s 710us/step - loss: 0.3392 - accuracy: 0.8610\n",
      "Epoch 41/100\n",
      "250/250 [==============================] - 0s 638us/step - loss: 0.3384 - accuracy: 0.8600\n",
      "Epoch 42/100\n",
      "250/250 [==============================] - 0s 591us/step - loss: 0.3379 - accuracy: 0.8609\n",
      "Epoch 43/100\n",
      "250/250 [==============================] - 0s 571us/step - loss: 0.3379 - accuracy: 0.8631\n",
      "Epoch 44/100\n",
      "250/250 [==============================] - 0s 646us/step - loss: 0.3373 - accuracy: 0.8624\n",
      "Epoch 45/100\n",
      "250/250 [==============================] - 0s 558us/step - loss: 0.3365 - accuracy: 0.8619\n",
      "Epoch 46/100\n",
      "250/250 [==============================] - 0s 581us/step - loss: 0.3367 - accuracy: 0.8614\n",
      "Epoch 47/100\n",
      "250/250 [==============================] - 0s 593us/step - loss: 0.3362 - accuracy: 0.8601\n",
      "Epoch 48/100\n",
      "250/250 [==============================] - 0s 631us/step - loss: 0.3366 - accuracy: 0.8629\n",
      "Epoch 49/100\n",
      "250/250 [==============================] - 0s 561us/step - loss: 0.3356 - accuracy: 0.8622\n",
      "Epoch 50/100\n",
      "250/250 [==============================] - 0s 656us/step - loss: 0.3355 - accuracy: 0.8615\n",
      "Epoch 51/100\n",
      "250/250 [==============================] - 0s 564us/step - loss: 0.3353 - accuracy: 0.8634\n",
      "Epoch 52/100\n",
      "250/250 [==============================] - 0s 565us/step - loss: 0.3355 - accuracy: 0.8614\n",
      "Epoch 53/100\n",
      "250/250 [==============================] - 0s 604us/step - loss: 0.3353 - accuracy: 0.8612\n",
      "Epoch 54/100\n",
      "250/250 [==============================] - 0s 667us/step - loss: 0.3351 - accuracy: 0.8624\n",
      "Epoch 55/100\n",
      "250/250 [==============================] - 0s 601us/step - loss: 0.3348 - accuracy: 0.8616\n",
      "Epoch 56/100\n",
      "250/250 [==============================] - 0s 600us/step - loss: 0.3348 - accuracy: 0.8629\n",
      "Epoch 57/100\n",
      "250/250 [==============================] - 0s 647us/step - loss: 0.3348 - accuracy: 0.8618\n",
      "Epoch 58/100\n",
      "250/250 [==============================] - 0s 550us/step - loss: 0.3346 - accuracy: 0.8629\n",
      "Epoch 59/100\n",
      "250/250 [==============================] - 0s 555us/step - loss: 0.3344 - accuracy: 0.8627\n",
      "Epoch 60/100\n",
      "250/250 [==============================] - 0s 587us/step - loss: 0.3345 - accuracy: 0.8601\n",
      "Epoch 61/100\n",
      "250/250 [==============================] - 0s 583us/step - loss: 0.3339 - accuracy: 0.8627\n",
      "Epoch 62/100\n",
      "250/250 [==============================] - 0s 580us/step - loss: 0.3342 - accuracy: 0.8621\n",
      "Epoch 63/100\n",
      "250/250 [==============================] - 0s 598us/step - loss: 0.3338 - accuracy: 0.8643\n",
      "Epoch 64/100\n",
      "250/250 [==============================] - 0s 535us/step - loss: 0.3337 - accuracy: 0.8639\n",
      "Epoch 65/100\n",
      "250/250 [==============================] - 0s 663us/step - loss: 0.3337 - accuracy: 0.8622\n",
      "Epoch 66/100\n",
      "250/250 [==============================] - 0s 541us/step - loss: 0.3335 - accuracy: 0.8645\n",
      "Epoch 67/100\n",
      "250/250 [==============================] - 0s 640us/step - loss: 0.3332 - accuracy: 0.8620\n",
      "Epoch 68/100\n",
      "250/250 [==============================] - 0s 594us/step - loss: 0.3332 - accuracy: 0.8654\n",
      "Epoch 69/100\n",
      "250/250 [==============================] - 0s 582us/step - loss: 0.3337 - accuracy: 0.8635\n",
      "Epoch 70/100\n",
      "250/250 [==============================] - 0s 616us/step - loss: 0.3335 - accuracy: 0.8625\n",
      "Epoch 71/100\n",
      "250/250 [==============================] - 0s 672us/step - loss: 0.3335 - accuracy: 0.8608\n",
      "Epoch 72/100\n",
      "250/250 [==============================] - 0s 600us/step - loss: 0.3337 - accuracy: 0.8643\n",
      "Epoch 73/100\n",
      "250/250 [==============================] - 0s 614us/step - loss: 0.3329 - accuracy: 0.8615\n",
      "Epoch 74/100\n",
      "250/250 [==============================] - 0s 698us/step - loss: 0.3330 - accuracy: 0.8651\n",
      "Epoch 75/100\n",
      "250/250 [==============================] - 0s 618us/step - loss: 0.3327 - accuracy: 0.8629\n",
      "Epoch 76/100\n",
      "250/250 [==============================] - 0s 728us/step - loss: 0.3332 - accuracy: 0.8624\n",
      "Epoch 77/100\n",
      "250/250 [==============================] - 0s 668us/step - loss: 0.3331 - accuracy: 0.8641\n",
      "Epoch 78/100\n",
      "250/250 [==============================] - 0s 659us/step - loss: 0.3333 - accuracy: 0.8622\n",
      "Epoch 79/100\n",
      "250/250 [==============================] - 0s 595us/step - loss: 0.3327 - accuracy: 0.8643\n",
      "Epoch 80/100\n",
      "250/250 [==============================] - 0s 608us/step - loss: 0.3328 - accuracy: 0.8631\n",
      "Epoch 81/100\n",
      "250/250 [==============================] - 0s 637us/step - loss: 0.3326 - accuracy: 0.8636\n",
      "Epoch 82/100\n",
      "250/250 [==============================] - 0s 631us/step - loss: 0.3331 - accuracy: 0.8643\n",
      "Epoch 83/100\n",
      "250/250 [==============================] - 0s 558us/step - loss: 0.3324 - accuracy: 0.8631\n",
      "Epoch 84/100\n",
      "250/250 [==============================] - 0s 653us/step - loss: 0.3320 - accuracy: 0.8639\n",
      "Epoch 85/100\n",
      "250/250 [==============================] - 0s 583us/step - loss: 0.3330 - accuracy: 0.8620\n",
      "Epoch 86/100\n",
      "250/250 [==============================] - 0s 605us/step - loss: 0.3323 - accuracy: 0.8634\n",
      "Epoch 87/100\n",
      "250/250 [==============================] - 0s 576us/step - loss: 0.3325 - accuracy: 0.8645\n",
      "Epoch 88/100\n",
      "250/250 [==============================] - 0s 601us/step - loss: 0.3323 - accuracy: 0.8634\n",
      "Epoch 89/100\n",
      "250/250 [==============================] - 0s 557us/step - loss: 0.3321 - accuracy: 0.8627\n",
      "Epoch 90/100\n",
      "250/250 [==============================] - 0s 625us/step - loss: 0.3323 - accuracy: 0.8629\n",
      "Epoch 91/100\n",
      "250/250 [==============================] - 0s 591us/step - loss: 0.3328 - accuracy: 0.8641\n",
      "Epoch 92/100\n",
      "250/250 [==============================] - 0s 610us/step - loss: 0.3322 - accuracy: 0.8658\n",
      "Epoch 93/100\n",
      "250/250 [==============================] - 0s 547us/step - loss: 0.3322 - accuracy: 0.8625\n",
      "Epoch 94/100\n",
      "250/250 [==============================] - 0s 619us/step - loss: 0.3322 - accuracy: 0.8637\n",
      "Epoch 95/100\n",
      "250/250 [==============================] - 0s 532us/step - loss: 0.3319 - accuracy: 0.8649\n",
      "Epoch 96/100\n",
      "250/250 [==============================] - 0s 625us/step - loss: 0.3322 - accuracy: 0.8614\n",
      "Epoch 97/100\n",
      "250/250 [==============================] - 0s 679us/step - loss: 0.3320 - accuracy: 0.8641\n",
      "Epoch 98/100\n",
      "250/250 [==============================] - 0s 645us/step - loss: 0.3321 - accuracy: 0.8618\n",
      "Epoch 99/100\n",
      "250/250 [==============================] - 0s 680us/step - loss: 0.3321 - accuracy: 0.8631\n",
      "Epoch 100/100\n",
      "250/250 [==============================] - 0s 660us/step - loss: 0.3319 - accuracy: 0.8626\n"
     ]
    }
   ],
   "source": [
    "hist = ann.fit(scaled_X_train,y_train,batch_size = 32,epochs = 100)"
   ]
  },
  {
   "cell_type": "code",
   "execution_count": 151,
   "id": "f27d5ac9",
   "metadata": {
    "execution": {
     "iopub.execute_input": "2023-04-27T13:46:32.088927Z",
     "iopub.status.busy": "2023-04-27T13:46:32.088683Z",
     "iopub.status.idle": "2023-04-27T13:46:32.181810Z",
     "shell.execute_reply": "2023-04-27T13:46:32.181234Z",
     "shell.execute_reply.started": "2023-04-27T13:46:32.088900Z"
    }
   },
   "outputs": [
    {
     "data": {
      "image/png": "[encoded data removed]",
      "text/plain": [
       "<Figure size 432x288 with 1 Axes>"
      ]
     },
     "metadata": {
      "needs_background": "light"
     },
     "output_type": "display_data"
    }
   ],
   "source": [
    "import matplotlib.pyplot as plt\n",
    "plt.plot(hist.history['loss'])\n",
    "plt.plot(hist.history['accuracy'])\n",
    "plt.show()"
   ]
  },
  {
   "cell_type": "code",
   "execution_count": 149,
   "id": "d2297eca",
   "metadata": {
    "execution": {
     "iopub.execute_input": "2023-04-27T13:44:22.389390Z",
     "iopub.status.busy": "2023-04-27T13:44:22.389137Z",
     "iopub.status.idle": "2023-04-27T13:44:22.395521Z",
     "shell.execute_reply": "2023-04-27T13:44:22.394938Z",
     "shell.execute_reply.started": "2023-04-27T13:44:22.389363Z"
    }
   },
   "outputs": [
    {
     "data": {
      "text/plain": [
       "[array([[-0.14846493, -0.5806151 , -0.34961548,  0.16204941,  0.7436645 ,\n",
       "          0.0476106 ],\n",
       "        [ 0.12830338, -0.01590409, -0.30873832,  0.47975117,  0.3391341 ,\n",
       "         -0.05953092],\n",
       "        [-0.15147927, -0.30967432, -0.3392111 ,  0.31096527, -1.037524  ,\n",
       "          0.1586034 ],\n",
       "        [ 0.02084333, -0.00450727, -0.1867324 ,  0.04885284,  0.07226826,\n",
       "         -0.01484017],\n",
       "        [-0.04348767, -0.19348286,  0.19807734, -0.05122649,  0.08795932,\n",
       "          0.19994894],\n",
       "        [ 0.0126115 , -0.48738837,  1.1653973 ,  0.68608713, -0.21672836,\n",
       "         -0.25376135],\n",
       "        [ 0.01701648, -0.12343723, -0.03467679,  0.06243037, -0.02071879,\n",
       "          0.08792367],\n",
       "        [-0.2991353 ,  0.18931466, -0.39460546, -0.08242956,  0.11375532,\n",
       "         -0.34873438],\n",
       "        [-1.3707049 , -0.6216056 , -0.8415321 , -0.49650407, -0.43071502,\n",
       "         -0.48612687],\n",
       "        [ 0.05112376,  0.09526378, -0.12121294,  0.2729577 , -0.03509059,\n",
       "         -0.03124431],\n",
       "        [-0.06878959, -0.05494208,  0.20467217,  0.9707453 ,  0.12975329,\n",
       "          0.062784  ],\n",
       "        [ 0.03021893,  0.08330742, -0.06153465,  0.06998585, -0.06289643,\n",
       "         -0.03425923]], dtype=float32),\n",
       " array([ 0.2790204 ,  0.9438754 , -0.30277264, -0.5339167 ,  0.57687277,\n",
       "         1.3417194 ], dtype=float32)]"
      ]
     },
     "execution_count": 149,
     "metadata": {},
     "output_type": "execute_result"
    }
   ],
   "source": [
    "ann.layers[0].get_weights()"
   ]
  },
  {
   "cell_type": "code",
   "execution_count": 143,
   "id": "b1307845",
   "metadata": {
    "execution": {
     "iopub.execute_input": "2023-04-27T12:31:49.327227Z",
     "iopub.status.busy": "2023-04-27T12:31:49.327030Z",
     "iopub.status.idle": "2023-04-27T12:31:49.407797Z",
     "shell.execute_reply": "2023-04-27T12:31:49.407220Z",
     "shell.execute_reply.started": "2023-04-27T12:31:49.327199Z"
    }
   },
   "outputs": [
    {
     "data": {
      "text/plain": [
       "array([[0, 0],\n",
       "       [0, 1],\n",
       "       [0, 0],\n",
       "       ...,\n",
       "       [0, 0],\n",
       "       [0, 0],\n",
       "       [0, 0]])"
      ]
     },
     "execution_count": 143,
     "metadata": {},
     "output_type": "execute_result"
    }
   ],
   "source": [
    "y_pred = ann.predict(scaled_X_test)\n",
    "y_pred = (y_pred > 0.5)\n",
    "y_pred\n",
    "\n",
    "np.concatenate((y_pred.reshape(len(y_pred),1),y_test.reshape(len(y_test),1)),1)"
   ]
  },
  {
   "cell_type": "code",
   "execution_count": 144,
   "id": "60486da2",
   "metadata": {
    "execution": {
     "iopub.execute_input": "2023-04-27T12:31:49.409017Z",
     "iopub.status.busy": "2023-04-27T12:31:49.408857Z",
     "iopub.status.idle": "2023-04-27T12:31:49.417447Z",
     "shell.execute_reply": "2023-04-27T12:31:49.416933Z",
     "shell.execute_reply.started": "2023-04-27T12:31:49.408995Z"
    }
   },
   "outputs": [
    {
     "name": "stdout",
     "output_type": "stream",
     "text": [
      "[[1522  197]\n",
      " [  73  208]]\n",
      "0.865\n"
     ]
    }
   ],
   "source": [
    "cm = confusion_matrix(y_pred,y_test)\n",
    "print(cm)\n",
    "print(accuracy_score(y_pred,y_test))"
   ]
  },
  {
   "cell_type": "code",
   "execution_count": null,
   "id": "02b61dc4",
   "metadata": {},
   "outputs": [],
   "source": []
  }
 ],
 "metadata": {
  "kernelspec": {
   "display_name": "Python 3",
   "language": "python",
   "name": "python3"
  },
  "language_info": {
   "codemirror_mode": {
    "name": "ipython",
    "version": 3
   },
   "file_extension": ".py",
   "mimetype": "text/x-python",
   "name": "python",
   "nbconvert_exporter": "python",
   "pygments_lexer": "ipython3",
   "version": "3.6.13"
  }
 },
 "nbformat": 4,
 "nbformat_minor": 5
}
