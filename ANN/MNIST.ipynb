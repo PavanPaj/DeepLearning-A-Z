{
 "cells": [
  {
   "cell_type": "code",
   "execution_count": 1,
   "id": "3fa86ac1",
   "metadata": {
    "execution": {
     "iopub.execute_input": "2023-04-29T11:57:42.055905Z",
     "iopub.status.busy": "2023-04-29T11:57:42.055568Z",
     "iopub.status.idle": "2023-04-29T11:58:12.141799Z",
     "shell.execute_reply": "2023-04-29T11:58:12.141173Z",
     "shell.execute_reply.started": "2023-04-29T11:57:42.055882Z"
    },
    "tags": []
   },
   "outputs": [
    {
     "name": "stderr",
     "output_type": "stream",
     "text": [
      "2023-04-29 17:27:44.517122: I tensorflow/core/platform/cpu_feature_guard.cc:182] This TensorFlow binary is optimized to use available CPU instructions in performance-critical operations.\n",
      "To enable the following instructions: AVX2 FMA, in other operations, rebuild TensorFlow with the appropriate compiler flags.\n"
     ]
    }
   ],
   "source": [
    "import numpy as np\n",
    "import pandas as pd\n",
    "import tensorflow as tf\n",
    "import matplotlib.pyplot as plt\n",
    "\n",
    "from tensorflow.keras.models import Sequential\n",
    "from tensorflow.keras.layers import Dense,Flatten\n",
    "\n",
    "from sklearn.metrics import confusion_matrix,accuracy_score"
   ]
  },
  {
   "cell_type": "code",
   "execution_count": 2,
   "id": "3a437d3d",
   "metadata": {
    "execution": {
     "iopub.execute_input": "2023-04-29T11:58:12.143807Z",
     "iopub.status.busy": "2023-04-29T11:58:12.143365Z",
     "iopub.status.idle": "2023-04-29T11:58:16.062604Z",
     "shell.execute_reply": "2023-04-29T11:58:16.061942Z",
     "shell.execute_reply.started": "2023-04-29T11:58:12.143786Z"
    },
    "tags": []
   },
   "outputs": [
    {
     "name": "stdout",
     "output_type": "stream",
     "text": [
      "Downloading data from https://storage.googleapis.com/tensorflow/tf-keras-datasets/mnist.npz\n",
      "11490434/11490434 [==============================] - 3s 0us/step\n"
     ]
    }
   ],
   "source": [
    "(X_train,y_train),(X_test,y_test) = tf.keras.datasets.mnist.load_data()"
   ]
  },
  {
   "cell_type": "code",
   "execution_count": 3,
   "id": "c158a284",
   "metadata": {
    "execution": {
     "iopub.execute_input": "2023-04-29T11:58:16.063848Z",
     "iopub.status.busy": "2023-04-29T11:58:16.063502Z",
     "iopub.status.idle": "2023-04-29T11:58:16.070188Z",
     "shell.execute_reply": "2023-04-29T11:58:16.069583Z",
     "shell.execute_reply.started": "2023-04-29T11:58:16.063827Z"
    },
    "tags": []
   },
   "outputs": [
    {
     "data": {
      "text/plain": [
       "(60000, 28, 28)"
      ]
     },
     "execution_count": 3,
     "metadata": {},
     "output_type": "execute_result"
    }
   ],
   "source": [
    "X_train.shape"
   ]
  },
  {
   "cell_type": "code",
   "execution_count": 4,
   "id": "6c30601d",
   "metadata": {
    "execution": {
     "iopub.execute_input": "2023-04-29T11:58:16.072145Z",
     "iopub.status.busy": "2023-04-29T11:58:16.071900Z",
     "iopub.status.idle": "2023-04-29T11:58:16.080091Z",
     "shell.execute_reply": "2023-04-29T11:58:16.079408Z",
     "shell.execute_reply.started": "2023-04-29T11:58:16.072127Z"
    },
    "tags": []
   },
   "outputs": [
    {
     "data": {
      "text/plain": [
       "(60000,)"
      ]
     },
     "execution_count": 4,
     "metadata": {},
     "output_type": "execute_result"
    }
   ],
   "source": [
    "y_train.shape"
   ]
  },
  {
   "cell_type": "code",
   "execution_count": 5,
   "id": "45fce380",
   "metadata": {
    "execution": {
     "iopub.execute_input": "2023-04-29T11:58:20.919912Z",
     "iopub.status.busy": "2023-04-29T11:58:20.919629Z",
     "iopub.status.idle": "2023-04-29T11:58:20.923185Z",
     "shell.execute_reply": "2023-04-29T11:58:20.922502Z",
     "shell.execute_reply.started": "2023-04-29T11:58:20.919892Z"
    },
    "tags": []
   },
   "outputs": [
    {
     "name": "stdout",
     "output_type": "stream",
     "text": [
      "1\n"
     ]
    }
   ],
   "source": [
    "print(y_train[6])"
   ]
  },
  {
   "cell_type": "code",
   "execution_count": 6,
   "id": "1176333b",
   "metadata": {
    "execution": {
     "iopub.execute_input": "2023-04-29T11:58:21.698372Z",
     "iopub.status.busy": "2023-04-29T11:58:21.698032Z",
     "iopub.status.idle": "2023-04-29T11:58:22.153561Z",
     "shell.execute_reply": "2023-04-29T11:58:22.152885Z",
     "shell.execute_reply.started": "2023-04-29T11:58:21.698346Z"
    },
    "tags": []
   },
   "outputs": [
    {
     "data": {
      "text/plain": [
       "<matplotlib.image.AxesImage at 0x7f8229fb3a00>"
      ]
     },
     "execution_count": 6,
     "metadata": {},
     "output_type": "execute_result"
    },
    {
     "data": {
      "image/png": "[encoded data removed]",
      "text/plain": [
       "<Figure size 640x480 with 1 Axes>"
      ]
     },
     "metadata": {},
     "output_type": "display_data"
    }
   ],
   "source": [
    "plt.imshow(X_train[4])"
   ]
  },
  {
   "cell_type": "code",
   "execution_count": 7,
   "id": "1fb2c59b",
   "metadata": {
    "execution": {
     "iopub.execute_input": "2023-04-29T11:58:24.584422Z",
     "iopub.status.busy": "2023-04-29T11:58:24.584091Z",
     "iopub.status.idle": "2023-04-29T11:58:24.800769Z",
     "shell.execute_reply": "2023-04-29T11:58:24.800152Z",
     "shell.execute_reply.started": "2023-04-29T11:58:24.584398Z"
    },
    "tags": []
   },
   "outputs": [],
   "source": [
    "X_train = X_train/255\n",
    "X_test = X_test/255"
   ]
  },
  {
   "cell_type": "code",
   "execution_count": 8,
   "id": "2b72c30d",
   "metadata": {
    "execution": {
     "iopub.execute_input": "2023-04-29T11:58:25.121946Z",
     "iopub.status.busy": "2023-04-29T11:58:25.121606Z",
     "iopub.status.idle": "2023-04-29T11:58:25.314637Z",
     "shell.execute_reply": "2023-04-29T11:58:25.313664Z",
     "shell.execute_reply.started": "2023-04-29T11:58:25.121921Z"
    },
    "tags": []
   },
   "outputs": [],
   "source": [
    "model = Sequential([\n",
    "    Flatten(input_shape = (28,28)),\n",
    "    Dense(64,activation = 'relu'),\n",
    "    Dense(10,activation = 'softmax')\n",
    "#     Dense(4,activation = 'sigmoid')\n",
    "\n",
    "])\n"
   ]
  },
  {
   "cell_type": "code",
   "execution_count": 9,
   "id": "6744d902",
   "metadata": {
    "execution": {
     "iopub.execute_input": "2023-04-29T11:58:25.827157Z",
     "iopub.status.busy": "2023-04-29T11:58:25.826605Z",
     "iopub.status.idle": "2023-04-29T11:58:25.840309Z",
     "shell.execute_reply": "2023-04-29T11:58:25.839429Z",
     "shell.execute_reply.started": "2023-04-29T11:58:25.827134Z"
    },
    "tags": []
   },
   "outputs": [],
   "source": [
    "model.compile(optimizer = 'adam', loss='sparse_categorical_crossentropy', metrics = ['accuracy'])"
   ]
  },
  {
   "cell_type": "code",
   "execution_count": 10,
   "id": "ac9435e7",
   "metadata": {
    "execution": {
     "iopub.execute_input": "2023-04-29T11:58:26.914384Z",
     "iopub.status.busy": "2023-04-29T11:58:26.914093Z",
     "iopub.status.idle": "2023-04-29T11:58:26.928232Z",
     "shell.execute_reply": "2023-04-29T11:58:26.927580Z",
     "shell.execute_reply.started": "2023-04-29T11:58:26.914362Z"
    },
    "tags": []
   },
   "outputs": [
    {
     "name": "stdout",
     "output_type": "stream",
     "text": [
      "Model: \"sequential\"\n",
      "_________________________________________________________________\n",
      " Layer (type)                Output Shape              Param #   \n",
      "=================================================================\n",
      " flatten (Flatten)           (None, 784)               0         \n",
      "                                                                 \n",
      " dense (Dense)               (None, 64)                50240     \n",
      "                                                                 \n",
      " dense_1 (Dense)             (None, 10)                650       \n",
      "                                                                 \n",
      "=================================================================\n",
      "Total params: 50,890\n",
      "Trainable params: 50,890\n",
      "Non-trainable params: 0\n",
      "_________________________________________________________________\n"
     ]
    }
   ],
   "source": [
    "model.summary()"
   ]
  },
  {
   "cell_type": "code",
   "execution_count": 11,
   "id": "39df0512",
   "metadata": {
    "execution": {
     "iopub.execute_input": "2023-04-29T11:58:30.325782Z",
     "iopub.status.busy": "2023-04-29T11:58:30.325441Z",
     "iopub.status.idle": "2023-04-29T11:58:51.586574Z",
     "shell.execute_reply": "2023-04-29T11:58:51.585818Z",
     "shell.execute_reply.started": "2023-04-29T11:58:30.325760Z"
    },
    "tags": []
   },
   "outputs": [
    {
     "name": "stdout",
     "output_type": "stream",
     "text": [
      "Epoch 1/10\n",
      "1500/1500 [==============================] - 3s 1ms/step - loss: 0.3359 - accuracy: 0.9070 - val_loss: 0.1880 - val_accuracy: 0.9465\n",
      "Epoch 2/10\n",
      "1500/1500 [==============================] - 2s 1ms/step - loss: 0.1648 - accuracy: 0.9510 - val_loss: 0.1544 - val_accuracy: 0.9556\n",
      "Epoch 3/10\n",
      "1500/1500 [==============================] - 2s 1ms/step - loss: 0.1221 - accuracy: 0.9640 - val_loss: 0.1386 - val_accuracy: 0.9590\n",
      "Epoch 4/10\n",
      "1500/1500 [==============================] - 2s 1ms/step - loss: 0.0979 - accuracy: 0.9710 - val_loss: 0.1166 - val_accuracy: 0.9643\n",
      "Epoch 5/10\n",
      "1500/1500 [==============================] - 2s 1ms/step - loss: 0.0790 - accuracy: 0.9762 - val_loss: 0.1068 - val_accuracy: 0.9675\n",
      "Epoch 6/10\n",
      "1500/1500 [==============================] - 2s 1ms/step - loss: 0.0659 - accuracy: 0.9805 - val_loss: 0.1012 - val_accuracy: 0.9703\n",
      "Epoch 7/10\n",
      "1500/1500 [==============================] - 2s 1ms/step - loss: 0.0558 - accuracy: 0.9831 - val_loss: 0.1026 - val_accuracy: 0.9707\n",
      "Epoch 8/10\n",
      "1500/1500 [==============================] - 2s 1ms/step - loss: 0.0473 - accuracy: 0.9860 - val_loss: 0.0971 - val_accuracy: 0.9715\n",
      "Epoch 9/10\n",
      "1500/1500 [==============================] - 2s 1ms/step - loss: 0.0406 - accuracy: 0.9878 - val_loss: 0.0953 - val_accuracy: 0.9724\n",
      "Epoch 10/10\n",
      "1500/1500 [==============================] - 2s 1ms/step - loss: 0.0356 - accuracy: 0.9892 - val_loss: 0.1024 - val_accuracy: 0.9721\n"
     ]
    }
   ],
   "source": [
    "hist = model.fit(X_train,y_train, validation_split = 0.2, epochs = 10)"
   ]
  },
  {
   "cell_type": "code",
   "execution_count": 12,
   "id": "65751b40",
   "metadata": {
    "execution": {
     "iopub.execute_input": "2023-04-29T11:58:56.749928Z",
     "iopub.status.busy": "2023-04-29T11:58:56.749596Z",
     "iopub.status.idle": "2023-04-29T11:58:56.897914Z",
     "shell.execute_reply": "2023-04-29T11:58:56.897059Z",
     "shell.execute_reply.started": "2023-04-29T11:58:56.749903Z"
    },
    "tags": []
   },
   "outputs": [
    {
     "data": {
      "image/png": "[encoded data removed]",
      "text/plain": [
       "<Figure size 640x480 with 1 Axes>"
      ]
     },
     "metadata": {},
     "output_type": "display_data"
    }
   ],
   "source": [
    "plt.plot(hist.history['loss'])\n",
    "plt.plot(hist.history['val_loss'])\n",
    "plt.show()"
   ]
  },
  {
   "cell_type": "code",
   "execution_count": 13,
   "id": "8cc7bdf7",
   "metadata": {
    "execution": {
     "iopub.execute_input": "2023-04-29T11:59:00.456192Z",
     "iopub.status.busy": "2023-04-29T11:59:00.455900Z",
     "iopub.status.idle": "2023-04-29T11:59:00.596285Z",
     "shell.execute_reply": "2023-04-29T11:59:00.595607Z",
     "shell.execute_reply.started": "2023-04-29T11:59:00.456172Z"
    },
    "tags": []
   },
   "outputs": [
    {
     "data": {
      "image/png": "[encoded data removed]",
      "text/plain": [
       "<Figure size 640x480 with 1 Axes>"
      ]
     },
     "metadata": {},
     "output_type": "display_data"
    }
   ],
   "source": [
    "plt.plot(hist.history['accuracy'])\n",
    "plt.plot(hist.history['val_accuracy'])\n",
    "plt.show()"
   ]
  },
  {
   "cell_type": "code",
   "execution_count": 14,
   "id": "e3035e3c",
   "metadata": {
    "execution": {
     "iopub.execute_input": "2023-04-29T11:59:03.334061Z",
     "iopub.status.busy": "2023-04-29T11:59:03.333475Z",
     "iopub.status.idle": "2023-04-29T11:59:03.849116Z",
     "shell.execute_reply": "2023-04-29T11:59:03.848479Z",
     "shell.execute_reply.started": "2023-04-29T11:59:03.334036Z"
    },
    "tags": []
   },
   "outputs": [
    {
     "name": "stdout",
     "output_type": "stream",
     "text": [
      "313/313 [==============================] - 0s 858us/step\n"
     ]
    },
    {
     "data": {
      "text/plain": [
       "array([[9.20467983e-07, 3.81011773e-08, 1.02654190e-06, ...,\n",
       "        9.99874592e-01, 1.65276051e-05, 5.45259672e-06],\n",
       "       [1.68570335e-09, 1.15072864e-04, 9.99873400e-01, ...,\n",
       "        9.84803276e-13, 1.11834333e-05, 2.88564237e-14],\n",
       "       [2.20676957e-05, 9.99402881e-01, 1.07983535e-04, ...,\n",
       "        2.66389747e-04, 1.82845513e-04, 1.21068112e-07],\n",
       "       ...,\n",
       "       [1.76417339e-13, 4.43679002e-13, 6.78784199e-12, ...,\n",
       "        5.69938447e-06, 2.04447701e-06, 2.56329622e-05],\n",
       "       [5.26205080e-10, 8.99431363e-10, 7.45383464e-13, ...,\n",
       "        2.00765077e-12, 8.00586804e-06, 1.05288131e-11],\n",
       "       [1.06623120e-12, 2.31892312e-14, 1.17868354e-11, ...,\n",
       "        3.05746571e-14, 1.55014526e-11, 1.14092627e-13]], dtype=float32)"
      ]
     },
     "execution_count": 14,
     "metadata": {},
     "output_type": "execute_result"
    }
   ],
   "source": [
    "y_prob = model.predict(X_test)\n",
    "y_prob"
   ]
  },
  {
   "cell_type": "code",
   "execution_count": 15,
   "id": "c343128f",
   "metadata": {
    "execution": {
     "iopub.execute_input": "2023-04-29T11:59:06.416709Z",
     "iopub.status.busy": "2023-04-29T11:59:06.416264Z",
     "iopub.status.idle": "2023-04-29T11:59:06.421898Z",
     "shell.execute_reply": "2023-04-29T11:59:06.421100Z",
     "shell.execute_reply.started": "2023-04-29T11:59:06.416686Z"
    },
    "tags": []
   },
   "outputs": [
    {
     "data": {
      "text/plain": [
       "array([7, 2, 1, ..., 4, 5, 6], dtype=uint8)"
      ]
     },
     "execution_count": 15,
     "metadata": {},
     "output_type": "execute_result"
    }
   ],
   "source": [
    "y_pred = y_prob.argmax(axis = 1)\n",
    "y_test"
   ]
  },
  {
   "cell_type": "code",
   "execution_count": 16,
   "id": "a8520553",
   "metadata": {
    "execution": {
     "iopub.execute_input": "2023-04-29T11:59:07.482749Z",
     "iopub.status.busy": "2023-04-29T11:59:07.482364Z",
     "iopub.status.idle": "2023-04-29T11:59:07.490319Z",
     "shell.execute_reply": "2023-04-29T11:59:07.489442Z",
     "shell.execute_reply.started": "2023-04-29T11:59:07.482722Z"
    },
    "tags": []
   },
   "outputs": [
    {
     "data": {
      "text/plain": [
       "array([[ 959,    0,    1,    2,    2,    1,    4,    1,    5,    1],\n",
       "       [   0, 1121,    1,    1,    0,    1,    2,    5,    2,    6],\n",
       "       [   3,    4, 1004,    6,    2,    0,    1,    9,    4,    0],\n",
       "       [   1,    0,    1,  968,    1,    5,    1,    1,    3,    2],\n",
       "       [   0,    0,    3,    0,  950,    0,    1,    0,    2,   10],\n",
       "       [   0,    1,    0,   18,    1,  869,    2,    1,    4,    5],\n",
       "       [  12,    4,    7,    0,    6,    9,  946,    0,    6,    1],\n",
       "       [   2,    0,    5,    6,    3,    0,    0, 1003,    3,    6],\n",
       "       [   2,    5,    9,    8,    3,    6,    1,    2,  943,    8],\n",
       "       [   1,    0,    1,    1,   14,    1,    0,    6,    2,  970]])"
      ]
     },
     "execution_count": 16,
     "metadata": {},
     "output_type": "execute_result"
    }
   ],
   "source": [
    "confusion_matrix(y_pred,y_test)"
   ]
  },
  {
   "cell_type": "code",
   "execution_count": 17,
   "id": "006aa696",
   "metadata": {
    "execution": {
     "iopub.execute_input": "2023-04-29T11:59:08.694562Z",
     "iopub.status.busy": "2023-04-29T11:59:08.694268Z",
     "iopub.status.idle": "2023-04-29T11:59:08.703930Z",
     "shell.execute_reply": "2023-04-29T11:59:08.703132Z",
     "shell.execute_reply.started": "2023-04-29T11:59:08.694542Z"
    },
    "tags": []
   },
   "outputs": [
    {
     "data": {
      "text/plain": [
       "0.9733"
      ]
     },
     "execution_count": 17,
     "metadata": {},
     "output_type": "execute_result"
    }
   ],
   "source": [
    "accuracy_score(y_pred,y_test)"
   ]
  },
  {
   "cell_type": "code",
   "execution_count": null,
   "id": "ff83c9bb",
   "metadata": {},
   "outputs": [],
   "source": []
  }
 ],
 "metadata": {
  "kernelspec": {
   "display_name": "Python 3 (ipykernel)",
   "language": "python",
   "name": "python3"
  },
  "language_info": {
   "codemirror_mode": {
    "name": "ipython",
    "version": 3
   },
   "file_extension": ".py",
   "mimetype": "text/x-python",
   "name": "python",
   "nbconvert_exporter": "python",
   "pygments_lexer": "ipython3",
   "version": "3.10.9"
  }
 },
 "nbformat": 4,
 "nbformat_minor": 5
}
