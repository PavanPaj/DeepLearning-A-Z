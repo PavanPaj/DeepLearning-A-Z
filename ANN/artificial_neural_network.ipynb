{
 "cells": [
  {
   "cell_type": "markdown",
   "metadata": {
    "colab_type": "text",
    "id": "lP6JLo1tGNBg"
   },
   "source": [
    "# Artificial Neural Network"
   ]
  },
  {
   "cell_type": "markdown",
   "metadata": {
    "colab_type": "text",
    "id": "gWZyYmS_UE_L"
   },
   "source": [
    "### Importing the libraries"
   ]
  },
  {
   "cell_type": "code",
   "execution_count": 1,
   "metadata": {
    "colab": {},
    "colab_type": "code",
    "execution": {
     "iopub.execute_input": "2023-04-27T11:30:58.199254Z",
     "iopub.status.busy": "2023-04-27T11:30:58.199066Z",
     "iopub.status.idle": "2023-04-27T11:31:00.555511Z",
     "shell.execute_reply": "2023-04-27T11:31:00.554560Z",
     "shell.execute_reply.started": "2023-04-27T11:30:58.199228Z"
    },
    "id": "MxkJoQBkUIHC"
   },
   "outputs": [],
   "source": [
    "import numpy as np\n",
    "import pandas as pd\n",
    "import tensorflow as tf"
   ]
  },
  {
   "cell_type": "code",
   "execution_count": 2,
   "metadata": {
    "colab": {
     "base_uri": "https://localhost:8080/",
     "height": 34
    },
    "colab_type": "code",
    "execution": {
     "iopub.execute_input": "2023-04-27T11:31:00.748492Z",
     "iopub.status.busy": "2023-04-27T11:31:00.748324Z",
     "iopub.status.idle": "2023-04-27T11:31:00.758906Z",
     "shell.execute_reply": "2023-04-27T11:31:00.758200Z",
     "shell.execute_reply.started": "2023-04-27T11:31:00.748467Z"
    },
    "id": "ZaTwK7ojXr2F",
    "outputId": "0b27a96d-d11a-43e8-ab4b-87c1f01896fe"
   },
   "outputs": [
    {
     "data": {
      "text/plain": [
       "'2.2.0'"
      ]
     },
     "execution_count": 2,
     "metadata": {},
     "output_type": "execute_result"
    }
   ],
   "source": [
    "tf.__version__"
   ]
  },
  {
   "cell_type": "markdown",
   "metadata": {
    "colab_type": "text",
    "id": "1E0Q3aoKUCRX"
   },
   "source": [
    "## Part 1 - Data Preprocessing"
   ]
  },
  {
   "cell_type": "markdown",
   "metadata": {
    "colab_type": "text",
    "id": "cKWAkFVGUU0Z"
   },
   "source": [
    "### Importing the dataset"
   ]
  },
  {
   "cell_type": "code",
   "execution_count": 3,
   "metadata": {
    "colab": {},
    "colab_type": "code",
    "execution": {
     "iopub.execute_input": "2023-04-27T11:31:03.900736Z",
     "iopub.status.busy": "2023-04-27T11:31:03.900462Z",
     "iopub.status.idle": "2023-04-27T11:31:03.934545Z",
     "shell.execute_reply": "2023-04-27T11:31:03.933708Z",
     "shell.execute_reply.started": "2023-04-27T11:31:03.900709Z"
    },
    "id": "MXUkhkMfU4wq"
   },
   "outputs": [],
   "source": [
    "dataset = pd.read_csv('Churn_Modelling.csv')\n",
    "X = dataset.iloc[:, 3:-1].values\n",
    "y = dataset.iloc[:, -1].values"
   ]
  },
  {
   "cell_type": "code",
   "execution_count": 4,
   "metadata": {
    "colab": {
     "base_uri": "https://localhost:8080/",
     "height": 137
    },
    "colab_type": "code",
    "execution": {
     "iopub.execute_input": "2023-04-27T11:31:04.077294Z",
     "iopub.status.busy": "2023-04-27T11:31:04.077010Z",
     "iopub.status.idle": "2023-04-27T11:31:04.081682Z",
     "shell.execute_reply": "2023-04-27T11:31:04.080937Z",
     "shell.execute_reply.started": "2023-04-27T11:31:04.077262Z"
    },
    "id": "VYP9cQTWbzuI",
    "outputId": "797e7a64-9bac-436a-8c9c-94437e5e7587"
   },
   "outputs": [
    {
     "name": "stdout",
     "output_type": "stream",
     "text": [
      "[[619 'France' 'Female' ... 1 1 101348.88]\n",
      " [608 'Spain' 'Female' ... 0 1 112542.58]\n",
      " [502 'France' 'Female' ... 1 0 113931.57]\n",
      " ...\n",
      " [709 'France' 'Female' ... 0 1 42085.58]\n",
      " [772 'Germany' 'Male' ... 1 0 92888.52]\n",
      " [792 'France' 'Female' ... 1 0 38190.78]]\n"
     ]
    }
   ],
   "source": [
    "print(X)"
   ]
  },
  {
   "cell_type": "code",
   "execution_count": 5,
   "metadata": {
    "colab": {
     "base_uri": "https://localhost:8080/",
     "height": 34
    },
    "colab_type": "code",
    "execution": {
     "iopub.execute_input": "2023-04-27T11:31:04.265878Z",
     "iopub.status.busy": "2023-04-27T11:31:04.265348Z",
     "iopub.status.idle": "2023-04-27T11:31:04.270418Z",
     "shell.execute_reply": "2023-04-27T11:31:04.269648Z",
     "shell.execute_reply.started": "2023-04-27T11:31:04.265839Z"
    },
    "id": "38vKGE6Nb2RR",
    "outputId": "a815e42a-e0dd-4cb5-ab97-b17ead98fbc3"
   },
   "outputs": [
    {
     "name": "stdout",
     "output_type": "stream",
     "text": [
      "[1 0 1 ... 1 1 0]\n"
     ]
    }
   ],
   "source": [
    "print(y)"
   ]
  },
  {
   "cell_type": "markdown",
   "metadata": {
    "colab_type": "text",
    "id": "N6bQ0UgSU-NJ"
   },
   "source": [
    "### Encoding categorical data"
   ]
  },
  {
   "cell_type": "markdown",
   "metadata": {
    "colab_type": "text",
    "id": "le5MJreAbW52"
   },
   "source": [
    "Label Encoding the \"Gender\" column"
   ]
  },
  {
   "cell_type": "code",
   "execution_count": 6,
   "metadata": {
    "colab": {},
    "colab_type": "code",
    "execution": {
     "iopub.execute_input": "2023-04-27T11:31:05.558496Z",
     "iopub.status.busy": "2023-04-27T11:31:05.558239Z",
     "iopub.status.idle": "2023-04-27T11:31:05.846207Z",
     "shell.execute_reply": "2023-04-27T11:31:05.845562Z",
     "shell.execute_reply.started": "2023-04-27T11:31:05.558468Z"
    },
    "id": "PxVKWXxLbczC"
   },
   "outputs": [],
   "source": [
    "from sklearn.preprocessing import LabelEncoder\n",
    "le = LabelEncoder()\n",
    "X[:, 2] = le.fit_transform(X[:, 2])"
   ]
  },
  {
   "cell_type": "code",
   "execution_count": 7,
   "metadata": {
    "colab": {
     "base_uri": "https://localhost:8080/",
     "height": 137
    },
    "colab_type": "code",
    "execution": {
     "iopub.execute_input": "2023-04-27T11:31:20.895437Z",
     "iopub.status.busy": "2023-04-27T11:31:20.895108Z",
     "iopub.status.idle": "2023-04-27T11:31:20.899435Z",
     "shell.execute_reply": "2023-04-27T11:31:20.898899Z",
     "shell.execute_reply.started": "2023-04-27T11:31:20.895403Z"
    },
    "id": "-M1KboxFb6OO",
    "outputId": "e2b8c7e8-0cbc-4cdf-f4eb-7f0853a00b88"
   },
   "outputs": [
    {
     "name": "stdout",
     "output_type": "stream",
     "text": [
      "[[619 'France' 0 ... 1 1 101348.88]\n",
      " [608 'Spain' 0 ... 0 1 112542.58]\n",
      " [502 'France' 0 ... 1 0 113931.57]\n",
      " ...\n",
      " [709 'France' 0 ... 0 1 42085.58]\n",
      " [772 'Germany' 1 ... 1 0 92888.52]\n",
      " [792 'France' 0 ... 1 0 38190.78]]\n"
     ]
    }
   ],
   "source": [
    "print(X)"
   ]
  },
  {
   "cell_type": "markdown",
   "metadata": {
    "colab_type": "text",
    "id": "CUxGZezpbMcb"
   },
   "source": [
    "One Hot Encoding the \"Geography\" column"
   ]
  },
  {
   "cell_type": "code",
   "execution_count": 8,
   "metadata": {
    "colab": {},
    "colab_type": "code",
    "execution": {
     "iopub.execute_input": "2023-04-27T11:31:22.436350Z",
     "iopub.status.busy": "2023-04-27T11:31:22.436034Z",
     "iopub.status.idle": "2023-04-27T11:31:22.549218Z",
     "shell.execute_reply": "2023-04-27T11:31:22.548404Z",
     "shell.execute_reply.started": "2023-04-27T11:31:22.436317Z"
    },
    "id": "AMXC8-KMVirw"
   },
   "outputs": [],
   "source": [
    "from sklearn.compose import ColumnTransformer\n",
    "from sklearn.preprocessing import OneHotEncoder\n",
    "ct = ColumnTransformer(transformers=[('encoder', OneHotEncoder(), [1])], remainder='passthrough')\n",
    "X = np.array(ct.fit_transform(X))"
   ]
  },
  {
   "cell_type": "code",
   "execution_count": 9,
   "metadata": {
    "colab": {
     "base_uri": "https://localhost:8080/",
     "height": 137
    },
    "colab_type": "code",
    "execution": {
     "iopub.execute_input": "2023-04-27T11:31:23.433981Z",
     "iopub.status.busy": "2023-04-27T11:31:23.433679Z",
     "iopub.status.idle": "2023-04-27T11:31:23.437848Z",
     "shell.execute_reply": "2023-04-27T11:31:23.437294Z",
     "shell.execute_reply.started": "2023-04-27T11:31:23.433948Z"
    },
    "id": "ZcxwEon-b8nV",
    "outputId": "23a98af4-5e33-4b26-c27b-f06e3c5d2baf"
   },
   "outputs": [
    {
     "name": "stdout",
     "output_type": "stream",
     "text": [
      "[[1.0 0.0 0.0 ... 1 1 101348.88]\n",
      " [0.0 0.0 1.0 ... 0 1 112542.58]\n",
      " [1.0 0.0 0.0 ... 1 0 113931.57]\n",
      " ...\n",
      " [1.0 0.0 0.0 ... 0 1 42085.58]\n",
      " [0.0 1.0 0.0 ... 1 0 92888.52]\n",
      " [1.0 0.0 0.0 ... 1 0 38190.78]]\n"
     ]
    }
   ],
   "source": [
    "print(X)"
   ]
  },
  {
   "cell_type": "markdown",
   "metadata": {
    "colab_type": "text",
    "id": "vHol938cW8zd"
   },
   "source": [
    "### Splitting the dataset into the Training set and Test set"
   ]
  },
  {
   "cell_type": "code",
   "execution_count": 10,
   "metadata": {
    "colab": {},
    "colab_type": "code",
    "execution": {
     "iopub.execute_input": "2023-04-27T11:31:24.991227Z",
     "iopub.status.busy": "2023-04-27T11:31:24.990914Z",
     "iopub.status.idle": "2023-04-27T11:31:25.026200Z",
     "shell.execute_reply": "2023-04-27T11:31:25.024747Z",
     "shell.execute_reply.started": "2023-04-27T11:31:24.991196Z"
    },
    "id": "Z-TDt0Y_XEfc"
   },
   "outputs": [],
   "source": [
    "from sklearn.model_selection import train_test_split\n",
    "X_train, X_test, y_train, y_test = train_test_split(X, y, test_size = 0.2, random_state = 0)"
   ]
  },
  {
   "cell_type": "markdown",
   "metadata": {
    "colab_type": "text",
    "id": "RE_FcHyfV3TQ"
   },
   "source": [
    "### Feature Scaling"
   ]
  },
  {
   "cell_type": "code",
   "execution_count": 11,
   "metadata": {
    "colab": {},
    "colab_type": "code",
    "execution": {
     "iopub.execute_input": "2023-04-27T11:31:25.498754Z",
     "iopub.status.busy": "2023-04-27T11:31:25.498488Z",
     "iopub.status.idle": "2023-04-27T11:31:25.517930Z",
     "shell.execute_reply": "2023-04-27T11:31:25.517274Z",
     "shell.execute_reply.started": "2023-04-27T11:31:25.498726Z"
    },
    "id": "ViCrE00rV8Sk"
   },
   "outputs": [],
   "source": [
    "from sklearn.preprocessing import StandardScaler\n",
    "sc = StandardScaler()\n",
    "X_train = sc.fit_transform(X_train)\n",
    "X_test = sc.transform(X_test)"
   ]
  },
  {
   "cell_type": "markdown",
   "metadata": {
    "colab_type": "text",
    "id": "-zfEzkRVXIwF"
   },
   "source": [
    "## Part 2 - Building the ANN"
   ]
  },
  {
   "cell_type": "markdown",
   "metadata": {
    "colab_type": "text",
    "id": "KvdeScabXtlB"
   },
   "source": [
    "### Initializing the ANN"
   ]
  },
  {
   "cell_type": "code",
   "execution_count": 12,
   "metadata": {
    "colab": {},
    "colab_type": "code",
    "execution": {
     "iopub.execute_input": "2023-04-27T11:31:26.115327Z",
     "iopub.status.busy": "2023-04-27T11:31:26.115050Z",
     "iopub.status.idle": "2023-04-27T11:31:26.123924Z",
     "shell.execute_reply": "2023-04-27T11:31:26.123324Z",
     "shell.execute_reply.started": "2023-04-27T11:31:26.115297Z"
    },
    "id": "3dtrScHxXQox"
   },
   "outputs": [],
   "source": [
    "ann = tf.keras.models.Sequential()"
   ]
  },
  {
   "cell_type": "markdown",
   "metadata": {
    "colab_type": "text",
    "id": "rP6urV6SX7kS"
   },
   "source": [
    "### Adding the input layer and the first hidden layer"
   ]
  },
  {
   "cell_type": "code",
   "execution_count": 13,
   "metadata": {
    "colab": {},
    "colab_type": "code",
    "execution": {
     "iopub.execute_input": "2023-04-27T11:31:26.482585Z",
     "iopub.status.busy": "2023-04-27T11:31:26.482347Z",
     "iopub.status.idle": "2023-04-27T11:31:26.491901Z",
     "shell.execute_reply": "2023-04-27T11:31:26.491076Z",
     "shell.execute_reply.started": "2023-04-27T11:31:26.482560Z"
    },
    "id": "bppGycBXYCQr"
   },
   "outputs": [],
   "source": [
    "ann.add(tf.keras.layers.Dense(units=6, activation='relu'))"
   ]
  },
  {
   "cell_type": "markdown",
   "metadata": {
    "colab_type": "text",
    "id": "BELWAc_8YJze"
   },
   "source": [
    "### Adding the second hidden layer"
   ]
  },
  {
   "cell_type": "code",
   "execution_count": 14,
   "metadata": {
    "colab": {},
    "colab_type": "code",
    "execution": {
     "iopub.execute_input": "2023-04-27T11:31:26.847174Z",
     "iopub.status.busy": "2023-04-27T11:31:26.846900Z",
     "iopub.status.idle": "2023-04-27T11:31:26.851648Z",
     "shell.execute_reply": "2023-04-27T11:31:26.851019Z",
     "shell.execute_reply.started": "2023-04-27T11:31:26.847145Z"
    },
    "id": "JneR0u0sYRTd"
   },
   "outputs": [],
   "source": [
    "ann.add(tf.keras.layers.Dense(units=6, activation='relu'))"
   ]
  },
  {
   "cell_type": "markdown",
   "metadata": {
    "colab_type": "text",
    "id": "OyNEe6RXYcU4"
   },
   "source": [
    "### Adding the output layer"
   ]
  },
  {
   "cell_type": "code",
   "execution_count": 15,
   "metadata": {
    "colab": {},
    "colab_type": "code",
    "execution": {
     "iopub.execute_input": "2023-04-27T11:31:27.169543Z",
     "iopub.status.busy": "2023-04-27T11:31:27.169297Z",
     "iopub.status.idle": "2023-04-27T11:31:27.173576Z",
     "shell.execute_reply": "2023-04-27T11:31:27.173043Z",
     "shell.execute_reply.started": "2023-04-27T11:31:27.169519Z"
    },
    "id": "Cn3x41RBYfvY"
   },
   "outputs": [],
   "source": [
    "ann.add(tf.keras.layers.Dense(units=1, activation='sigmoid'))"
   ]
  },
  {
   "cell_type": "markdown",
   "metadata": {
    "colab_type": "text",
    "id": "JT4u2S1_Y4WG"
   },
   "source": [
    "## Part 3 - Training the ANN"
   ]
  },
  {
   "cell_type": "markdown",
   "metadata": {
    "colab_type": "text",
    "id": "8GWlJChhY_ZI"
   },
   "source": [
    "### Compiling the ANN"
   ]
  },
  {
   "cell_type": "code",
   "execution_count": 16,
   "metadata": {
    "colab": {},
    "colab_type": "code",
    "execution": {
     "iopub.execute_input": "2023-04-27T11:31:27.695034Z",
     "iopub.status.busy": "2023-04-27T11:31:27.694804Z",
     "iopub.status.idle": "2023-04-27T11:31:27.799597Z",
     "shell.execute_reply": "2023-04-27T11:31:27.798538Z",
     "shell.execute_reply.started": "2023-04-27T11:31:27.695010Z"
    },
    "id": "fG3RrwDXZEaS"
   },
   "outputs": [],
   "source": [
    "ann.compile(optimizer = 'adam', loss = 'binary_crossentropy', metrics = ['accuracy'])"
   ]
  },
  {
   "cell_type": "markdown",
   "metadata": {
    "colab_type": "text",
    "id": "0QR_G5u7ZLSM"
   },
   "source": [
    "### Training the ANN on the Training set"
   ]
  },
  {
   "cell_type": "code",
   "execution_count": 17,
   "metadata": {
    "colab": {
     "base_uri": "https://localhost:8080/",
     "height": 1000
    },
    "colab_type": "code",
    "execution": {
     "iopub.execute_input": "2023-04-27T11:31:28.053995Z",
     "iopub.status.busy": "2023-04-27T11:31:28.053737Z",
     "iopub.status.idle": "2023-04-27T11:31:48.053706Z",
     "shell.execute_reply": "2023-04-27T11:31:48.052802Z",
     "shell.execute_reply.started": "2023-04-27T11:31:28.053965Z"
    },
    "id": "nHZ-LKv_ZRb3",
    "outputId": "718cc4b0-b5aa-40f0-9b20-d3d31730a531"
   },
   "outputs": [
    {
     "name": "stdout",
     "output_type": "stream",
     "text": [
      "Epoch 1/100\n",
      "250/250 [==============================] - 0s 835us/step - loss: 0.7257 - accuracy: 0.5419\n",
      "Epoch 2/100\n",
      "250/250 [==============================] - 0s 838us/step - loss: 0.4832 - accuracy: 0.7962\n",
      "Epoch 3/100\n",
      "250/250 [==============================] - 0s 831us/step - loss: 0.4552 - accuracy: 0.7991\n",
      "Epoch 4/100\n",
      "250/250 [==============================] - 0s 837us/step - loss: 0.4435 - accuracy: 0.8021\n",
      "Epoch 5/100\n",
      "250/250 [==============================] - 0s 812us/step - loss: 0.4363 - accuracy: 0.8040\n",
      "Epoch 6/100\n",
      "250/250 [==============================] - 0s 722us/step - loss: 0.4303 - accuracy: 0.8074\n",
      "Epoch 7/100\n",
      "250/250 [==============================] - 0s 743us/step - loss: 0.4233 - accuracy: 0.8096\n",
      "Epoch 8/100\n",
      "250/250 [==============================] - 0s 696us/step - loss: 0.4153 - accuracy: 0.8166\n",
      "Epoch 9/100\n",
      "250/250 [==============================] - 0s 760us/step - loss: 0.4050 - accuracy: 0.8239\n",
      "Epoch 10/100\n",
      "250/250 [==============================] - 0s 746us/step - loss: 0.3917 - accuracy: 0.8316\n",
      "Epoch 11/100\n",
      "250/250 [==============================] - 0s 815us/step - loss: 0.3764 - accuracy: 0.8429\n",
      "Epoch 12/100\n",
      "250/250 [==============================] - 0s 705us/step - loss: 0.3632 - accuracy: 0.8514\n",
      "Epoch 13/100\n",
      "250/250 [==============================] - 0s 795us/step - loss: 0.3550 - accuracy: 0.8561\n",
      "Epoch 14/100\n",
      "250/250 [==============================] - 0s 796us/step - loss: 0.3503 - accuracy: 0.8559\n",
      "Epoch 15/100\n",
      "250/250 [==============================] - 0s 771us/step - loss: 0.3468 - accuracy: 0.8586\n",
      "Epoch 16/100\n",
      "250/250 [==============================] - 0s 761us/step - loss: 0.3447 - accuracy: 0.8587\n",
      "Epoch 17/100\n",
      "250/250 [==============================] - 0s 714us/step - loss: 0.3431 - accuracy: 0.8605\n",
      "Epoch 18/100\n",
      "250/250 [==============================] - 0s 756us/step - loss: 0.3419 - accuracy: 0.8591\n",
      "Epoch 19/100\n",
      "250/250 [==============================] - 0s 730us/step - loss: 0.3408 - accuracy: 0.8604\n",
      "Epoch 20/100\n",
      "250/250 [==============================] - 0s 740us/step - loss: 0.3401 - accuracy: 0.8602\n",
      "Epoch 21/100\n",
      "250/250 [==============================] - 0s 849us/step - loss: 0.3395 - accuracy: 0.8627\n",
      "Epoch 22/100\n",
      "250/250 [==============================] - 0s 727us/step - loss: 0.3387 - accuracy: 0.8639\n",
      "Epoch 23/100\n",
      "250/250 [==============================] - 0s 708us/step - loss: 0.3387 - accuracy: 0.8606\n",
      "Epoch 24/100\n",
      "250/250 [==============================] - 0s 797us/step - loss: 0.3377 - accuracy: 0.8605\n",
      "Epoch 25/100\n",
      "250/250 [==============================] - 0s 944us/step - loss: 0.3374 - accuracy: 0.8633\n",
      "Epoch 26/100\n",
      "250/250 [==============================] - 0s 690us/step - loss: 0.3371 - accuracy: 0.8627\n",
      "Epoch 27/100\n",
      "250/250 [==============================] - 0s 933us/step - loss: 0.3371 - accuracy: 0.8616\n",
      "Epoch 28/100\n",
      "250/250 [==============================] - 0s 753us/step - loss: 0.3363 - accuracy: 0.8620\n",
      "Epoch 29/100\n",
      "250/250 [==============================] - 0s 715us/step - loss: 0.3358 - accuracy: 0.8618\n",
      "Epoch 30/100\n",
      "250/250 [==============================] - 0s 754us/step - loss: 0.3352 - accuracy: 0.8634\n",
      "Epoch 31/100\n",
      "250/250 [==============================] - 0s 754us/step - loss: 0.3354 - accuracy: 0.8639\n",
      "Epoch 32/100\n",
      "250/250 [==============================] - 0s 725us/step - loss: 0.3348 - accuracy: 0.8631\n",
      "Epoch 33/100\n",
      "250/250 [==============================] - 0s 768us/step - loss: 0.3340 - accuracy: 0.8643\n",
      "Epoch 34/100\n",
      "250/250 [==============================] - 0s 771us/step - loss: 0.3345 - accuracy: 0.8637\n",
      "Epoch 35/100\n",
      "250/250 [==============================] - 0s 700us/step - loss: 0.3339 - accuracy: 0.8640\n",
      "Epoch 36/100\n",
      "250/250 [==============================] - 0s 743us/step - loss: 0.3340 - accuracy: 0.8629\n",
      "Epoch 37/100\n",
      "250/250 [==============================] - 0s 787us/step - loss: 0.3340 - accuracy: 0.8630\n",
      "Epoch 38/100\n",
      "250/250 [==============================] - 0s 743us/step - loss: 0.3335 - accuracy: 0.8622\n",
      "Epoch 39/100\n",
      "250/250 [==============================] - 0s 765us/step - loss: 0.3334 - accuracy: 0.8633\n",
      "Epoch 40/100\n",
      "250/250 [==============================] - 0s 785us/step - loss: 0.3337 - accuracy: 0.8627\n",
      "Epoch 41/100\n",
      "250/250 [==============================] - 0s 723us/step - loss: 0.3335 - accuracy: 0.8625\n",
      "Epoch 42/100\n",
      "250/250 [==============================] - 0s 775us/step - loss: 0.3332 - accuracy: 0.8635\n",
      "Epoch 43/100\n",
      "250/250 [==============================] - 0s 738us/step - loss: 0.3332 - accuracy: 0.8634\n",
      "Epoch 44/100\n",
      "250/250 [==============================] - 0s 743us/step - loss: 0.3336 - accuracy: 0.8639\n",
      "Epoch 45/100\n",
      "250/250 [==============================] - 0s 696us/step - loss: 0.3330 - accuracy: 0.8644\n",
      "Epoch 46/100\n",
      "250/250 [==============================] - 0s 770us/step - loss: 0.3330 - accuracy: 0.8634\n",
      "Epoch 47/100\n",
      "250/250 [==============================] - 0s 779us/step - loss: 0.3330 - accuracy: 0.8622\n",
      "Epoch 48/100\n",
      "250/250 [==============================] - 0s 800us/step - loss: 0.3333 - accuracy: 0.8631\n",
      "Epoch 49/100\n",
      "250/250 [==============================] - 0s 621us/step - loss: 0.3327 - accuracy: 0.8648\n",
      "Epoch 50/100\n",
      "250/250 [==============================] - 0s 751us/step - loss: 0.3326 - accuracy: 0.8631\n",
      "Epoch 51/100\n",
      "250/250 [==============================] - 0s 748us/step - loss: 0.3327 - accuracy: 0.8631\n",
      "Epoch 52/100\n",
      "250/250 [==============================] - 0s 761us/step - loss: 0.3329 - accuracy: 0.8622\n",
      "Epoch 53/100\n",
      "250/250 [==============================] - 0s 782us/step - loss: 0.3327 - accuracy: 0.8629\n",
      "Epoch 54/100\n",
      "250/250 [==============================] - 0s 736us/step - loss: 0.3324 - accuracy: 0.8633\n",
      "Epoch 55/100\n",
      "250/250 [==============================] - 0s 767us/step - loss: 0.3323 - accuracy: 0.8634\n",
      "Epoch 56/100\n",
      "250/250 [==============================] - 0s 722us/step - loss: 0.3325 - accuracy: 0.8620\n",
      "Epoch 57/100\n",
      "250/250 [==============================] - 0s 845us/step - loss: 0.3319 - accuracy: 0.8626\n",
      "Epoch 58/100\n",
      "250/250 [==============================] - 0s 747us/step - loss: 0.3323 - accuracy: 0.8635\n",
      "Epoch 59/100\n",
      "250/250 [==============================] - 0s 779us/step - loss: 0.3320 - accuracy: 0.8629\n",
      "Epoch 60/100\n",
      "250/250 [==============================] - 0s 861us/step - loss: 0.3319 - accuracy: 0.8630\n",
      "Epoch 61/100\n",
      "250/250 [==============================] - 0s 800us/step - loss: 0.3319 - accuracy: 0.8630\n",
      "Epoch 62/100\n",
      "250/250 [==============================] - 0s 804us/step - loss: 0.3324 - accuracy: 0.8619\n",
      "Epoch 63/100\n",
      "250/250 [==============================] - 0s 772us/step - loss: 0.3318 - accuracy: 0.8633\n",
      "Epoch 64/100\n",
      "250/250 [==============================] - 0s 748us/step - loss: 0.3317 - accuracy: 0.8620\n",
      "Epoch 65/100\n",
      "250/250 [==============================] - 0s 750us/step - loss: 0.3318 - accuracy: 0.8626\n",
      "Epoch 66/100\n",
      "250/250 [==============================] - 0s 776us/step - loss: 0.3316 - accuracy: 0.8646\n",
      "Epoch 67/100\n",
      "250/250 [==============================] - 0s 770us/step - loss: 0.3316 - accuracy: 0.8630\n",
      "Epoch 68/100\n",
      "250/250 [==============================] - 0s 735us/step - loss: 0.3309 - accuracy: 0.8639\n",
      "Epoch 69/100\n",
      "250/250 [==============================] - 0s 758us/step - loss: 0.3316 - accuracy: 0.8640\n",
      "Epoch 70/100\n",
      "250/250 [==============================] - 0s 768us/step - loss: 0.3318 - accuracy: 0.8639\n",
      "Epoch 71/100\n",
      "250/250 [==============================] - 0s 775us/step - loss: 0.3316 - accuracy: 0.8619\n",
      "Epoch 72/100\n",
      "250/250 [==============================] - 0s 699us/step - loss: 0.3313 - accuracy: 0.8620\n",
      "Epoch 73/100\n",
      "250/250 [==============================] - 0s 795us/step - loss: 0.3311 - accuracy: 0.8610\n",
      "Epoch 74/100\n",
      "250/250 [==============================] - 0s 822us/step - loss: 0.3312 - accuracy: 0.8634\n",
      "Epoch 75/100\n",
      "250/250 [==============================] - 0s 695us/step - loss: 0.3312 - accuracy: 0.8629\n",
      "Epoch 76/100\n",
      "250/250 [==============================] - 0s 787us/step - loss: 0.3310 - accuracy: 0.8640\n",
      "Epoch 77/100\n",
      "250/250 [==============================] - 0s 753us/step - loss: 0.3311 - accuracy: 0.8634\n",
      "Epoch 78/100\n",
      "250/250 [==============================] - 0s 903us/step - loss: 0.3313 - accuracy: 0.8649\n",
      "Epoch 79/100\n",
      "250/250 [==============================] - 0s 767us/step - loss: 0.3311 - accuracy: 0.8641\n",
      "Epoch 80/100\n",
      "250/250 [==============================] - 0s 763us/step - loss: 0.3307 - accuracy: 0.8649\n",
      "Epoch 81/100\n",
      "250/250 [==============================] - 0s 765us/step - loss: 0.3309 - accuracy: 0.8639\n",
      "Epoch 82/100\n",
      "250/250 [==============================] - 0s 699us/step - loss: 0.3310 - accuracy: 0.8651\n",
      "Epoch 83/100\n",
      "250/250 [==============================] - 0s 747us/step - loss: 0.3306 - accuracy: 0.8646\n",
      "Epoch 84/100\n",
      "250/250 [==============================] - 0s 671us/step - loss: 0.3305 - accuracy: 0.8665\n",
      "Epoch 85/100\n",
      "250/250 [==============================] - 0s 679us/step - loss: 0.3306 - accuracy: 0.8630\n",
      "Epoch 86/100\n",
      "250/250 [==============================] - 0s 782us/step - loss: 0.3309 - accuracy: 0.8633\n",
      "Epoch 87/100\n",
      "250/250 [==============================] - 0s 766us/step - loss: 0.3308 - accuracy: 0.8622\n",
      "Epoch 88/100\n",
      "250/250 [==============================] - 0s 728us/step - loss: 0.3305 - accuracy: 0.8640\n",
      "Epoch 89/100\n",
      "250/250 [==============================] - 0s 757us/step - loss: 0.3305 - accuracy: 0.8631\n",
      "Epoch 90/100\n",
      "250/250 [==============================] - 0s 683us/step - loss: 0.3306 - accuracy: 0.8645\n",
      "Epoch 91/100\n",
      "250/250 [==============================] - 0s 818us/step - loss: 0.3304 - accuracy: 0.8645\n",
      "Epoch 92/100\n",
      "250/250 [==============================] - 0s 657us/step - loss: 0.3306 - accuracy: 0.8630\n",
      "Epoch 93/100\n",
      "250/250 [==============================] - 0s 761us/step - loss: 0.3305 - accuracy: 0.8636\n",
      "Epoch 94/100\n",
      "250/250 [==============================] - 0s 804us/step - loss: 0.3301 - accuracy: 0.8643\n",
      "Epoch 95/100\n",
      "250/250 [==============================] - 0s 881us/step - loss: 0.3307 - accuracy: 0.8622\n",
      "Epoch 96/100\n",
      "250/250 [==============================] - 0s 718us/step - loss: 0.3302 - accuracy: 0.8627\n",
      "Epoch 97/100\n",
      "250/250 [==============================] - 0s 672us/step - loss: 0.3305 - accuracy: 0.8648\n",
      "Epoch 98/100\n",
      "250/250 [==============================] - 0s 787us/step - loss: 0.3302 - accuracy: 0.8636\n",
      "Epoch 99/100\n",
      "250/250 [==============================] - 0s 743us/step - loss: 0.3304 - accuracy: 0.8636\n",
      "Epoch 100/100\n",
      "250/250 [==============================] - 0s 766us/step - loss: 0.3302 - accuracy: 0.8635\n"
     ]
    },
    {
     "data": {
      "text/plain": [
       "<tensorflow.python.keras.callbacks.History at 0x7fb2ea8ac588>"
      ]
     },
     "execution_count": 17,
     "metadata": {},
     "output_type": "execute_result"
    }
   ],
   "source": [
    "ann.fit(X_train, y_train, batch_size = 32, epochs = 100)"
   ]
  },
  {
   "cell_type": "markdown",
   "metadata": {
    "colab_type": "text",
    "id": "tJj5k2MxZga3"
   },
   "source": [
    "## Part 4 - Making the predictions and evaluating the model"
   ]
  },
  {
   "cell_type": "markdown",
   "metadata": {
    "colab_type": "text",
    "id": "84QFoqGYeXHL"
   },
   "source": [
    "### Predicting the result of a single observation"
   ]
  },
  {
   "cell_type": "markdown",
   "metadata": {
    "colab_type": "text",
    "id": "CGRo3eacgDdC"
   },
   "source": [
    "**Homework**\n",
    "\n",
    "Use our ANN model to predict if the customer with the following informations will leave the bank: \n",
    "\n",
    "Geography: France\n",
    "\n",
    "Credit Score: 600\n",
    "\n",
    "Gender: Male\n",
    "\n",
    "Age: 40 years old\n",
    "\n",
    "Tenure: 3 years\n",
    "\n",
    "Balance: \\$ 60000\n",
    "\n",
    "Number of Products: 2\n",
    "\n",
    "Does this customer have a credit card ? Yes\n",
    "\n",
    "Is this customer an Active Member: Yes\n",
    "\n",
    "Estimated Salary: \\$ 50000\n",
    "\n",
    "So, should we say goodbye to that customer ?"
   ]
  },
  {
   "cell_type": "markdown",
   "metadata": {
    "colab_type": "text",
    "id": "ZhU1LTgPg-kH"
   },
   "source": [
    "**Solution**"
   ]
  },
  {
   "cell_type": "code",
   "execution_count": 18,
   "metadata": {
    "colab": {
     "base_uri": "https://localhost:8080/",
     "height": 34
    },
    "colab_type": "code",
    "execution": {
     "iopub.execute_input": "2023-04-27T11:31:48.055375Z",
     "iopub.status.busy": "2023-04-27T11:31:48.055173Z",
     "iopub.status.idle": "2023-04-27T11:31:48.196846Z",
     "shell.execute_reply": "2023-04-27T11:31:48.195880Z",
     "shell.execute_reply.started": "2023-04-27T11:31:48.055349Z"
    },
    "id": "2d8IoCCkeWGL",
    "outputId": "957f3970-e197-4c3b-a150-7f69dc567f5d"
   },
   "outputs": [
    {
     "name": "stdout",
     "output_type": "stream",
     "text": [
      "[[False]]\n"
     ]
    }
   ],
   "source": [
    "print(ann.predict(sc.transform([[1, 0, 0, 600, 1, 40, 3, 60000, 2, 1, 1, 50000]])) > 0.5)"
   ]
  },
  {
   "cell_type": "markdown",
   "metadata": {
    "colab_type": "text",
    "id": "wGjx94g2n7OV"
   },
   "source": [
    "Therefore, our ANN model predicts that this customer stays in the bank!\n",
    "\n",
    "**Important note 1:** Notice that the values of the features were all input in a double pair of square brackets. That's because the \"predict\" method always expects a 2D array as the format of its inputs. And putting our values into a double pair of square brackets makes the input exactly a 2D array.\n",
    "\n",
    "**Important note 2:** Notice also that the \"France\" country was not input as a string in the last column but as \"1, 0, 0\" in the first three columns. That's because of course the predict method expects the one-hot-encoded values of the state, and as we see in the first row of the matrix of features X, \"France\" was encoded as \"1, 0, 0\". And be careful to include these values in the first three columns, because the dummy variables are always created in the first columns."
   ]
  },
  {
   "cell_type": "markdown",
   "metadata": {
    "colab_type": "text",
    "id": "u7yx47jPZt11"
   },
   "source": [
    "### Predicting the Test set results"
   ]
  },
  {
   "cell_type": "code",
   "execution_count": 19,
   "metadata": {
    "colab": {
     "base_uri": "https://localhost:8080/",
     "height": 137
    },
    "colab_type": "code",
    "execution": {
     "iopub.execute_input": "2023-04-27T11:31:48.198745Z",
     "iopub.status.busy": "2023-04-27T11:31:48.198525Z",
     "iopub.status.idle": "2023-04-27T11:31:48.279614Z",
     "shell.execute_reply": "2023-04-27T11:31:48.278419Z",
     "shell.execute_reply.started": "2023-04-27T11:31:48.198716Z"
    },
    "id": "nIyEeQdRZwgs",
    "outputId": "82330ba8-9bdc-4fd1-d3cf-b6d78ee7c2a3"
   },
   "outputs": [
    {
     "name": "stdout",
     "output_type": "stream",
     "text": [
      "[[0 0]\n",
      " [0 1]\n",
      " [0 0]\n",
      " ...\n",
      " [0 0]\n",
      " [0 0]\n",
      " [0 0]]\n"
     ]
    }
   ],
   "source": [
    "y_pred = ann.predict(X_test)\n",
    "y_pred = (y_pred > 0.5)\n",
    "print(np.concatenate((y_pred.reshape(len(y_pred),1), y_test.reshape(len(y_test),1)),1))"
   ]
  },
  {
   "cell_type": "markdown",
   "metadata": {
    "colab_type": "text",
    "id": "o0oyfLWoaEGw"
   },
   "source": [
    "### Making the Confusion Matrix"
   ]
  },
  {
   "cell_type": "code",
   "execution_count": 20,
   "metadata": {
    "colab": {
     "base_uri": "https://localhost:8080/",
     "height": 68
    },
    "colab_type": "code",
    "execution": {
     "iopub.execute_input": "2023-04-27T11:31:48.281694Z",
     "iopub.status.busy": "2023-04-27T11:31:48.281397Z",
     "iopub.status.idle": "2023-04-27T11:31:48.297584Z",
     "shell.execute_reply": "2023-04-27T11:31:48.296789Z",
     "shell.execute_reply.started": "2023-04-27T11:31:48.281648Z"
    },
    "id": "ci6K_r6LaF6P",
    "outputId": "4d854e9e-22d5-432f-f6e5-a102fe3ae0bd"
   },
   "outputs": [
    {
     "name": "stdout",
     "output_type": "stream",
     "text": [
      "[[1527   68]\n",
      " [ 208  197]]\n"
     ]
    },
    {
     "data": {
      "text/plain": [
       "0.862"
      ]
     },
     "execution_count": 20,
     "metadata": {},
     "output_type": "execute_result"
    }
   ],
   "source": [
    "from sklearn.metrics import confusion_matrix, accuracy_score\n",
    "cm = confusion_matrix(y_test, y_pred)\n",
    "print(cm)\n",
    "accuracy_score(y_test, y_pred)"
   ]
  },
  {
   "cell_type": "code",
   "execution_count": null,
   "metadata": {},
   "outputs": [],
   "source": []
  }
 ],
 "metadata": {
  "colab": {
   "collapsed_sections": [],
   "name": "artificial_neural_network.ipynb",
   "provenance": [],
   "toc_visible": true
  },
  "kernelspec": {
   "display_name": "Python 3",
   "language": "python",
   "name": "python3"
  },
  "language_info": {
   "codemirror_mode": {
    "name": "ipython",
    "version": 3
   },
   "file_extension": ".py",
   "mimetype": "text/x-python",
   "name": "python",
   "nbconvert_exporter": "python",
   "pygments_lexer": "ipython3",
   "version": "3.6.13"
  }
 },
 "nbformat": 4,
 "nbformat_minor": 4
}
